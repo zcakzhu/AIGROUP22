{
 "cells": [
  {
   "cell_type": "code",
   "execution_count": 3,
   "metadata": {},
   "outputs": [],
   "source": [
    "import numpy as np\n",
    "import pandas as pd\n",
    "from sklearn.utils import resample\n",
    "import matplotlib.pyplot as plt\n",
    "from sklearn.feature_extraction.text import CountVectorizer\n",
    "from sklearn.model_selection import GridSearchCV\n",
    "from sklearn.linear_model import LogisticRegression\n",
    "from sklearn.metrics import accuracy_score\n",
    "from sklearn.metrics import roc_auc_score\n",
    "from sklearn.metrics import roc_curve\n",
    "from sklearn import ensemble\n",
    "from sklearn.ensemble import GradientBoostingClassifier\n",
    "\n",
    "import warnings\n",
    "warnings.filterwarnings(\"ignore\")\n",
    "\n",
    "%matplotlib inline\n",
    "\n",
    "# Displaying all columns and rows \n",
    "pd.options.display.max_columns = 10000\n",
    "pd.options.display.max_rows = 10000000"
   ]
  },
  {
   "cell_type": "markdown",
   "metadata": {},
   "source": [
    "# 1. Importing Data"
   ]
  },
  {
   "cell_type": "code",
   "execution_count": 20,
   "metadata": {},
   "outputs": [],
   "source": [
    "train = pd.read_csv(\"train.csv\") \n",
    "valid = pd.read_csv(\"validation.csv\") "
   ]
  },
  {
   "cell_type": "code",
   "execution_count": 8,
   "metadata": {},
   "outputs": [
    {
     "data": {
      "text/html": [
       "<div>\n",
       "<style scoped>\n",
       "    .dataframe tbody tr th:only-of-type {\n",
       "        vertical-align: middle;\n",
       "    }\n",
       "\n",
       "    .dataframe tbody tr th {\n",
       "        vertical-align: top;\n",
       "    }\n",
       "\n",
       "    .dataframe thead th {\n",
       "        text-align: right;\n",
       "    }\n",
       "</style>\n",
       "<table border=\"1\" class=\"dataframe\">\n",
       "  <thead>\n",
       "    <tr style=\"text-align: right;\">\n",
       "      <th></th>\n",
       "      <th>click</th>\n",
       "      <th>weekday</th>\n",
       "      <th>hour</th>\n",
       "      <th>bidid</th>\n",
       "      <th>userid</th>\n",
       "      <th>useragent</th>\n",
       "      <th>IP</th>\n",
       "      <th>region</th>\n",
       "      <th>city</th>\n",
       "      <th>adexchange</th>\n",
       "      <th>domain</th>\n",
       "      <th>url</th>\n",
       "      <th>urlid</th>\n",
       "      <th>slotid</th>\n",
       "      <th>slotwidth</th>\n",
       "      <th>slotheight</th>\n",
       "      <th>slotvisibility</th>\n",
       "      <th>slotformat</th>\n",
       "      <th>slotprice</th>\n",
       "      <th>creative</th>\n",
       "      <th>bidprice</th>\n",
       "      <th>payprice</th>\n",
       "      <th>keypage</th>\n",
       "      <th>advertiser</th>\n",
       "      <th>usertag</th>\n",
       "    </tr>\n",
       "  </thead>\n",
       "  <tbody>\n",
       "    <tr>\n",
       "      <th>0</th>\n",
       "      <td>0</td>\n",
       "      <td>5</td>\n",
       "      <td>22</td>\n",
       "      <td>b7bea80521fdecd95d2d761a38c91c3f09618066</td>\n",
       "      <td>2e880fb7d690cf7377b2e42e701728e3f3c0e4c1</td>\n",
       "      <td>windows_ie</td>\n",
       "      <td>125.37.175.*</td>\n",
       "      <td>2</td>\n",
       "      <td>2</td>\n",
       "      <td>2.0</td>\n",
       "      <td>trqRTvKaXTKfgg24JKTI</td>\n",
       "      <td>6447a7dfa30fe6eb410c91860e7c9b45</td>\n",
       "      <td>NaN</td>\n",
       "      <td>2015392487</td>\n",
       "      <td>200</td>\n",
       "      <td>200</td>\n",
       "      <td>2</td>\n",
       "      <td>0</td>\n",
       "      <td>5</td>\n",
       "      <td>a4f763f78ef3eedfe614263b94a8924e</td>\n",
       "      <td>238</td>\n",
       "      <td>5</td>\n",
       "      <td>0f951a030abdaedd733ee8d114ce2944</td>\n",
       "      <td>3427</td>\n",
       "      <td>NaN</td>\n",
       "    </tr>\n",
       "    <tr>\n",
       "      <th>1</th>\n",
       "      <td>0</td>\n",
       "      <td>1</td>\n",
       "      <td>20</td>\n",
       "      <td>4f51205475678f5a124bc76b2c54163bf8eaa7eb</td>\n",
       "      <td>3a1fe01360ff8100e7d006b83b77a3e4c01d928c</td>\n",
       "      <td>windows_chrome</td>\n",
       "      <td>171.36.92.*</td>\n",
       "      <td>238</td>\n",
       "      <td>239</td>\n",
       "      <td>1.0</td>\n",
       "      <td>20fc675468712705dbf5d3eda94126da</td>\n",
       "      <td>3ddf173a94bd23c326683b6373c75dd4</td>\n",
       "      <td>NaN</td>\n",
       "      <td>mm_10982364_973726_8930541</td>\n",
       "      <td>300</td>\n",
       "      <td>250</td>\n",
       "      <td>FourthView</td>\n",
       "      <td>Na</td>\n",
       "      <td>0</td>\n",
       "      <td>10722</td>\n",
       "      <td>294</td>\n",
       "      <td>23</td>\n",
       "      <td>NaN</td>\n",
       "      <td>2821</td>\n",
       "      <td>NaN</td>\n",
       "    </tr>\n",
       "    <tr>\n",
       "      <th>2</th>\n",
       "      <td>0</td>\n",
       "      <td>3</td>\n",
       "      <td>13</td>\n",
       "      <td>b604e3fd054a658ab7ced4285ebf2ef54d2bd890</td>\n",
       "      <td>801d18a056b6fe6b06a794aef17fb0d6daff2414</td>\n",
       "      <td>windows_ie</td>\n",
       "      <td>59.46.106.*</td>\n",
       "      <td>40</td>\n",
       "      <td>41</td>\n",
       "      <td>2.0</td>\n",
       "      <td>trqRTJn7O95I1mKYUV</td>\n",
       "      <td>625d1b5916ea925332c7b326c0574cfa</td>\n",
       "      <td>NaN</td>\n",
       "      <td>1720123646</td>\n",
       "      <td>250</td>\n",
       "      <td>250</td>\n",
       "      <td>2</td>\n",
       "      <td>0</td>\n",
       "      <td>5</td>\n",
       "      <td>798b2d49952d77f1eace9f23c210d0b5</td>\n",
       "      <td>238</td>\n",
       "      <td>24</td>\n",
       "      <td>0f951a030abdaedd733ee8d114ce2944</td>\n",
       "      <td>3427</td>\n",
       "      <td>10052,10006,13866,10110</td>\n",
       "    </tr>\n",
       "    <tr>\n",
       "      <th>3</th>\n",
       "      <td>0</td>\n",
       "      <td>6</td>\n",
       "      <td>23</td>\n",
       "      <td>0348beeae93e561584c3b50fc9e7746a33048ad7</td>\n",
       "      <td>0d6eaf2259699990e38a1fc5116f112070b9ecdc</td>\n",
       "      <td>windows_ie</td>\n",
       "      <td>114.250.226.*</td>\n",
       "      <td>1</td>\n",
       "      <td>1</td>\n",
       "      <td>1.0</td>\n",
       "      <td>5F97t5E0BTK7XhNrUMpENpn</td>\n",
       "      <td>dedc488b98ca20707bc9a723957e7d1f</td>\n",
       "      <td>NaN</td>\n",
       "      <td>mm_10027070_118039_10308280</td>\n",
       "      <td>160</td>\n",
       "      <td>600</td>\n",
       "      <td>2</td>\n",
       "      <td>1</td>\n",
       "      <td>0</td>\n",
       "      <td>cb7c76e7784031272e37af8e7e9b062c</td>\n",
       "      <td>300</td>\n",
       "      <td>25</td>\n",
       "      <td>bebefa5efe83beee17a3d245e7c5085b</td>\n",
       "      <td>1458</td>\n",
       "      <td>13866,10063,10111</td>\n",
       "    </tr>\n",
       "    <tr>\n",
       "      <th>4</th>\n",
       "      <td>0</td>\n",
       "      <td>5</td>\n",
       "      <td>6</td>\n",
       "      <td>268149c1789bce2bc9798ffd97ec431219bafeb3</td>\n",
       "      <td>a239d9bb642460d974ba67f85e63b8d3e214da0e</td>\n",
       "      <td>windows_ie</td>\n",
       "      <td>183.63.192.*</td>\n",
       "      <td>216</td>\n",
       "      <td>233</td>\n",
       "      <td>2.0</td>\n",
       "      <td>13625cb070ffb306b425cd803c4b7ab4</td>\n",
       "      <td>4199d1227c511fc776b76594dabff9f8</td>\n",
       "      <td>NaN</td>\n",
       "      <td>1120200150</td>\n",
       "      <td>728</td>\n",
       "      <td>90</td>\n",
       "      <td>OtherView</td>\n",
       "      <td>Na</td>\n",
       "      <td>133</td>\n",
       "      <td>7330</td>\n",
       "      <td>277</td>\n",
       "      <td>133</td>\n",
       "      <td>NaN</td>\n",
       "      <td>2259</td>\n",
       "      <td>NaN</td>\n",
       "    </tr>\n",
       "  </tbody>\n",
       "</table>\n",
       "</div>"
      ],
      "text/plain": [
       "   click  weekday  hour                                     bidid  \\\n",
       "0      0        5    22  b7bea80521fdecd95d2d761a38c91c3f09618066   \n",
       "1      0        1    20  4f51205475678f5a124bc76b2c54163bf8eaa7eb   \n",
       "2      0        3    13  b604e3fd054a658ab7ced4285ebf2ef54d2bd890   \n",
       "3      0        6    23  0348beeae93e561584c3b50fc9e7746a33048ad7   \n",
       "4      0        5     6  268149c1789bce2bc9798ffd97ec431219bafeb3   \n",
       "\n",
       "                                     userid       useragent             IP  \\\n",
       "0  2e880fb7d690cf7377b2e42e701728e3f3c0e4c1      windows_ie   125.37.175.*   \n",
       "1  3a1fe01360ff8100e7d006b83b77a3e4c01d928c  windows_chrome    171.36.92.*   \n",
       "2  801d18a056b6fe6b06a794aef17fb0d6daff2414      windows_ie    59.46.106.*   \n",
       "3  0d6eaf2259699990e38a1fc5116f112070b9ecdc      windows_ie  114.250.226.*   \n",
       "4  a239d9bb642460d974ba67f85e63b8d3e214da0e      windows_ie   183.63.192.*   \n",
       "\n",
       "   region  city  adexchange                            domain  \\\n",
       "0       2     2         2.0              trqRTvKaXTKfgg24JKTI   \n",
       "1     238   239         1.0  20fc675468712705dbf5d3eda94126da   \n",
       "2      40    41         2.0                trqRTJn7O95I1mKYUV   \n",
       "3       1     1         1.0           5F97t5E0BTK7XhNrUMpENpn   \n",
       "4     216   233         2.0  13625cb070ffb306b425cd803c4b7ab4   \n",
       "\n",
       "                                url  urlid                       slotid  \\\n",
       "0  6447a7dfa30fe6eb410c91860e7c9b45    NaN                   2015392487   \n",
       "1  3ddf173a94bd23c326683b6373c75dd4    NaN   mm_10982364_973726_8930541   \n",
       "2  625d1b5916ea925332c7b326c0574cfa    NaN                   1720123646   \n",
       "3  dedc488b98ca20707bc9a723957e7d1f    NaN  mm_10027070_118039_10308280   \n",
       "4  4199d1227c511fc776b76594dabff9f8    NaN                   1120200150   \n",
       "\n",
       "   slotwidth  slotheight slotvisibility slotformat  slotprice  \\\n",
       "0        200         200              2          0          5   \n",
       "1        300         250     FourthView         Na          0   \n",
       "2        250         250              2          0          5   \n",
       "3        160         600              2          1          0   \n",
       "4        728          90      OtherView         Na        133   \n",
       "\n",
       "                           creative  bidprice  payprice  \\\n",
       "0  a4f763f78ef3eedfe614263b94a8924e       238         5   \n",
       "1                             10722       294        23   \n",
       "2  798b2d49952d77f1eace9f23c210d0b5       238        24   \n",
       "3  cb7c76e7784031272e37af8e7e9b062c       300        25   \n",
       "4                              7330       277       133   \n",
       "\n",
       "                            keypage  advertiser                  usertag  \n",
       "0  0f951a030abdaedd733ee8d114ce2944        3427                      NaN  \n",
       "1                               NaN        2821                      NaN  \n",
       "2  0f951a030abdaedd733ee8d114ce2944        3427  10052,10006,13866,10110  \n",
       "3  bebefa5efe83beee17a3d245e7c5085b        1458        13866,10063,10111  \n",
       "4                               NaN        2259                      NaN  "
      ]
     },
     "execution_count": 8,
     "metadata": {},
     "output_type": "execute_result"
    }
   ],
   "source": [
    "train.head()"
   ]
  },
  {
   "cell_type": "code",
   "execution_count": 9,
   "metadata": {},
   "outputs": [],
   "source": [
    "#train.shape"
   ]
  },
  {
   "cell_type": "code",
   "execution_count": 10,
   "metadata": {},
   "outputs": [],
   "source": [
    "#valid.head()"
   ]
  },
  {
   "cell_type": "code",
   "execution_count": 11,
   "metadata": {},
   "outputs": [],
   "source": [
    "#valid.shape"
   ]
  },
  {
   "cell_type": "markdown",
   "metadata": {},
   "source": [
    "Testing set does not have click, bidprice and payprice"
   ]
  },
  {
   "cell_type": "markdown",
   "metadata": {},
   "source": [
    "# 2. Data Pre-Processing"
   ]
  },
  {
   "cell_type": "code",
   "execution_count": 12,
   "metadata": {},
   "outputs": [],
   "source": [
    "def preprocess(data, enforce_cols=None):\n",
    "    ############### Handling useragent ################\n",
    "    useragent_data= data['useragent'].str.split(\"_\", n = 1, expand = True) \n",
    "    data['agent']= useragent_data[0] \n",
    "    data['browser']= useragent_data[1] \n",
    "    data.drop(columns =['useragent'], inplace = True) \n",
    "    \n",
    "    ############# Computing a New Varialbe: slotsize ###############\n",
    "    data['slotsize']=data.slotwidth*data.slotheight\n",
    "    \n",
    "    ############# Computing New Categorical Variables ###############\n",
    "    data.ix[data.hour.between(0, 3), 'hour_'] = 1\n",
    "    data.ix[data.hour.between(4, 7), 'hour_'] = 2\n",
    "    data.ix[data.hour.between(8, 11), 'hour_'] = 3\n",
    "    data.ix[data.hour.between(12, 15), 'hour_'] = 4\n",
    "    data.ix[data.hour.between(16, 19), 'hour_'] = 5\n",
    "    data.ix[data.hour.between(20, 23), 'hour_'] = 6\n",
    "    data['hour_'] = data['hour_'].astype(np.uint8)\n",
    "    \n",
    "    data.ix[data.slotprice.between(0, 18), 'slotprice_'] = 1\n",
    "    data.ix[data.slotprice.between(19, 67), 'slotprice_'] = 2\n",
    "    data.ix[data.slotprice.between(68, 309), 'slotprice_'] = 3\n",
    "    data.ix[data.slotprice.between(309, 1000000), 'slotprice_'] = 4\n",
    "    data['slotprice_'] = data['slotprice_'].astype(np.uint8)\n",
    "    \n",
    "    ############## Dummy Coding ####################\n",
    "    data = data.replace('Na',np.nan)\n",
    "    data_dummy = pd.get_dummies(data, columns=['weekday','region','city','adexchange',\n",
    "                                               'slotvisibility','slotformat','keypage',\n",
    "                                               'advertiser','agent','browser','slotsize','slotprice_','hour_'\n",
    "                                              ])\n",
    "\n",
    "    ############# Drop Unwanted Variables ################\n",
    "    data_dropped = data_dummy.drop(columns=['click','bidid', 'userid', 'IP','domain','url','urlid','slotid','bidprice',\n",
    "                                            'payprice','slotheight','slotwidth','slotprice','hour','creative'])\n",
    "    \n",
    "    ############ Fill in NaNs with 0s #############\n",
    "    data_na=data_dropped.fillna('0')\n",
    "    \n",
    "    ############ Handling usertag ################\n",
    "    # Create a dataframe spliting usertag into variables and count\n",
    "    usertag_= data_na.usertag.str.replace(',',' ')\n",
    "    vectorizer = CountVectorizer()\n",
    "    X = vectorizer.fit_transform(usertag_)\n",
    "    usertag_data = pd.DataFrame(data=X.toarray(), columns=vectorizer.get_feature_names())\n",
    "    # Combining the usertag dataframe with the original dataframe\n",
    "    data_final = pd.concat([data_na, usertag_data],sort=True,axis=1)\n",
    "    data_final = data_final.drop(columns=['usertag'])\n",
    "    \n",
    "    ###### Matching the number of variables in the validation set with the training set ######\n",
    "    #\"\"\"\"Reference: DrivenDataLabs, 2017, BENCHMARK FOR POVER-T TEST - PREDICTING POVERTY\n",
    "        #url: http://drivendata.co/blog/worldbank-poverty-benchmark/\"\"\"\"\n",
    "    if enforce_cols is not None:\n",
    "        drop = np.setdiff1d(data_final.columns, enforce_cols)\n",
    "        add = np.setdiff1d(enforce_cols, data_final.columns)\n",
    "\n",
    "        data_final.drop(drop, axis=1, inplace=True)\n",
    "        data_final = data_final.assign(**{c: 0 for c in add})\n",
    "    \n",
    "    print(data_final.shape)\n",
    "    \n",
    "    return data_final"
   ]
  },
  {
   "cell_type": "code",
   "execution_count": 13,
   "metadata": {
    "collapsed": true
   },
   "outputs": [
    {
     "ename": "KeyboardInterrupt",
     "evalue": "",
     "output_type": "error",
     "traceback": [
      "\u001b[0;31m---------------------------------------------------------------------------\u001b[0m",
      "\u001b[0;31mKeyboardInterrupt\u001b[0m                         Traceback (most recent call last)",
      "\u001b[0;32m<ipython-input-13-47690984447d>\u001b[0m in \u001b[0;36m<module>\u001b[0;34m\u001b[0m\n\u001b[0;32m----> 1\u001b[0;31m \u001b[0mtrain_new\u001b[0m \u001b[0;34m=\u001b[0m \u001b[0mpreprocess\u001b[0m\u001b[0;34m(\u001b[0m\u001b[0mtrain\u001b[0m\u001b[0;34m)\u001b[0m\u001b[0;34m\u001b[0m\u001b[0m\n\u001b[0m\u001b[1;32m      2\u001b[0m \u001b[0mvalid_new\u001b[0m \u001b[0;34m=\u001b[0m \u001b[0mpreprocess\u001b[0m\u001b[0;34m(\u001b[0m\u001b[0mvalid\u001b[0m\u001b[0;34m,\u001b[0m\u001b[0menforce_cols\u001b[0m\u001b[0;34m=\u001b[0m\u001b[0mtrain_new\u001b[0m\u001b[0;34m.\u001b[0m\u001b[0mcolumns\u001b[0m\u001b[0;34m)\u001b[0m\u001b[0;34m\u001b[0m\u001b[0m\n\u001b[1;32m      3\u001b[0m \u001b[0mvalid_new\u001b[0m \u001b[0;34m=\u001b[0m \u001b[0mvalid_new\u001b[0m\u001b[0;34m[\u001b[0m\u001b[0mtrain_new\u001b[0m\u001b[0;34m.\u001b[0m\u001b[0mcolumns\u001b[0m\u001b[0;34m]\u001b[0m\u001b[0;34m\u001b[0m\u001b[0m\n",
      "\u001b[0;32m<ipython-input-12-7cc97d2d30f7>\u001b[0m in \u001b[0;36mpreprocess\u001b[0;34m(data, enforce_cols)\u001b[0m\n\u001b[1;32m     11\u001b[0m     \u001b[0;31m############# Computing New Categorical Variables ###############\u001b[0m\u001b[0;34m\u001b[0m\u001b[0;34m\u001b[0m\u001b[0m\n\u001b[1;32m     12\u001b[0m     \u001b[0mdata\u001b[0m\u001b[0;34m.\u001b[0m\u001b[0mix\u001b[0m\u001b[0;34m[\u001b[0m\u001b[0mdata\u001b[0m\u001b[0;34m.\u001b[0m\u001b[0mhour\u001b[0m\u001b[0;34m.\u001b[0m\u001b[0mbetween\u001b[0m\u001b[0;34m(\u001b[0m\u001b[0;36m0\u001b[0m\u001b[0;34m,\u001b[0m \u001b[0;36m3\u001b[0m\u001b[0;34m)\u001b[0m\u001b[0;34m,\u001b[0m \u001b[0;34m'hour_'\u001b[0m\u001b[0;34m]\u001b[0m \u001b[0;34m=\u001b[0m \u001b[0;36m1\u001b[0m\u001b[0;34m\u001b[0m\u001b[0m\n\u001b[0;32m---> 13\u001b[0;31m     \u001b[0mdata\u001b[0m\u001b[0;34m.\u001b[0m\u001b[0mix\u001b[0m\u001b[0;34m[\u001b[0m\u001b[0mdata\u001b[0m\u001b[0;34m.\u001b[0m\u001b[0mhour\u001b[0m\u001b[0;34m.\u001b[0m\u001b[0mbetween\u001b[0m\u001b[0;34m(\u001b[0m\u001b[0;36m4\u001b[0m\u001b[0;34m,\u001b[0m \u001b[0;36m7\u001b[0m\u001b[0;34m)\u001b[0m\u001b[0;34m,\u001b[0m \u001b[0;34m'hour_'\u001b[0m\u001b[0;34m]\u001b[0m \u001b[0;34m=\u001b[0m \u001b[0;36m2\u001b[0m\u001b[0;34m\u001b[0m\u001b[0m\n\u001b[0m\u001b[1;32m     14\u001b[0m     \u001b[0mdata\u001b[0m\u001b[0;34m.\u001b[0m\u001b[0mix\u001b[0m\u001b[0;34m[\u001b[0m\u001b[0mdata\u001b[0m\u001b[0;34m.\u001b[0m\u001b[0mhour\u001b[0m\u001b[0;34m.\u001b[0m\u001b[0mbetween\u001b[0m\u001b[0;34m(\u001b[0m\u001b[0;36m8\u001b[0m\u001b[0;34m,\u001b[0m \u001b[0;36m11\u001b[0m\u001b[0;34m)\u001b[0m\u001b[0;34m,\u001b[0m \u001b[0;34m'hour_'\u001b[0m\u001b[0;34m]\u001b[0m \u001b[0;34m=\u001b[0m \u001b[0;36m3\u001b[0m\u001b[0;34m\u001b[0m\u001b[0m\n\u001b[1;32m     15\u001b[0m     \u001b[0mdata\u001b[0m\u001b[0;34m.\u001b[0m\u001b[0mix\u001b[0m\u001b[0;34m[\u001b[0m\u001b[0mdata\u001b[0m\u001b[0;34m.\u001b[0m\u001b[0mhour\u001b[0m\u001b[0;34m.\u001b[0m\u001b[0mbetween\u001b[0m\u001b[0;34m(\u001b[0m\u001b[0;36m12\u001b[0m\u001b[0;34m,\u001b[0m \u001b[0;36m15\u001b[0m\u001b[0;34m)\u001b[0m\u001b[0;34m,\u001b[0m \u001b[0;34m'hour_'\u001b[0m\u001b[0;34m]\u001b[0m \u001b[0;34m=\u001b[0m \u001b[0;36m4\u001b[0m\u001b[0;34m\u001b[0m\u001b[0m\n",
      "\u001b[0;32m~/anaconda3/lib/python3.6/site-packages/pandas/core/indexing.py\u001b[0m in \u001b[0;36m__setitem__\u001b[0;34m(self, key, value)\u001b[0m\n\u001b[1;32m    187\u001b[0m         \u001b[0;32melse\u001b[0m\u001b[0;34m:\u001b[0m\u001b[0;34m\u001b[0m\u001b[0m\n\u001b[1;32m    188\u001b[0m             \u001b[0mkey\u001b[0m \u001b[0;34m=\u001b[0m \u001b[0mcom\u001b[0m\u001b[0;34m.\u001b[0m\u001b[0mapply_if_callable\u001b[0m\u001b[0;34m(\u001b[0m\u001b[0mkey\u001b[0m\u001b[0;34m,\u001b[0m \u001b[0mself\u001b[0m\u001b[0;34m.\u001b[0m\u001b[0mobj\u001b[0m\u001b[0;34m)\u001b[0m\u001b[0;34m\u001b[0m\u001b[0m\n\u001b[0;32m--> 189\u001b[0;31m         \u001b[0mindexer\u001b[0m \u001b[0;34m=\u001b[0m \u001b[0mself\u001b[0m\u001b[0;34m.\u001b[0m\u001b[0m_get_setitem_indexer\u001b[0m\u001b[0;34m(\u001b[0m\u001b[0mkey\u001b[0m\u001b[0;34m)\u001b[0m\u001b[0;34m\u001b[0m\u001b[0m\n\u001b[0m\u001b[1;32m    190\u001b[0m         \u001b[0mself\u001b[0m\u001b[0;34m.\u001b[0m\u001b[0m_setitem_with_indexer\u001b[0m\u001b[0;34m(\u001b[0m\u001b[0mindexer\u001b[0m\u001b[0;34m,\u001b[0m \u001b[0mvalue\u001b[0m\u001b[0;34m)\u001b[0m\u001b[0;34m\u001b[0m\u001b[0m\n\u001b[1;32m    191\u001b[0m \u001b[0;34m\u001b[0m\u001b[0m\n",
      "\u001b[0;32m~/anaconda3/lib/python3.6/site-packages/pandas/core/indexing.py\u001b[0m in \u001b[0;36m_get_setitem_indexer\u001b[0;34m(self, key)\u001b[0m\n\u001b[1;32m    165\u001b[0m         \u001b[0;32mif\u001b[0m \u001b[0misinstance\u001b[0m\u001b[0;34m(\u001b[0m\u001b[0mkey\u001b[0m\u001b[0;34m,\u001b[0m \u001b[0mtuple\u001b[0m\u001b[0;34m)\u001b[0m\u001b[0;34m:\u001b[0m\u001b[0;34m\u001b[0m\u001b[0m\n\u001b[1;32m    166\u001b[0m             \u001b[0;32mtry\u001b[0m\u001b[0;34m:\u001b[0m\u001b[0;34m\u001b[0m\u001b[0m\n\u001b[0;32m--> 167\u001b[0;31m                 \u001b[0;32mreturn\u001b[0m \u001b[0mself\u001b[0m\u001b[0;34m.\u001b[0m\u001b[0m_convert_tuple\u001b[0m\u001b[0;34m(\u001b[0m\u001b[0mkey\u001b[0m\u001b[0;34m,\u001b[0m \u001b[0mis_setter\u001b[0m\u001b[0;34m=\u001b[0m\u001b[0;32mTrue\u001b[0m\u001b[0;34m)\u001b[0m\u001b[0;34m\u001b[0m\u001b[0m\n\u001b[0m\u001b[1;32m    168\u001b[0m             \u001b[0;32mexcept\u001b[0m \u001b[0mIndexingError\u001b[0m\u001b[0;34m:\u001b[0m\u001b[0;34m\u001b[0m\u001b[0m\n\u001b[1;32m    169\u001b[0m                 \u001b[0;32mpass\u001b[0m\u001b[0;34m\u001b[0m\u001b[0m\n",
      "\u001b[0;32m~/anaconda3/lib/python3.6/site-packages/pandas/core/indexing.py\u001b[0m in \u001b[0;36m_convert_tuple\u001b[0;34m(self, key, is_setter)\u001b[0m\n\u001b[1;32m    246\u001b[0m                 \u001b[0;32mif\u001b[0m \u001b[0mi\u001b[0m \u001b[0;34m>=\u001b[0m \u001b[0mself\u001b[0m\u001b[0;34m.\u001b[0m\u001b[0mobj\u001b[0m\u001b[0;34m.\u001b[0m\u001b[0mndim\u001b[0m\u001b[0;34m:\u001b[0m\u001b[0;34m\u001b[0m\u001b[0m\n\u001b[1;32m    247\u001b[0m                     \u001b[0;32mraise\u001b[0m \u001b[0mIndexingError\u001b[0m\u001b[0;34m(\u001b[0m\u001b[0;34m'Too many indexers'\u001b[0m\u001b[0;34m)\u001b[0m\u001b[0;34m\u001b[0m\u001b[0m\n\u001b[0;32m--> 248\u001b[0;31m                 \u001b[0midx\u001b[0m \u001b[0;34m=\u001b[0m \u001b[0mself\u001b[0m\u001b[0;34m.\u001b[0m\u001b[0m_convert_to_indexer\u001b[0m\u001b[0;34m(\u001b[0m\u001b[0mk\u001b[0m\u001b[0;34m,\u001b[0m \u001b[0maxis\u001b[0m\u001b[0;34m=\u001b[0m\u001b[0mi\u001b[0m\u001b[0;34m,\u001b[0m \u001b[0mis_setter\u001b[0m\u001b[0;34m=\u001b[0m\u001b[0mis_setter\u001b[0m\u001b[0;34m)\u001b[0m\u001b[0;34m\u001b[0m\u001b[0m\n\u001b[0m\u001b[1;32m    249\u001b[0m                 \u001b[0mkeyidx\u001b[0m\u001b[0;34m.\u001b[0m\u001b[0mappend\u001b[0m\u001b[0;34m(\u001b[0m\u001b[0midx\u001b[0m\u001b[0;34m)\u001b[0m\u001b[0;34m\u001b[0m\u001b[0m\n\u001b[1;32m    250\u001b[0m         \u001b[0;32mreturn\u001b[0m \u001b[0mtuple\u001b[0m\u001b[0;34m(\u001b[0m\u001b[0mkeyidx\u001b[0m\u001b[0;34m)\u001b[0m\u001b[0;34m\u001b[0m\u001b[0m\n",
      "\u001b[0;32m~/anaconda3/lib/python3.6/site-packages/pandas/core/indexing.py\u001b[0m in \u001b[0;36m_convert_to_indexer\u001b[0;34m(self, obj, axis, is_setter, raise_missing)\u001b[0m\n\u001b[1;32m   1308\u001b[0m         \u001b[0;31m# if we are a label return me\u001b[0m\u001b[0;34m\u001b[0m\u001b[0;34m\u001b[0m\u001b[0m\n\u001b[1;32m   1309\u001b[0m         \u001b[0;32mtry\u001b[0m\u001b[0;34m:\u001b[0m\u001b[0;34m\u001b[0m\u001b[0m\n\u001b[0;32m-> 1310\u001b[0;31m             \u001b[0;32mreturn\u001b[0m \u001b[0mlabels\u001b[0m\u001b[0;34m.\u001b[0m\u001b[0mget_loc\u001b[0m\u001b[0;34m(\u001b[0m\u001b[0mobj\u001b[0m\u001b[0;34m)\u001b[0m\u001b[0;34m\u001b[0m\u001b[0m\n\u001b[0m\u001b[1;32m   1311\u001b[0m         \u001b[0;32mexcept\u001b[0m \u001b[0mLookupError\u001b[0m\u001b[0;34m:\u001b[0m\u001b[0;34m\u001b[0m\u001b[0m\n\u001b[1;32m   1312\u001b[0m             \u001b[0;32mif\u001b[0m \u001b[0misinstance\u001b[0m\u001b[0;34m(\u001b[0m\u001b[0mobj\u001b[0m\u001b[0;34m,\u001b[0m \u001b[0mtuple\u001b[0m\u001b[0;34m)\u001b[0m \u001b[0;32mand\u001b[0m \u001b[0misinstance\u001b[0m\u001b[0;34m(\u001b[0m\u001b[0mlabels\u001b[0m\u001b[0;34m,\u001b[0m \u001b[0mMultiIndex\u001b[0m\u001b[0;34m)\u001b[0m\u001b[0;34m:\u001b[0m\u001b[0;34m\u001b[0m\u001b[0m\n",
      "\u001b[0;32m~/anaconda3/lib/python3.6/site-packages/pandas/core/indexes/base.py\u001b[0m in \u001b[0;36mget_loc\u001b[0;34m(self, key, method, tolerance)\u001b[0m\n\u001b[1;32m   2654\u001b[0m                                  'backfill or nearest lookups')\n\u001b[1;32m   2655\u001b[0m             \u001b[0;32mtry\u001b[0m\u001b[0;34m:\u001b[0m\u001b[0;34m\u001b[0m\u001b[0m\n\u001b[0;32m-> 2656\u001b[0;31m                 \u001b[0;32mreturn\u001b[0m \u001b[0mself\u001b[0m\u001b[0;34m.\u001b[0m\u001b[0m_engine\u001b[0m\u001b[0;34m.\u001b[0m\u001b[0mget_loc\u001b[0m\u001b[0;34m(\u001b[0m\u001b[0mkey\u001b[0m\u001b[0;34m)\u001b[0m\u001b[0;34m\u001b[0m\u001b[0m\n\u001b[0m\u001b[1;32m   2657\u001b[0m             \u001b[0;32mexcept\u001b[0m \u001b[0mKeyError\u001b[0m\u001b[0;34m:\u001b[0m\u001b[0;34m\u001b[0m\u001b[0m\n\u001b[1;32m   2658\u001b[0m                 \u001b[0;32mreturn\u001b[0m \u001b[0mself\u001b[0m\u001b[0;34m.\u001b[0m\u001b[0m_engine\u001b[0m\u001b[0;34m.\u001b[0m\u001b[0mget_loc\u001b[0m\u001b[0;34m(\u001b[0m\u001b[0mself\u001b[0m\u001b[0;34m.\u001b[0m\u001b[0m_maybe_cast_indexer\u001b[0m\u001b[0;34m(\u001b[0m\u001b[0mkey\u001b[0m\u001b[0;34m)\u001b[0m\u001b[0;34m)\u001b[0m\u001b[0;34m\u001b[0m\u001b[0m\n",
      "\u001b[0;32mpandas/_libs/index.pyx\u001b[0m in \u001b[0;36mpandas._libs.index.IndexEngine.get_loc\u001b[0;34m()\u001b[0m\n",
      "\u001b[0;32mpandas/_libs/index.pyx\u001b[0m in \u001b[0;36mpandas._libs.index.IndexEngine.get_loc\u001b[0;34m()\u001b[0m\n",
      "\u001b[0;32m~/anaconda3/lib/python3.6/site-packages/pandas/core/base.py\u001b[0m in \u001b[0;36m__str__\u001b[0;34m(self)\u001b[0m\n\u001b[1;32m     55\u001b[0m \u001b[0;34m\u001b[0m\u001b[0m\n\u001b[1;32m     56\u001b[0m         \u001b[0;32mif\u001b[0m \u001b[0mcompat\u001b[0m\u001b[0;34m.\u001b[0m\u001b[0mPY3\u001b[0m\u001b[0;34m:\u001b[0m\u001b[0;34m\u001b[0m\u001b[0m\n\u001b[0;32m---> 57\u001b[0;31m             \u001b[0;32mreturn\u001b[0m \u001b[0mself\u001b[0m\u001b[0;34m.\u001b[0m\u001b[0m__unicode__\u001b[0m\u001b[0;34m(\u001b[0m\u001b[0;34m)\u001b[0m\u001b[0;34m\u001b[0m\u001b[0m\n\u001b[0m\u001b[1;32m     58\u001b[0m         \u001b[0;32mreturn\u001b[0m \u001b[0mself\u001b[0m\u001b[0;34m.\u001b[0m\u001b[0m__bytes__\u001b[0m\u001b[0;34m(\u001b[0m\u001b[0;34m)\u001b[0m\u001b[0;34m\u001b[0m\u001b[0m\n\u001b[1;32m     59\u001b[0m \u001b[0;34m\u001b[0m\u001b[0m\n",
      "\u001b[0;32m~/anaconda3/lib/python3.6/site-packages/pandas/core/series.py\u001b[0m in \u001b[0;36m__unicode__\u001b[0;34m(self)\u001b[0m\n\u001b[1;32m   1381\u001b[0m \u001b[0;34m\u001b[0m\u001b[0m\n\u001b[1;32m   1382\u001b[0m         self.to_string(buf=buf, name=self.name, dtype=self.dtype,\n\u001b[0;32m-> 1383\u001b[0;31m                        max_rows=max_rows, length=show_dimensions)\n\u001b[0m\u001b[1;32m   1384\u001b[0m         \u001b[0mresult\u001b[0m \u001b[0;34m=\u001b[0m \u001b[0mbuf\u001b[0m\u001b[0;34m.\u001b[0m\u001b[0mgetvalue\u001b[0m\u001b[0;34m(\u001b[0m\u001b[0;34m)\u001b[0m\u001b[0;34m\u001b[0m\u001b[0m\n\u001b[1;32m   1385\u001b[0m \u001b[0;34m\u001b[0m\u001b[0m\n",
      "\u001b[0;32m~/anaconda3/lib/python3.6/site-packages/pandas/core/series.py\u001b[0m in \u001b[0;36mto_string\u001b[0;34m(self, buf, na_rep, float_format, header, index, length, dtype, name, max_rows)\u001b[0m\n\u001b[1;32m   1425\u001b[0m                                         \u001b[0mfloat_format\u001b[0m\u001b[0;34m=\u001b[0m\u001b[0mfloat_format\u001b[0m\u001b[0;34m,\u001b[0m\u001b[0;34m\u001b[0m\u001b[0m\n\u001b[1;32m   1426\u001b[0m                                         max_rows=max_rows)\n\u001b[0;32m-> 1427\u001b[0;31m         \u001b[0mresult\u001b[0m \u001b[0;34m=\u001b[0m \u001b[0mformatter\u001b[0m\u001b[0;34m.\u001b[0m\u001b[0mto_string\u001b[0m\u001b[0;34m(\u001b[0m\u001b[0;34m)\u001b[0m\u001b[0;34m\u001b[0m\u001b[0m\n\u001b[0m\u001b[1;32m   1428\u001b[0m \u001b[0;34m\u001b[0m\u001b[0m\n\u001b[1;32m   1429\u001b[0m         \u001b[0;31m# catch contract violations\u001b[0m\u001b[0;34m\u001b[0m\u001b[0;34m\u001b[0m\u001b[0m\n",
      "\u001b[0;32m~/anaconda3/lib/python3.6/site-packages/pandas/io/formats/format.py\u001b[0m in \u001b[0;36mto_string\u001b[0;34m(self)\u001b[0m\n\u001b[1;32m    264\u001b[0m \u001b[0;34m\u001b[0m\u001b[0m\n\u001b[1;32m    265\u001b[0m         \u001b[0mfmt_index\u001b[0m\u001b[0;34m,\u001b[0m \u001b[0mhave_header\u001b[0m \u001b[0;34m=\u001b[0m \u001b[0mself\u001b[0m\u001b[0;34m.\u001b[0m\u001b[0m_get_formatted_index\u001b[0m\u001b[0;34m(\u001b[0m\u001b[0;34m)\u001b[0m\u001b[0;34m\u001b[0m\u001b[0m\n\u001b[0;32m--> 266\u001b[0;31m         \u001b[0mfmt_values\u001b[0m \u001b[0;34m=\u001b[0m \u001b[0mself\u001b[0m\u001b[0;34m.\u001b[0m\u001b[0m_get_formatted_values\u001b[0m\u001b[0;34m(\u001b[0m\u001b[0;34m)\u001b[0m\u001b[0;34m\u001b[0m\u001b[0m\n\u001b[0m\u001b[1;32m    267\u001b[0m \u001b[0;34m\u001b[0m\u001b[0m\n\u001b[1;32m    268\u001b[0m         \u001b[0;32mif\u001b[0m \u001b[0mself\u001b[0m\u001b[0;34m.\u001b[0m\u001b[0mtruncate_v\u001b[0m\u001b[0;34m:\u001b[0m\u001b[0;34m\u001b[0m\u001b[0m\n",
      "\u001b[0;32m~/anaconda3/lib/python3.6/site-packages/pandas/io/formats/format.py\u001b[0m in \u001b[0;36m_get_formatted_values\u001b[0;34m(self)\u001b[0m\n\u001b[1;32m    254\u001b[0m         \u001b[0mvalues_to_format\u001b[0m \u001b[0;34m=\u001b[0m \u001b[0mself\u001b[0m\u001b[0;34m.\u001b[0m\u001b[0mtr_series\u001b[0m\u001b[0;34m.\u001b[0m\u001b[0m_formatting_values\u001b[0m\u001b[0;34m(\u001b[0m\u001b[0;34m)\u001b[0m\u001b[0;34m\u001b[0m\u001b[0m\n\u001b[1;32m    255\u001b[0m         return format_array(values_to_format, None,\n\u001b[0;32m--> 256\u001b[0;31m                             float_format=self.float_format, na_rep=self.na_rep)\n\u001b[0m\u001b[1;32m    257\u001b[0m \u001b[0;34m\u001b[0m\u001b[0m\n\u001b[1;32m    258\u001b[0m     \u001b[0;32mdef\u001b[0m \u001b[0mto_string\u001b[0m\u001b[0;34m(\u001b[0m\u001b[0mself\u001b[0m\u001b[0;34m)\u001b[0m\u001b[0;34m:\u001b[0m\u001b[0;34m\u001b[0m\u001b[0m\n",
      "\u001b[0;32m~/anaconda3/lib/python3.6/site-packages/pandas/io/formats/format.py\u001b[0m in \u001b[0;36mformat_array\u001b[0;34m(values, formatter, float_format, na_rep, digits, space, justify, decimal, leading_space)\u001b[0m\n\u001b[1;32m    905\u001b[0m                         leading_space=leading_space)\n\u001b[1;32m    906\u001b[0m \u001b[0;34m\u001b[0m\u001b[0m\n\u001b[0;32m--> 907\u001b[0;31m     \u001b[0;32mreturn\u001b[0m \u001b[0mfmt_obj\u001b[0m\u001b[0;34m.\u001b[0m\u001b[0mget_result\u001b[0m\u001b[0;34m(\u001b[0m\u001b[0;34m)\u001b[0m\u001b[0;34m\u001b[0m\u001b[0m\n\u001b[0m\u001b[1;32m    908\u001b[0m \u001b[0;34m\u001b[0m\u001b[0m\n\u001b[1;32m    909\u001b[0m \u001b[0;34m\u001b[0m\u001b[0m\n",
      "\u001b[0;32m~/anaconda3/lib/python3.6/site-packages/pandas/io/formats/format.py\u001b[0m in \u001b[0;36mget_result\u001b[0;34m(self)\u001b[0m\n\u001b[1;32m    926\u001b[0m \u001b[0;34m\u001b[0m\u001b[0m\n\u001b[1;32m    927\u001b[0m     \u001b[0;32mdef\u001b[0m \u001b[0mget_result\u001b[0m\u001b[0;34m(\u001b[0m\u001b[0mself\u001b[0m\u001b[0;34m)\u001b[0m\u001b[0;34m:\u001b[0m\u001b[0;34m\u001b[0m\u001b[0m\n\u001b[0;32m--> 928\u001b[0;31m         \u001b[0mfmt_values\u001b[0m \u001b[0;34m=\u001b[0m \u001b[0mself\u001b[0m\u001b[0;34m.\u001b[0m\u001b[0m_format_strings\u001b[0m\u001b[0;34m(\u001b[0m\u001b[0;34m)\u001b[0m\u001b[0;34m\u001b[0m\u001b[0m\n\u001b[0m\u001b[1;32m    929\u001b[0m         \u001b[0;32mreturn\u001b[0m \u001b[0m_make_fixed_width\u001b[0m\u001b[0;34m(\u001b[0m\u001b[0mfmt_values\u001b[0m\u001b[0;34m,\u001b[0m \u001b[0mself\u001b[0m\u001b[0;34m.\u001b[0m\u001b[0mjustify\u001b[0m\u001b[0;34m)\u001b[0m\u001b[0;34m\u001b[0m\u001b[0m\n\u001b[1;32m    930\u001b[0m \u001b[0;34m\u001b[0m\u001b[0m\n",
      "\u001b[0;32m~/anaconda3/lib/python3.6/site-packages/pandas/io/formats/format.py\u001b[0m in \u001b[0;36m_format_strings\u001b[0;34m(self)\u001b[0m\n\u001b[1;32m    980\u001b[0m                 \u001b[0;32melse\u001b[0m\u001b[0;34m:\u001b[0m\u001b[0;34m\u001b[0m\u001b[0m\n\u001b[1;32m    981\u001b[0m                     \u001b[0mtpl\u001b[0m \u001b[0;34m=\u001b[0m \u001b[0;34mu' {v}'\u001b[0m\u001b[0;34m\u001b[0m\u001b[0m\n\u001b[0;32m--> 982\u001b[0;31m                 \u001b[0mfmt_values\u001b[0m\u001b[0;34m.\u001b[0m\u001b[0mappend\u001b[0m\u001b[0;34m(\u001b[0m\u001b[0mtpl\u001b[0m\u001b[0;34m.\u001b[0m\u001b[0mformat\u001b[0m\u001b[0;34m(\u001b[0m\u001b[0mv\u001b[0m\u001b[0;34m=\u001b[0m\u001b[0m_format\u001b[0m\u001b[0;34m(\u001b[0m\u001b[0mv\u001b[0m\u001b[0;34m)\u001b[0m\u001b[0;34m)\u001b[0m\u001b[0;34m)\u001b[0m\u001b[0;34m\u001b[0m\u001b[0m\n\u001b[0m\u001b[1;32m    983\u001b[0m \u001b[0;34m\u001b[0m\u001b[0m\n\u001b[1;32m    984\u001b[0m         \u001b[0;32mreturn\u001b[0m \u001b[0mfmt_values\u001b[0m\u001b[0;34m\u001b[0m\u001b[0m\n",
      "\u001b[0;32m~/anaconda3/lib/python3.6/site-packages/pandas/io/formats/format.py\u001b[0m in \u001b[0;36m_format\u001b[0;34m(x)\u001b[0m\n\u001b[1;32m    954\u001b[0m             \u001b[0;32melse\u001b[0m\u001b[0;34m:\u001b[0m\u001b[0;34m\u001b[0m\u001b[0m\n\u001b[1;32m    955\u001b[0m                 \u001b[0;31m# object dtype\u001b[0m\u001b[0;34m\u001b[0m\u001b[0;34m\u001b[0m\u001b[0m\n\u001b[0;32m--> 956\u001b[0;31m                 \u001b[0;32mreturn\u001b[0m \u001b[0;34mu'{x}'\u001b[0m\u001b[0;34m.\u001b[0m\u001b[0mformat\u001b[0m\u001b[0;34m(\u001b[0m\u001b[0mx\u001b[0m\u001b[0;34m=\u001b[0m\u001b[0mformatter\u001b[0m\u001b[0;34m(\u001b[0m\u001b[0mx\u001b[0m\u001b[0;34m)\u001b[0m\u001b[0;34m)\u001b[0m\u001b[0;34m\u001b[0m\u001b[0m\n\u001b[0m\u001b[1;32m    957\u001b[0m \u001b[0;34m\u001b[0m\u001b[0m\n\u001b[1;32m    958\u001b[0m         \u001b[0mvals\u001b[0m \u001b[0;34m=\u001b[0m \u001b[0mself\u001b[0m\u001b[0;34m.\u001b[0m\u001b[0mvalues\u001b[0m\u001b[0;34m\u001b[0m\u001b[0m\n",
      "\u001b[0;32m~/anaconda3/lib/python3.6/site-packages/pandas/io/formats/format.py\u001b[0m in \u001b[0;36m<lambda>\u001b[0;34m(x)\u001b[0m\n\u001b[1;32m    941\u001b[0m         formatter = (\n\u001b[1;32m    942\u001b[0m             \u001b[0mself\u001b[0m\u001b[0;34m.\u001b[0m\u001b[0mformatter\u001b[0m \u001b[0;32mif\u001b[0m \u001b[0mself\u001b[0m\u001b[0;34m.\u001b[0m\u001b[0mformatter\u001b[0m \u001b[0;32mis\u001b[0m \u001b[0;32mnot\u001b[0m \u001b[0;32mNone\u001b[0m \u001b[0;32melse\u001b[0m\u001b[0;34m\u001b[0m\u001b[0m\n\u001b[0;32m--> 943\u001b[0;31m             (lambda x: pprint_thing(x, escape_chars=('\\t', '\\r', '\\n'))))\n\u001b[0m\u001b[1;32m    944\u001b[0m \u001b[0;34m\u001b[0m\u001b[0m\n\u001b[1;32m    945\u001b[0m         \u001b[0;32mdef\u001b[0m \u001b[0m_format\u001b[0m\u001b[0;34m(\u001b[0m\u001b[0mx\u001b[0m\u001b[0;34m)\u001b[0m\u001b[0;34m:\u001b[0m\u001b[0;34m\u001b[0m\u001b[0m\n",
      "\u001b[0;32m~/anaconda3/lib/python3.6/site-packages/pandas/io/formats/printing.py\u001b[0m in \u001b[0;36mpprint_thing\u001b[0;34m(thing, _nest_lvl, escape_chars, default_escapes, quote_strings, max_seq_items)\u001b[0m\n\u001b[1;32m    226\u001b[0m         \u001b[0mresult\u001b[0m \u001b[0;34m=\u001b[0m \u001b[0mfmt\u001b[0m\u001b[0;34m.\u001b[0m\u001b[0mformat\u001b[0m\u001b[0;34m(\u001b[0m\u001b[0mthing\u001b[0m\u001b[0;34m=\u001b[0m\u001b[0mas_escaped_unicode\u001b[0m\u001b[0;34m(\u001b[0m\u001b[0mthing\u001b[0m\u001b[0;34m)\u001b[0m\u001b[0;34m)\u001b[0m\u001b[0;34m\u001b[0m\u001b[0m\n\u001b[1;32m    227\u001b[0m     \u001b[0;32melse\u001b[0m\u001b[0;34m:\u001b[0m\u001b[0;34m\u001b[0m\u001b[0m\n\u001b[0;32m--> 228\u001b[0;31m         \u001b[0mresult\u001b[0m \u001b[0;34m=\u001b[0m \u001b[0mas_escaped_unicode\u001b[0m\u001b[0;34m(\u001b[0m\u001b[0mthing\u001b[0m\u001b[0;34m)\u001b[0m\u001b[0;34m\u001b[0m\u001b[0m\n\u001b[0m\u001b[1;32m    229\u001b[0m \u001b[0;34m\u001b[0m\u001b[0m\n\u001b[1;32m    230\u001b[0m     \u001b[0;32mreturn\u001b[0m \u001b[0mcompat\u001b[0m\u001b[0;34m.\u001b[0m\u001b[0mtext_type\u001b[0m\u001b[0;34m(\u001b[0m\u001b[0mresult\u001b[0m\u001b[0;34m)\u001b[0m  \u001b[0;31m# always unicode\u001b[0m\u001b[0;34m\u001b[0m\u001b[0m\n",
      "\u001b[0;32m~/anaconda3/lib/python3.6/site-packages/pandas/io/formats/printing.py\u001b[0m in \u001b[0;36mas_escaped_unicode\u001b[0;34m(thing, escape_chars)\u001b[0m\n\u001b[1;32m    189\u001b[0m \u001b[0;34m\u001b[0m\u001b[0m\n\u001b[1;32m    190\u001b[0m         \u001b[0;32mtry\u001b[0m\u001b[0;34m:\u001b[0m\u001b[0;34m\u001b[0m\u001b[0m\n\u001b[0;32m--> 191\u001b[0;31m             \u001b[0mresult\u001b[0m \u001b[0;34m=\u001b[0m \u001b[0mcompat\u001b[0m\u001b[0;34m.\u001b[0m\u001b[0mtext_type\u001b[0m\u001b[0;34m(\u001b[0m\u001b[0mthing\u001b[0m\u001b[0;34m)\u001b[0m  \u001b[0;31m# we should try this first\u001b[0m\u001b[0;34m\u001b[0m\u001b[0m\n\u001b[0m\u001b[1;32m    192\u001b[0m         \u001b[0;32mexcept\u001b[0m \u001b[0mUnicodeDecodeError\u001b[0m\u001b[0;34m:\u001b[0m\u001b[0;34m\u001b[0m\u001b[0m\n\u001b[1;32m    193\u001b[0m             \u001b[0;31m# either utf-8 or we replace errors\u001b[0m\u001b[0;34m\u001b[0m\u001b[0;34m\u001b[0m\u001b[0m\n",
      "\u001b[0;31mKeyboardInterrupt\u001b[0m: "
     ]
    }
   ],
   "source": [
    "train_new = preprocess(train)\n",
    "valid_new = preprocess(valid,enforce_cols=train_new.columns)\n",
    "valid_new = valid_new[train_new.columns]"
   ]
  },
  {
   "cell_type": "code",
   "execution_count": null,
   "metadata": {},
   "outputs": [],
   "source": [
    "#train_new.head()"
   ]
  },
  {
   "cell_type": "code",
   "execution_count": null,
   "metadata": {},
   "outputs": [],
   "source": [
    "#valid_new.head()"
   ]
  },
  {
   "cell_type": "code",
   "execution_count": null,
   "metadata": {},
   "outputs": [],
   "source": [
    "#valid_new.head()"
   ]
  },
  {
   "cell_type": "code",
   "execution_count": null,
   "metadata": {},
   "outputs": [],
   "source": [
    "y = train['click']\n",
    "y_val = valid['click']"
   ]
  },
  {
   "cell_type": "markdown",
   "metadata": {},
   "source": [
    "# 3. Train Model"
   ]
  },
  {
   "cell_type": "markdown",
   "metadata": {},
   "source": [
    "## 3.1 Treating imbalanced data"
   ]
  },
  {
   "cell_type": "code",
   "execution_count": null,
   "metadata": {},
   "outputs": [],
   "source": [
    "# Separate click and unclick\n",
    "resample_num = pd.to_numeric(train['click'])\n",
    "resample_data = pd.concat([resample_num, train_new],axis=1)\n",
    "\n",
    "df_majority = resample_data[resample_data.click==0]\n",
    "df_minority = resample_data[resample_data.click==1]\n",
    " \n",
    "# Downsample unclick\n",
    "size=int((len(y)-sum(y))*0.03)\n",
    "df_majority_downsampled = resample(df_majority, \n",
    "                                 replace=False,    # sample without replacement\n",
    "                                 n_samples=size,  # ratio\n",
    "                                 random_state=1) # reproducible results\n",
    "\n",
    "# Combine \n",
    "downsampled = pd.concat([df_majority_downsampled, df_minority])\n",
    " \n",
    "downsampled.click.value_counts()"
   ]
  },
  {
   "cell_type": "code",
   "execution_count": null,
   "metadata": {},
   "outputs": [],
   "source": [
    "# Separate into features and target variable\n",
    "y_new = downsampled.click\n",
    "x_new = downsampled.drop('click', axis=1)"
   ]
  },
  {
   "cell_type": "code",
   "execution_count": 11,
   "metadata": {},
   "outputs": [],
   "source": [
    "#print(y_new.shape)\n",
    "#print(x_new.shape)"
   ]
  },
  {
   "cell_type": "markdown",
   "metadata": {},
   "source": [
    "## 3.2 Logistic Regression"
   ]
  },
  {
   "cell_type": "code",
   "execution_count": 16,
   "metadata": {},
   "outputs": [
    {
     "name": "stdout",
     "output_type": "stream",
     "text": [
      "Area Under ROC Curve: 0.826\n"
     ]
    }
   ],
   "source": [
    "best_LR = LogisticRegression(penalty='l1', C=0.1, class_weight='unbalanced', random_state=3, solver='saga')\n",
    "\n",
    "best_LR.fit(x_new, y_new)\n",
    "\n",
    "y_valid_p = best_LR.predict_proba(valid_new)\n",
    "print('Area Under ROC Curve:',round(roc_auc_score(y_val, y_valid_p[:,1]),3))"
   ]
  },
  {
   "cell_type": "code",
   "execution_count": null,
   "metadata": {},
   "outputs": [],
   "source": [
    "#average CTR\n",
    "avgCTR = sum(y)/len(y)\n",
    "\n",
    "#validation pCTR\n",
    "pCTR_valid_before = y_valid_p[:,1]\n",
    "pCTR_valid = pCTR_valid_before / (pCTR_valid_before +(1-pCTR_valid_before)/0.03)"
   ]
  },
  {
   "cell_type": "code",
   "execution_count": 17,
   "metadata": {},
   "outputs": [
    {
     "data": {
      "image/png": "[encoded data removed]",
      "text/plain": [
       "<Figure size 432x288 with 1 Axes>"
      ]
     },
     "metadata": {
      "needs_background": "light"
     },
     "output_type": "display_data"
    }
   ],
   "source": [
    "fpr, tpr, thresholds = roc_curve(y_val, y_valid_p[:,1])\n",
    "plt.plot([0, 1], [0, 1], linestyle='--')\n",
    "plt.plot(fpr, tpr, marker='.')\n",
    "plt.show()"
   ]
  },
  {
   "cell_type": "markdown",
   "metadata": {},
   "source": [
    "# 4. Bidding"
   ]
  },
  {
   "cell_type": "markdown",
   "metadata": {},
   "source": [
    "## 4.1 Bidding Mechanism"
   ]
  },
  {
   "cell_type": "code",
   "execution_count": 18,
   "metadata": {},
   "outputs": [],
   "source": [
    "def bidding(bidprice):\n",
    "    budget = 6250\n",
    "    imps = 0\n",
    "    click = 0\n",
    "    for i in range(0, len(valid)):\n",
    "        if budget < valid.payprice[i]/1000:\n",
    "            continue\n",
    "        if bidprice[i] >= valid.payprice[i]:\n",
    "            budget = budget - valid.payprice[i]/1000\n",
    "            imps += 1\n",
    "            if valid.click[i]==1:\n",
    "                click += 1\n",
    "    \n",
    "    click = click\n",
    "    imps = imps\n",
    "    CTR = click/imps\n",
    "    spend = 6250-budget\n",
    "    CPM = spend/imps\n",
    "    eCPC = spend/click\n",
    "    \n",
    "    return click, imps, spend, CTR, CPM, eCPC"
   ]
  },
  {
   "cell_type": "markdown",
   "metadata": {},
   "source": [
    "## 4.2 LR+Non-Linear Bidding Strategies"
   ]
  },
  {
   "cell_type": "markdown",
   "metadata": {},
   "source": [
    "### 4.2.1 LR + Optimal Real-Time Bidding (ORTB)"
   ]
  },
  {
   "cell_type": "code",
   "execution_count": 29,
   "metadata": {},
   "outputs": [],
   "source": [
    "ORTB = pd.DataFrame(columns = ['c0', 'lambda0', 'Imps', 'Spend', 'Click'])\n",
    "\n",
    "c0 = 0\n",
    "lambda0 = 0\n",
    "lambda_domain = [1e-8, 5e-8, 1e-7, 5e-7, 1e-6, 5e-6, 1e-5, 5e-5, 1e-4, 5e-4]\n",
    "iteration = 0\n",
    "max_num = 0\n",
    "\n",
    "for c in np.arange(4,25,2):\n",
    "    for m in lambda_domain:\n",
    "        iteration += 1\n",
    "        bid = np.sqrt(c * pCTR_valid / m + c*c) - c\n",
    "        \n",
    "        click, imps, spend, CTR, CPM, eCPC = bidding(bid)\n",
    "        \n",
    "        if click > max_num:\n",
    "                max_num = click\n",
    "                lambda0 = m\n",
    "                c0 = c\n",
    "                \n",
    "        ORTB.loc[iteration,'Imps'] = imps\n",
    "        ORTB.loc[iteration,'c0'] = c0\n",
    "        ORTB.loc[iteration,'lambda0'] = lambda0\n",
    "        ORTB.loc[iteration,'Click'] = click\n",
    "        ORTB.loc[iteration,'Spend'] = round(spend,2)\n",
    "        ORTB.loc[iteration,'CTR'] = round(CTR,5)\n",
    "        ORTB.loc[iteration,'CPM'] = round(CPM*1000,2)\n",
    "        ORTB.loc[iteration,'eCPC'] = round(eCPC,2)"
   ]
  },
  {
   "cell_type": "code",
   "execution_count": 30,
   "metadata": {},
   "outputs": [
    {
     "data": {
      "text/html": [
       "<div>\n",
       "<style scoped>\n",
       "    .dataframe tbody tr th:only-of-type {\n",
       "        vertical-align: middle;\n",
       "    }\n",
       "\n",
       "    .dataframe tbody tr th {\n",
       "        vertical-align: top;\n",
       "    }\n",
       "\n",
       "    .dataframe thead th {\n",
       "        text-align: right;\n",
       "    }\n",
       "</style>\n",
       "<table border=\"1\" class=\"dataframe\">\n",
       "  <thead>\n",
       "    <tr style=\"text-align: right;\">\n",
       "      <th></th>\n",
       "      <th>c0</th>\n",
       "      <th>lambda0</th>\n",
       "      <th>Imps</th>\n",
       "      <th>Spend</th>\n",
       "      <th>Click</th>\n",
       "      <th>CTR</th>\n",
       "      <th>CPM</th>\n",
       "      <th>eCPC</th>\n",
       "    </tr>\n",
       "  </thead>\n",
       "  <tbody>\n",
       "    <tr>\n",
       "      <th>1</th>\n",
       "      <td>4.0</td>\n",
       "      <td>1e-08</td>\n",
       "      <td>82852.0</td>\n",
       "      <td>6250.00</td>\n",
       "      <td>54.0</td>\n",
       "      <td>0.00065</td>\n",
       "      <td>75.44</td>\n",
       "      <td>115.74</td>\n",
       "    </tr>\n",
       "    <tr>\n",
       "      <th>2</th>\n",
       "      <td>4.0</td>\n",
       "      <td>5e-08</td>\n",
       "      <td>96771.0</td>\n",
       "      <td>6250.00</td>\n",
       "      <td>64.0</td>\n",
       "      <td>0.00066</td>\n",
       "      <td>64.59</td>\n",
       "      <td>97.66</td>\n",
       "    </tr>\n",
       "    <tr>\n",
       "      <th>3</th>\n",
       "      <td>4.0</td>\n",
       "      <td>1e-07</td>\n",
       "      <td>110346.0</td>\n",
       "      <td>6250.00</td>\n",
       "      <td>81.0</td>\n",
       "      <td>0.00073</td>\n",
       "      <td>56.64</td>\n",
       "      <td>77.16</td>\n",
       "    </tr>\n",
       "    <tr>\n",
       "      <th>4</th>\n",
       "      <td>4.0</td>\n",
       "      <td>5e-07</td>\n",
       "      <td>124285.0</td>\n",
       "      <td>4737.70</td>\n",
       "      <td>137.0</td>\n",
       "      <td>0.00110</td>\n",
       "      <td>38.12</td>\n",
       "      <td>34.58</td>\n",
       "    </tr>\n",
       "    <tr>\n",
       "      <th>5</th>\n",
       "      <td>4.0</td>\n",
       "      <td>5e-07</td>\n",
       "      <td>79943.0</td>\n",
       "      <td>2183.83</td>\n",
       "      <td>112.0</td>\n",
       "      <td>0.00140</td>\n",
       "      <td>27.32</td>\n",
       "      <td>19.50</td>\n",
       "    </tr>\n",
       "  </tbody>\n",
       "</table>\n",
       "</div>"
      ],
      "text/plain": [
       "    c0 lambda0      Imps    Spend  Click      CTR    CPM    eCPC\n",
       "1  4.0   1e-08   82852.0  6250.00   54.0  0.00065  75.44  115.74\n",
       "2  4.0   5e-08   96771.0  6250.00   64.0  0.00066  64.59   97.66\n",
       "3  4.0   1e-07  110346.0  6250.00   81.0  0.00073  56.64   77.16\n",
       "4  4.0   5e-07  124285.0  4737.70  137.0  0.00110  38.12   34.58\n",
       "5  4.0   5e-07   79943.0  2183.83  112.0  0.00140  27.32   19.50"
      ]
     },
     "execution_count": 30,
     "metadata": {},
     "output_type": "execute_result"
    }
   ],
   "source": [
    "ORTB.head()"
   ]
  },
  {
   "cell_type": "code",
   "execution_count": 31,
   "metadata": {},
   "outputs": [
    {
     "data": {
      "text/html": [
       "<div>\n",
       "<style scoped>\n",
       "    .dataframe tbody tr th:only-of-type {\n",
       "        vertical-align: middle;\n",
       "    }\n",
       "\n",
       "    .dataframe tbody tr th {\n",
       "        vertical-align: top;\n",
       "    }\n",
       "\n",
       "    .dataframe thead th {\n",
       "        text-align: right;\n",
       "    }\n",
       "</style>\n",
       "<table border=\"1\" class=\"dataframe\">\n",
       "  <thead>\n",
       "    <tr style=\"text-align: right;\">\n",
       "      <th></th>\n",
       "      <th>c0</th>\n",
       "      <th>lambda0</th>\n",
       "      <th>Imps</th>\n",
       "      <th>Spend</th>\n",
       "      <th>Click</th>\n",
       "      <th>CTR</th>\n",
       "      <th>CPM</th>\n",
       "      <th>eCPC</th>\n",
       "    </tr>\n",
       "  </thead>\n",
       "  <tbody>\n",
       "    <tr>\n",
       "      <th>45</th>\n",
       "      <td>12.0</td>\n",
       "      <td>1e-06</td>\n",
       "      <td>140802.0</td>\n",
       "      <td>5932.29</td>\n",
       "      <td>148.0</td>\n",
       "      <td>0.00105</td>\n",
       "      <td>42.13</td>\n",
       "      <td>40.08</td>\n",
       "    </tr>\n",
       "  </tbody>\n",
       "</table>\n",
       "</div>"
      ],
      "text/plain": [
       "      c0 lambda0      Imps    Spend  Click      CTR    CPM   eCPC\n",
       "45  12.0   1e-06  140802.0  5932.29  148.0  0.00105  42.13  40.08"
      ]
     },
     "execution_count": 31,
     "metadata": {},
     "output_type": "execute_result"
    }
   ],
   "source": [
    "ORTB.iloc[np.where(ORTB.Click == ORTB.Click.max())[0]]"
   ]
  },
  {
   "cell_type": "markdown",
   "metadata": {},
   "source": [
    "### 4.2.2 LR + Quadratic bidding"
   ]
  },
  {
   "cell_type": "code",
   "execution_count": 32,
   "metadata": {},
   "outputs": [],
   "source": [
    "Qaud = pd.DataFrame(columns=['Base_bid','Imps','Spend','Click'])\n",
    "\n",
    "iteration = 0\n",
    "for i in np.arange(3,300,3):\n",
    "    iteration += 1\n",
    "    base_bid = i\n",
    "    #Non-linear strategy inputs to get bid price \n",
    "    bid = base_bid * (pCTR_valid / avgCTR)**2\n",
    "    #bidding mechanism\n",
    "    click, imps, spend, CTR, CPM, eCPC = bidding(bid)\n",
    "    #feeding data into a dataframe\n",
    "    Qaud.loc[iteration,'Base_Bid'] = base_bid\n",
    "    Qaud.loc[iteration,'Imps'] = imps\n",
    "    Qaud.loc[iteration,'Click'] = click\n",
    "    Qaud.loc[iteration,'Spend'] = round(spend,2)\n",
    "    Qaud.loc[iteration,'CTR'] = round(CTR,5)\n",
    "    Qaud.loc[iteration,'CPM'] = round(CPM*1000,2)\n",
    "    Qaud.loc[iteration,'eCPC'] = round(eCPC,2)"
   ]
  },
  {
   "cell_type": "code",
   "execution_count": 33,
   "metadata": {},
   "outputs": [
    {
     "data": {
      "text/html": [
       "<div>\n",
       "<style scoped>\n",
       "    .dataframe tbody tr th:only-of-type {\n",
       "        vertical-align: middle;\n",
       "    }\n",
       "\n",
       "    .dataframe tbody tr th {\n",
       "        vertical-align: top;\n",
       "    }\n",
       "\n",
       "    .dataframe thead th {\n",
       "        text-align: right;\n",
       "    }\n",
       "</style>\n",
       "<table border=\"1\" class=\"dataframe\">\n",
       "  <thead>\n",
       "    <tr style=\"text-align: right;\">\n",
       "      <th></th>\n",
       "      <th>Base_bid</th>\n",
       "      <th>Imps</th>\n",
       "      <th>Spend</th>\n",
       "      <th>Click</th>\n",
       "      <th>Base_Bid</th>\n",
       "      <th>CTR</th>\n",
       "      <th>CPM</th>\n",
       "      <th>eCPC</th>\n",
       "    </tr>\n",
       "  </thead>\n",
       "  <tbody>\n",
       "    <tr>\n",
       "      <th>1</th>\n",
       "      <td>NaN</td>\n",
       "      <td>9305.0</td>\n",
       "      <td>535.03</td>\n",
       "      <td>84.0</td>\n",
       "      <td>3.0</td>\n",
       "      <td>0.00903</td>\n",
       "      <td>57.50</td>\n",
       "      <td>6.37</td>\n",
       "    </tr>\n",
       "    <tr>\n",
       "      <th>2</th>\n",
       "      <td>NaN</td>\n",
       "      <td>13546.0</td>\n",
       "      <td>805.95</td>\n",
       "      <td>95.0</td>\n",
       "      <td>6.0</td>\n",
       "      <td>0.00701</td>\n",
       "      <td>59.50</td>\n",
       "      <td>8.48</td>\n",
       "    </tr>\n",
       "    <tr>\n",
       "      <th>3</th>\n",
       "      <td>NaN</td>\n",
       "      <td>17165.0</td>\n",
       "      <td>1017.88</td>\n",
       "      <td>102.0</td>\n",
       "      <td>9.0</td>\n",
       "      <td>0.00594</td>\n",
       "      <td>59.30</td>\n",
       "      <td>9.98</td>\n",
       "    </tr>\n",
       "    <tr>\n",
       "      <th>4</th>\n",
       "      <td>NaN</td>\n",
       "      <td>20604.0</td>\n",
       "      <td>1208.14</td>\n",
       "      <td>108.0</td>\n",
       "      <td>12.0</td>\n",
       "      <td>0.00524</td>\n",
       "      <td>58.64</td>\n",
       "      <td>11.19</td>\n",
       "    </tr>\n",
       "    <tr>\n",
       "      <th>5</th>\n",
       "      <td>NaN</td>\n",
       "      <td>23913.0</td>\n",
       "      <td>1387.2</td>\n",
       "      <td>114.0</td>\n",
       "      <td>15.0</td>\n",
       "      <td>0.00477</td>\n",
       "      <td>58.01</td>\n",
       "      <td>12.17</td>\n",
       "    </tr>\n",
       "  </tbody>\n",
       "</table>\n",
       "</div>"
      ],
      "text/plain": [
       "  Base_bid     Imps    Spend  Click  Base_Bid      CTR    CPM   eCPC\n",
       "1      NaN   9305.0   535.03   84.0       3.0  0.00903  57.50   6.37\n",
       "2      NaN  13546.0   805.95   95.0       6.0  0.00701  59.50   8.48\n",
       "3      NaN  17165.0  1017.88  102.0       9.0  0.00594  59.30   9.98\n",
       "4      NaN  20604.0  1208.14  108.0      12.0  0.00524  58.64  11.19\n",
       "5      NaN  23913.0   1387.2  114.0      15.0  0.00477  58.01  12.17"
      ]
     },
     "execution_count": 33,
     "metadata": {},
     "output_type": "execute_result"
    }
   ],
   "source": [
    "Qaud.head()"
   ]
  },
  {
   "cell_type": "code",
   "execution_count": 34,
   "metadata": {},
   "outputs": [
    {
     "data": {
      "text/html": [
       "<div>\n",
       "<style scoped>\n",
       "    .dataframe tbody tr th:only-of-type {\n",
       "        vertical-align: middle;\n",
       "    }\n",
       "\n",
       "    .dataframe tbody tr th {\n",
       "        vertical-align: top;\n",
       "    }\n",
       "\n",
       "    .dataframe thead th {\n",
       "        text-align: right;\n",
       "    }\n",
       "</style>\n",
       "<table border=\"1\" class=\"dataframe\">\n",
       "  <thead>\n",
       "    <tr style=\"text-align: right;\">\n",
       "      <th></th>\n",
       "      <th>Base_bid</th>\n",
       "      <th>Imps</th>\n",
       "      <th>Spend</th>\n",
       "      <th>Click</th>\n",
       "      <th>Base_Bid</th>\n",
       "      <th>CTR</th>\n",
       "      <th>CPM</th>\n",
       "      <th>eCPC</th>\n",
       "    </tr>\n",
       "  </thead>\n",
       "  <tbody>\n",
       "    <tr>\n",
       "      <th>38</th>\n",
       "      <td>NaN</td>\n",
       "      <td>107740.0</td>\n",
       "      <td>6240.89</td>\n",
       "      <td>155.0</td>\n",
       "      <td>114.0</td>\n",
       "      <td>0.00144</td>\n",
       "      <td>57.93</td>\n",
       "      <td>40.26</td>\n",
       "    </tr>\n",
       "  </tbody>\n",
       "</table>\n",
       "</div>"
      ],
      "text/plain": [
       "   Base_bid      Imps    Spend  Click  Base_Bid      CTR    CPM   eCPC\n",
       "38      NaN  107740.0  6240.89  155.0     114.0  0.00144  57.93  40.26"
      ]
     },
     "execution_count": 34,
     "metadata": {},
     "output_type": "execute_result"
    }
   ],
   "source": [
    "Qaud.iloc[np.where(Qaud.Click == Qaud.Click.max())[0]]"
   ]
  },
  {
   "cell_type": "markdown",
   "metadata": {},
   "source": [
    "### 4.2.3 LR + Exponential bidding"
   ]
  },
  {
   "cell_type": "code",
   "execution_count": 35,
   "metadata": {},
   "outputs": [],
   "source": [
    "Exp = pd.DataFrame(columns=['Base_bid','Imps','Spend','Click'])\n",
    "\n",
    "iteration = 0\n",
    "for i in np.arange(3,303,3):\n",
    "    iteration += 1\n",
    "    base_bid = i\n",
    "    #Non-linear strategy inputs to get bid price \n",
    "    bid = base_bid * np.exp(pCTR_valid/avgCTR)\n",
    "    #bidding mechanism\n",
    "    click, imps, spend, CTR, CPM, eCPC = bidding(bid)\n",
    "    #feeding data into a dataframe\n",
    "    Exp.loc[iteration,'Base_Bid'] = base_bid\n",
    "    Exp.loc[iteration,'Imps'] = imps\n",
    "    Exp.loc[iteration,'Click'] = click\n",
    "    Exp.loc[iteration,'Spend'] = round(spend,2)\n",
    "    Exp.loc[iteration,'CTR'] = round(CTR,5)\n",
    "    Exp.loc[iteration,'CPM'] = round(CPM*1000,2)\n",
    "    Exp.loc[iteration,'eCPC'] = round(eCPC,2)"
   ]
  },
  {
   "cell_type": "code",
   "execution_count": 36,
   "metadata": {},
   "outputs": [
    {
     "data": {
      "text/html": [
       "<div>\n",
       "<style scoped>\n",
       "    .dataframe tbody tr th:only-of-type {\n",
       "        vertical-align: middle;\n",
       "    }\n",
       "\n",
       "    .dataframe tbody tr th {\n",
       "        vertical-align: top;\n",
       "    }\n",
       "\n",
       "    .dataframe thead th {\n",
       "        text-align: right;\n",
       "    }\n",
       "</style>\n",
       "<table border=\"1\" class=\"dataframe\">\n",
       "  <thead>\n",
       "    <tr style=\"text-align: right;\">\n",
       "      <th></th>\n",
       "      <th>Base_bid</th>\n",
       "      <th>Imps</th>\n",
       "      <th>Spend</th>\n",
       "      <th>Click</th>\n",
       "      <th>Base_Bid</th>\n",
       "      <th>CTR</th>\n",
       "      <th>CPM</th>\n",
       "      <th>eCPC</th>\n",
       "    </tr>\n",
       "  </thead>\n",
       "  <tbody>\n",
       "    <tr>\n",
       "      <th>1</th>\n",
       "      <td>NaN</td>\n",
       "      <td>18047.0</td>\n",
       "      <td>991.62</td>\n",
       "      <td>101.0</td>\n",
       "      <td>3.0</td>\n",
       "      <td>0.00560</td>\n",
       "      <td>54.95</td>\n",
       "      <td>9.82</td>\n",
       "    </tr>\n",
       "    <tr>\n",
       "      <th>2</th>\n",
       "      <td>NaN</td>\n",
       "      <td>31152.0</td>\n",
       "      <td>1339.52</td>\n",
       "      <td>113.0</td>\n",
       "      <td>6.0</td>\n",
       "      <td>0.00363</td>\n",
       "      <td>43.00</td>\n",
       "      <td>11.85</td>\n",
       "    </tr>\n",
       "    <tr>\n",
       "      <th>3</th>\n",
       "      <td>NaN</td>\n",
       "      <td>43056.0</td>\n",
       "      <td>1704.18</td>\n",
       "      <td>116.0</td>\n",
       "      <td>9.0</td>\n",
       "      <td>0.00269</td>\n",
       "      <td>39.58</td>\n",
       "      <td>14.69</td>\n",
       "    </tr>\n",
       "    <tr>\n",
       "      <th>4</th>\n",
       "      <td>NaN</td>\n",
       "      <td>58930.0</td>\n",
       "      <td>2193.75</td>\n",
       "      <td>125.0</td>\n",
       "      <td>12.0</td>\n",
       "      <td>0.00212</td>\n",
       "      <td>37.23</td>\n",
       "      <td>17.55</td>\n",
       "    </tr>\n",
       "    <tr>\n",
       "      <th>5</th>\n",
       "      <td>NaN</td>\n",
       "      <td>75249.0</td>\n",
       "      <td>2745.7</td>\n",
       "      <td>133.0</td>\n",
       "      <td>15.0</td>\n",
       "      <td>0.00177</td>\n",
       "      <td>36.49</td>\n",
       "      <td>20.64</td>\n",
       "    </tr>\n",
       "  </tbody>\n",
       "</table>\n",
       "</div>"
      ],
      "text/plain": [
       "  Base_bid     Imps    Spend  Click  Base_Bid      CTR    CPM   eCPC\n",
       "1      NaN  18047.0   991.62  101.0       3.0  0.00560  54.95   9.82\n",
       "2      NaN  31152.0  1339.52  113.0       6.0  0.00363  43.00  11.85\n",
       "3      NaN  43056.0  1704.18  116.0       9.0  0.00269  39.58  14.69\n",
       "4      NaN  58930.0  2193.75  125.0      12.0  0.00212  37.23  17.55\n",
       "5      NaN  75249.0   2745.7  133.0      15.0  0.00177  36.49  20.64"
      ]
     },
     "execution_count": 36,
     "metadata": {},
     "output_type": "execute_result"
    }
   ],
   "source": [
    "Exp.head()"
   ]
  },
  {
   "cell_type": "code",
   "execution_count": 37,
   "metadata": {},
   "outputs": [
    {
     "data": {
      "text/html": [
       "<div>\n",
       "<style scoped>\n",
       "    .dataframe tbody tr th:only-of-type {\n",
       "        vertical-align: middle;\n",
       "    }\n",
       "\n",
       "    .dataframe tbody tr th {\n",
       "        vertical-align: top;\n",
       "    }\n",
       "\n",
       "    .dataframe thead th {\n",
       "        text-align: right;\n",
       "    }\n",
       "</style>\n",
       "<table border=\"1\" class=\"dataframe\">\n",
       "  <thead>\n",
       "    <tr style=\"text-align: right;\">\n",
       "      <th></th>\n",
       "      <th>Base_bid</th>\n",
       "      <th>Imps</th>\n",
       "      <th>Spend</th>\n",
       "      <th>Click</th>\n",
       "      <th>Base_Bid</th>\n",
       "      <th>CTR</th>\n",
       "      <th>CPM</th>\n",
       "      <th>eCPC</th>\n",
       "    </tr>\n",
       "  </thead>\n",
       "  <tbody>\n",
       "    <tr>\n",
       "      <th>10</th>\n",
       "      <td>NaN</td>\n",
       "      <td>142777.0</td>\n",
       "      <td>6215.73</td>\n",
       "      <td>158.0</td>\n",
       "      <td>30.0</td>\n",
       "      <td>0.00111</td>\n",
       "      <td>43.53</td>\n",
       "      <td>39.34</td>\n",
       "    </tr>\n",
       "  </tbody>\n",
       "</table>\n",
       "</div>"
      ],
      "text/plain": [
       "   Base_bid      Imps    Spend  Click  Base_Bid      CTR    CPM   eCPC\n",
       "10      NaN  142777.0  6215.73  158.0      30.0  0.00111  43.53  39.34"
      ]
     },
     "execution_count": 37,
     "metadata": {},
     "output_type": "execute_result"
    }
   ],
   "source": [
    "Exp.iloc[np.where(Exp.Click == Exp.Click.max())[0]]"
   ]
  },
  {
   "cell_type": "markdown",
   "metadata": {},
   "source": [
    "## 4.3 Gradient Boosting Classifier (GBC) + Non-Linear Bidding Strategies"
   ]
  },
  {
   "cell_type": "code",
   "execution_count": null,
   "metadata": {},
   "outputs": [],
   "source": [
    "gbc = ensemble.GradientBoostingClassifier(**{'n_estimators': 250, 'max_depth': 4, 'min_samples_split': 2,\n",
    "          'learning_rate': 0.05, 'loss': 'deviance'})\n",
    "gbc.fit(x_new, y_new)\n",
    "pred_y_gbc = gbc.predict_proba(valid_new)"
   ]
  },
  {
   "cell_type": "code",
   "execution_count": null,
   "metadata": {},
   "outputs": [],
   "source": [
    "auc1=roc_auc_score(y_val, pred_y_gbc[:,1])"
   ]
  },
  {
   "cell_type": "code",
   "execution_count": 22,
   "metadata": {},
   "outputs": [
    {
     "name": "stdout",
     "output_type": "stream",
     "text": [
      "0.8802152091227731\n"
     ]
    }
   ],
   "source": [
    "print(auc1)"
   ]
  },
  {
   "cell_type": "code",
   "execution_count": 23,
   "metadata": {},
   "outputs": [
    {
     "data": {
      "image/png": "[encoded data removed]",
      "text/plain": [
       "<Figure size 432x288 with 1 Axes>"
      ]
     },
     "metadata": {
      "needs_background": "light"
     },
     "output_type": "display_data"
    }
   ],
   "source": [
    "fpr, tpr, thresholds = roc_curve(y_val, pred_y_gbc[:,1])\n",
    "plt.plot([0, 1], [0, 1], linestyle='--')\n",
    "plt.plot(fpr, tpr, marker='.')\n",
    "#plt.savefig('Q4.png',dpi=300)\n",
    "plt.show()"
   ]
  },
  {
   "cell_type": "code",
   "execution_count": 24,
   "metadata": {
    "collapsed": true
   },
   "outputs": [
    {
     "data": {
      "image/png": "[encoded data removed]",
      "text/plain": [
       "<Figure size 1224x288 with 2 Axes>"
      ]
     },
     "metadata": {
      "needs_background": "light"
     },
     "output_type": "display_data"
    }
   ],
   "source": [
    "fig, (ax1, ax2)=plt.subplots(1,2,figsize=(17,4))\n",
    "\n",
    "fpr, tpr, thresholds = roc_curve(y_val, y_valid_p[:,1])\n",
    "ax1.plot([0, 1], [0, 1], linestyle='--')\n",
    "ax1.plot(fpr, tpr, marker='.')\n",
    "ax1.set_title(\"ROC Curve for LR\")\n",
    "\n",
    "fpr1, tpr1, thresholds1 = roc_curve(y_val, pred_y_gbc[:,1])\n",
    "ax2.plot([0, 1], [0, 1], linestyle='--')\n",
    "ax2.plot(fpr1, tpr1, marker='.')\n",
    "ax2.set_title(\"ROC Curve for GBC\")\n",
    "plt.savefig('ROC ALL.png',dpi=300)\n",
    "plt.tight_layout()"
   ]
  },
  {
   "cell_type": "code",
   "execution_count": null,
   "metadata": {},
   "outputs": [],
   "source": [
    "#average CTR\n",
    "avgCTR = sum(y)/len(y)\n",
    "\n",
    "#validation pCTR\n",
    "pCTR_valid_gbc_before = pred_y_gbc[:,1]\n",
    "pCTR_valid_gbc = pCTR_valid_gbc_before / (pCTR_valid_gbc_before +(1-pCTR_valid_gbc_before)/0.03)"
   ]
  },
  {
   "cell_type": "markdown",
   "metadata": {},
   "source": [
    "### 4.3.1 GBC + ORTB"
   ]
  },
  {
   "cell_type": "code",
   "execution_count": 44,
   "metadata": {},
   "outputs": [],
   "source": [
    "ORTB1 = pd.DataFrame(columns = ['c0', 'lambda0', 'Imps', 'Spend', 'Click'])\n",
    "\n",
    "c0 = 0\n",
    "lambda0 = 0\n",
    "lambda_domain = [1e-8, 5e-8, 1e-7, 5e-7, 1e-6, 5e-6, 1e-5, 5e-5, 1e-4, 5e-4]\n",
    "iteration = 0\n",
    "max_num = 0\n",
    "\n",
    "for c in np.arange(4,25,2):\n",
    "    for m in lambda_domain:\n",
    "        iteration += 1\n",
    "        bid = np.sqrt(c * pCTR_valid_gbc / m + c*c) - c\n",
    "        \n",
    "        click, imps, spend, CTR, CPM, eCPC = bidding(bid)\n",
    "        \n",
    "        if click > max_num:\n",
    "                max_num = click\n",
    "                lambda0 = m\n",
    "                c0 = c\n",
    "                \n",
    "        ORTB1.loc[iteration,'Imps'] = imps\n",
    "        ORTB1.loc[iteration,'c0'] = c0\n",
    "        ORTB1.loc[iteration,'lambda0'] = lambda0\n",
    "        ORTB1.loc[iteration,'Click'] = click\n",
    "        ORTB1.loc[iteration,'Spend'] = round(spend,2)\n",
    "        ORTB1.loc[iteration,'CTR'] = round(CTR,5)\n",
    "        ORTB1.loc[iteration,'CPM'] = round(CPM*1000,2)\n",
    "        ORTB1.loc[iteration,'eCPC'] = round(eCPC,2)"
   ]
  },
  {
   "cell_type": "code",
   "execution_count": 45,
   "metadata": {},
   "outputs": [
    {
     "data": {
      "text/html": [
       "<div>\n",
       "<style scoped>\n",
       "    .dataframe tbody tr th:only-of-type {\n",
       "        vertical-align: middle;\n",
       "    }\n",
       "\n",
       "    .dataframe tbody tr th {\n",
       "        vertical-align: top;\n",
       "    }\n",
       "\n",
       "    .dataframe thead th {\n",
       "        text-align: right;\n",
       "    }\n",
       "</style>\n",
       "<table border=\"1\" class=\"dataframe\">\n",
       "  <thead>\n",
       "    <tr style=\"text-align: right;\">\n",
       "      <th></th>\n",
       "      <th>c0</th>\n",
       "      <th>lambda0</th>\n",
       "      <th>Imps</th>\n",
       "      <th>Spend</th>\n",
       "      <th>Click</th>\n",
       "      <th>CTR</th>\n",
       "      <th>CPM</th>\n",
       "      <th>eCPC</th>\n",
       "    </tr>\n",
       "  </thead>\n",
       "  <tbody>\n",
       "    <tr>\n",
       "      <th>1</th>\n",
       "      <td>4.0</td>\n",
       "      <td>1e-08</td>\n",
       "      <td>80761.0</td>\n",
       "      <td>6250.00</td>\n",
       "      <td>52.0</td>\n",
       "      <td>0.00064</td>\n",
       "      <td>77.39</td>\n",
       "      <td>120.19</td>\n",
       "    </tr>\n",
       "    <tr>\n",
       "      <th>2</th>\n",
       "      <td>4.0</td>\n",
       "      <td>5e-08</td>\n",
       "      <td>99935.0</td>\n",
       "      <td>6250.00</td>\n",
       "      <td>66.0</td>\n",
       "      <td>0.00066</td>\n",
       "      <td>62.54</td>\n",
       "      <td>94.70</td>\n",
       "    </tr>\n",
       "    <tr>\n",
       "      <th>3</th>\n",
       "      <td>4.0</td>\n",
       "      <td>1e-07</td>\n",
       "      <td>116465.0</td>\n",
       "      <td>6250.00</td>\n",
       "      <td>84.0</td>\n",
       "      <td>0.00072</td>\n",
       "      <td>53.66</td>\n",
       "      <td>74.40</td>\n",
       "    </tr>\n",
       "    <tr>\n",
       "      <th>4</th>\n",
       "      <td>4.0</td>\n",
       "      <td>5e-07</td>\n",
       "      <td>107294.0</td>\n",
       "      <td>3352.30</td>\n",
       "      <td>137.0</td>\n",
       "      <td>0.00128</td>\n",
       "      <td>31.24</td>\n",
       "      <td>24.47</td>\n",
       "    </tr>\n",
       "    <tr>\n",
       "      <th>5</th>\n",
       "      <td>4.0</td>\n",
       "      <td>5e-07</td>\n",
       "      <td>72738.0</td>\n",
       "      <td>1711.47</td>\n",
       "      <td>111.0</td>\n",
       "      <td>0.00153</td>\n",
       "      <td>23.53</td>\n",
       "      <td>15.42</td>\n",
       "    </tr>\n",
       "  </tbody>\n",
       "</table>\n",
       "</div>"
      ],
      "text/plain": [
       "    c0 lambda0      Imps    Spend  Click      CTR    CPM    eCPC\n",
       "1  4.0   1e-08   80761.0  6250.00   52.0  0.00064  77.39  120.19\n",
       "2  4.0   5e-08   99935.0  6250.00   66.0  0.00066  62.54   94.70\n",
       "3  4.0   1e-07  116465.0  6250.00   84.0  0.00072  53.66   74.40\n",
       "4  4.0   5e-07  107294.0  3352.30  137.0  0.00128  31.24   24.47\n",
       "5  4.0   5e-07   72738.0  1711.47  111.0  0.00153  23.53   15.42"
      ]
     },
     "execution_count": 45,
     "metadata": {},
     "output_type": "execute_result"
    }
   ],
   "source": [
    "ORTB1.head()"
   ]
  },
  {
   "cell_type": "code",
   "execution_count": 46,
   "metadata": {},
   "outputs": [
    {
     "data": {
      "text/html": [
       "<div>\n",
       "<style scoped>\n",
       "    .dataframe tbody tr th:only-of-type {\n",
       "        vertical-align: middle;\n",
       "    }\n",
       "\n",
       "    .dataframe tbody tr th {\n",
       "        vertical-align: top;\n",
       "    }\n",
       "\n",
       "    .dataframe thead th {\n",
       "        text-align: right;\n",
       "    }\n",
       "</style>\n",
       "<table border=\"1\" class=\"dataframe\">\n",
       "  <thead>\n",
       "    <tr style=\"text-align: right;\">\n",
       "      <th></th>\n",
       "      <th>c0</th>\n",
       "      <th>lambda0</th>\n",
       "      <th>Imps</th>\n",
       "      <th>Spend</th>\n",
       "      <th>Click</th>\n",
       "      <th>CTR</th>\n",
       "      <th>CPM</th>\n",
       "      <th>eCPC</th>\n",
       "    </tr>\n",
       "  </thead>\n",
       "  <tbody>\n",
       "    <tr>\n",
       "      <th>95</th>\n",
       "      <td>22.0</td>\n",
       "      <td>1e-06</td>\n",
       "      <td>149664.0</td>\n",
       "      <td>6145.41</td>\n",
       "      <td>162.0</td>\n",
       "      <td>0.00108</td>\n",
       "      <td>41.06</td>\n",
       "      <td>37.93</td>\n",
       "    </tr>\n",
       "  </tbody>\n",
       "</table>\n",
       "</div>"
      ],
      "text/plain": [
       "      c0 lambda0      Imps    Spend  Click      CTR    CPM   eCPC\n",
       "95  22.0   1e-06  149664.0  6145.41  162.0  0.00108  41.06  37.93"
      ]
     },
     "execution_count": 46,
     "metadata": {},
     "output_type": "execute_result"
    }
   ],
   "source": [
    "ORTB1.iloc[np.where(ORTB1.Click == ORTB1.Click.max())[0]]"
   ]
  },
  {
   "cell_type": "markdown",
   "metadata": {},
   "source": [
    "### 4.3.2 GBC + Quadratic"
   ]
  },
  {
   "cell_type": "code",
   "execution_count": 47,
   "metadata": {},
   "outputs": [],
   "source": [
    "Qaud1 = pd.DataFrame(columns=['Base_bid','Imps','Spend','Click'])\n",
    "\n",
    "iteration = 0\n",
    "for i in np.arange(3,300,3):\n",
    "    iteration += 1\n",
    "    base_bid = i\n",
    "    #Non-linear strategy inputs to get bid price \n",
    "    bid = base_bid * (pCTR_valid_gbc/ avgCTR)**2\n",
    "    #bidding mechanism\n",
    "    click, imps, spend, CTR, CPM, eCPC = bidding(bid)\n",
    "    #feeding data into a dataframe\n",
    "    Qaud1.loc[iteration,'Base_Bid'] = base_bid\n",
    "    Qaud1.loc[iteration,'Imps'] = imps\n",
    "    Qaud1.loc[iteration,'Click'] = click\n",
    "    Qaud1.loc[iteration,'Spend'] = round(spend,2)\n",
    "    Qaud1.loc[iteration,'CTR'] = round(CTR,5)\n",
    "    Qaud1.loc[iteration,'CPM'] = round(CPM*1000,2)\n",
    "    Qaud1.loc[iteration,'eCPC'] = round(eCPC,2)"
   ]
  },
  {
   "cell_type": "code",
   "execution_count": 48,
   "metadata": {},
   "outputs": [
    {
     "data": {
      "text/html": [
       "<div>\n",
       "<style scoped>\n",
       "    .dataframe tbody tr th:only-of-type {\n",
       "        vertical-align: middle;\n",
       "    }\n",
       "\n",
       "    .dataframe tbody tr th {\n",
       "        vertical-align: top;\n",
       "    }\n",
       "\n",
       "    .dataframe thead th {\n",
       "        text-align: right;\n",
       "    }\n",
       "</style>\n",
       "<table border=\"1\" class=\"dataframe\">\n",
       "  <thead>\n",
       "    <tr style=\"text-align: right;\">\n",
       "      <th></th>\n",
       "      <th>Base_bid</th>\n",
       "      <th>Imps</th>\n",
       "      <th>Spend</th>\n",
       "      <th>Click</th>\n",
       "      <th>Base_Bid</th>\n",
       "      <th>CTR</th>\n",
       "      <th>CPM</th>\n",
       "      <th>eCPC</th>\n",
       "    </tr>\n",
       "  </thead>\n",
       "  <tbody>\n",
       "    <tr>\n",
       "      <th>1</th>\n",
       "      <td>NaN</td>\n",
       "      <td>6882.0</td>\n",
       "      <td>340.57</td>\n",
       "      <td>92.0</td>\n",
       "      <td>3.0</td>\n",
       "      <td>0.01337</td>\n",
       "      <td>49.49</td>\n",
       "      <td>3.70</td>\n",
       "    </tr>\n",
       "    <tr>\n",
       "      <th>2</th>\n",
       "      <td>NaN</td>\n",
       "      <td>9670.0</td>\n",
       "      <td>515.99</td>\n",
       "      <td>100.0</td>\n",
       "      <td>6.0</td>\n",
       "      <td>0.01034</td>\n",
       "      <td>53.36</td>\n",
       "      <td>5.16</td>\n",
       "    </tr>\n",
       "    <tr>\n",
       "      <th>3</th>\n",
       "      <td>NaN</td>\n",
       "      <td>11627.0</td>\n",
       "      <td>632.75</td>\n",
       "      <td>107.0</td>\n",
       "      <td>9.0</td>\n",
       "      <td>0.00920</td>\n",
       "      <td>54.42</td>\n",
       "      <td>5.91</td>\n",
       "    </tr>\n",
       "    <tr>\n",
       "      <th>4</th>\n",
       "      <td>NaN</td>\n",
       "      <td>13769.0</td>\n",
       "      <td>747.86</td>\n",
       "      <td>110.0</td>\n",
       "      <td>12.0</td>\n",
       "      <td>0.00799</td>\n",
       "      <td>54.31</td>\n",
       "      <td>6.80</td>\n",
       "    </tr>\n",
       "    <tr>\n",
       "      <th>5</th>\n",
       "      <td>NaN</td>\n",
       "      <td>15860.0</td>\n",
       "      <td>860.43</td>\n",
       "      <td>114.0</td>\n",
       "      <td>15.0</td>\n",
       "      <td>0.00719</td>\n",
       "      <td>54.25</td>\n",
       "      <td>7.55</td>\n",
       "    </tr>\n",
       "  </tbody>\n",
       "</table>\n",
       "</div>"
      ],
      "text/plain": [
       "  Base_bid     Imps   Spend  Click  Base_Bid      CTR    CPM  eCPC\n",
       "1      NaN   6882.0  340.57   92.0       3.0  0.01337  49.49  3.70\n",
       "2      NaN   9670.0  515.99  100.0       6.0  0.01034  53.36  5.16\n",
       "3      NaN  11627.0  632.75  107.0       9.0  0.00920  54.42  5.91\n",
       "4      NaN  13769.0  747.86  110.0      12.0  0.00799  54.31  6.80\n",
       "5      NaN  15860.0  860.43  114.0      15.0  0.00719  54.25  7.55"
      ]
     },
     "execution_count": 48,
     "metadata": {},
     "output_type": "execute_result"
    }
   ],
   "source": [
    "Qaud1.head()"
   ]
  },
  {
   "cell_type": "code",
   "execution_count": 49,
   "metadata": {},
   "outputs": [
    {
     "data": {
      "text/html": [
       "<div>\n",
       "<style scoped>\n",
       "    .dataframe tbody tr th:only-of-type {\n",
       "        vertical-align: middle;\n",
       "    }\n",
       "\n",
       "    .dataframe tbody tr th {\n",
       "        vertical-align: top;\n",
       "    }\n",
       "\n",
       "    .dataframe thead th {\n",
       "        text-align: right;\n",
       "    }\n",
       "</style>\n",
       "<table border=\"1\" class=\"dataframe\">\n",
       "  <thead>\n",
       "    <tr style=\"text-align: right;\">\n",
       "      <th></th>\n",
       "      <th>Base_bid</th>\n",
       "      <th>Imps</th>\n",
       "      <th>Spend</th>\n",
       "      <th>Click</th>\n",
       "      <th>Base_Bid</th>\n",
       "      <th>CTR</th>\n",
       "      <th>CPM</th>\n",
       "      <th>eCPC</th>\n",
       "    </tr>\n",
       "  </thead>\n",
       "  <tbody>\n",
       "    <tr>\n",
       "      <th>72</th>\n",
       "      <td>NaN</td>\n",
       "      <td>105933.0</td>\n",
       "      <td>5929.48</td>\n",
       "      <td>161.0</td>\n",
       "      <td>216.0</td>\n",
       "      <td>0.00152</td>\n",
       "      <td>55.97</td>\n",
       "      <td>36.83</td>\n",
       "    </tr>\n",
       "    <tr>\n",
       "      <th>73</th>\n",
       "      <td>NaN</td>\n",
       "      <td>106988.0</td>\n",
       "      <td>5995.05</td>\n",
       "      <td>161.0</td>\n",
       "      <td>219.0</td>\n",
       "      <td>0.00150</td>\n",
       "      <td>56.03</td>\n",
       "      <td>37.24</td>\n",
       "    </tr>\n",
       "    <tr>\n",
       "      <th>74</th>\n",
       "      <td>NaN</td>\n",
       "      <td>107946.0</td>\n",
       "      <td>6059.23</td>\n",
       "      <td>161.0</td>\n",
       "      <td>222.0</td>\n",
       "      <td>0.00149</td>\n",
       "      <td>56.13</td>\n",
       "      <td>37.63</td>\n",
       "    </tr>\n",
       "    <tr>\n",
       "      <th>75</th>\n",
       "      <td>NaN</td>\n",
       "      <td>108906.0</td>\n",
       "      <td>6124</td>\n",
       "      <td>161.0</td>\n",
       "      <td>225.0</td>\n",
       "      <td>0.00148</td>\n",
       "      <td>56.23</td>\n",
       "      <td>38.04</td>\n",
       "    </tr>\n",
       "    <tr>\n",
       "      <th>76</th>\n",
       "      <td>NaN</td>\n",
       "      <td>109844.0</td>\n",
       "      <td>6191</td>\n",
       "      <td>161.0</td>\n",
       "      <td>228.0</td>\n",
       "      <td>0.00147</td>\n",
       "      <td>56.36</td>\n",
       "      <td>38.45</td>\n",
       "    </tr>\n",
       "    <tr>\n",
       "      <th>77</th>\n",
       "      <td>NaN</td>\n",
       "      <td>110736.0</td>\n",
       "      <td>6250</td>\n",
       "      <td>161.0</td>\n",
       "      <td>231.0</td>\n",
       "      <td>0.00145</td>\n",
       "      <td>56.44</td>\n",
       "      <td>38.82</td>\n",
       "    </tr>\n",
       "  </tbody>\n",
       "</table>\n",
       "</div>"
      ],
      "text/plain": [
       "   Base_bid      Imps    Spend  Click  Base_Bid      CTR    CPM   eCPC\n",
       "72      NaN  105933.0  5929.48  161.0     216.0  0.00152  55.97  36.83\n",
       "73      NaN  106988.0  5995.05  161.0     219.0  0.00150  56.03  37.24\n",
       "74      NaN  107946.0  6059.23  161.0     222.0  0.00149  56.13  37.63\n",
       "75      NaN  108906.0     6124  161.0     225.0  0.00148  56.23  38.04\n",
       "76      NaN  109844.0     6191  161.0     228.0  0.00147  56.36  38.45\n",
       "77      NaN  110736.0     6250  161.0     231.0  0.00145  56.44  38.82"
      ]
     },
     "execution_count": 49,
     "metadata": {},
     "output_type": "execute_result"
    }
   ],
   "source": [
    "Qaud1.iloc[np.where(Qaud1.Click == Qaud1.Click.max())[0]]"
   ]
  },
  {
   "cell_type": "markdown",
   "metadata": {},
   "source": [
    "### 4.3.3 GBC + Exponential"
   ]
  },
  {
   "cell_type": "code",
   "execution_count": 50,
   "metadata": {},
   "outputs": [],
   "source": [
    "Exp1 = pd.DataFrame(columns=['Base_bid','Imps','Spend','Click'])\n",
    "\n",
    "iteration = 0\n",
    "for i in np.arange(3,303,3):\n",
    "    iteration += 1\n",
    "    base_bid = i\n",
    "    #Non-linear strategy inputs to get bid price \n",
    "    bid = base_bid * np.exp(pCTR_valid_gbc/avgCTR)\n",
    "    #bidding mechanism\n",
    "    click, imps, spend, CTR, CPM, eCPC = bidding(bid)\n",
    "    #feeding data into a dataframe\n",
    "    Exp1.loc[iteration,'Base_Bid'] = base_bid\n",
    "    Exp1.loc[iteration,'Imps'] = imps\n",
    "    Exp1.loc[iteration,'Click'] = click\n",
    "    Exp1.loc[iteration,'Spend'] = round(spend,2)\n",
    "    Exp1.loc[iteration,'CTR'] = round(CTR,5)\n",
    "    Exp1.loc[iteration,'CPM'] = round(CPM*1000,2)\n",
    "    Exp1.loc[iteration,'eCPC'] = round(eCPC,2)"
   ]
  },
  {
   "cell_type": "code",
   "execution_count": 51,
   "metadata": {},
   "outputs": [
    {
     "data": {
      "text/html": [
       "<div>\n",
       "<style scoped>\n",
       "    .dataframe tbody tr th:only-of-type {\n",
       "        vertical-align: middle;\n",
       "    }\n",
       "\n",
       "    .dataframe tbody tr th {\n",
       "        vertical-align: top;\n",
       "    }\n",
       "\n",
       "    .dataframe thead th {\n",
       "        text-align: right;\n",
       "    }\n",
       "</style>\n",
       "<table border=\"1\" class=\"dataframe\">\n",
       "  <thead>\n",
       "    <tr style=\"text-align: right;\">\n",
       "      <th></th>\n",
       "      <th>Base_bid</th>\n",
       "      <th>Imps</th>\n",
       "      <th>Spend</th>\n",
       "      <th>Click</th>\n",
       "      <th>Base_Bid</th>\n",
       "      <th>CTR</th>\n",
       "      <th>CPM</th>\n",
       "      <th>eCPC</th>\n",
       "    </tr>\n",
       "  </thead>\n",
       "  <tbody>\n",
       "    <tr>\n",
       "      <th>1</th>\n",
       "      <td>NaN</td>\n",
       "      <td>12740.0</td>\n",
       "      <td>619.26</td>\n",
       "      <td>108.0</td>\n",
       "      <td>3.0</td>\n",
       "      <td>0.00848</td>\n",
       "      <td>48.61</td>\n",
       "      <td>5.73</td>\n",
       "    </tr>\n",
       "    <tr>\n",
       "      <th>2</th>\n",
       "      <td>NaN</td>\n",
       "      <td>24441.0</td>\n",
       "      <td>858.86</td>\n",
       "      <td>112.0</td>\n",
       "      <td>6.0</td>\n",
       "      <td>0.00458</td>\n",
       "      <td>35.14</td>\n",
       "      <td>7.67</td>\n",
       "    </tr>\n",
       "    <tr>\n",
       "      <th>3</th>\n",
       "      <td>NaN</td>\n",
       "      <td>33979.0</td>\n",
       "      <td>1108.26</td>\n",
       "      <td>118.0</td>\n",
       "      <td>9.0</td>\n",
       "      <td>0.00347</td>\n",
       "      <td>32.62</td>\n",
       "      <td>9.39</td>\n",
       "    </tr>\n",
       "    <tr>\n",
       "      <th>4</th>\n",
       "      <td>NaN</td>\n",
       "      <td>44676.0</td>\n",
       "      <td>1397.52</td>\n",
       "      <td>123.0</td>\n",
       "      <td>12.0</td>\n",
       "      <td>0.00275</td>\n",
       "      <td>31.28</td>\n",
       "      <td>11.36</td>\n",
       "    </tr>\n",
       "    <tr>\n",
       "      <th>5</th>\n",
       "      <td>NaN</td>\n",
       "      <td>60523.0</td>\n",
       "      <td>1820.41</td>\n",
       "      <td>134.0</td>\n",
       "      <td>15.0</td>\n",
       "      <td>0.00221</td>\n",
       "      <td>30.08</td>\n",
       "      <td>13.59</td>\n",
       "    </tr>\n",
       "  </tbody>\n",
       "</table>\n",
       "</div>"
      ],
      "text/plain": [
       "  Base_bid     Imps    Spend  Click  Base_Bid      CTR    CPM   eCPC\n",
       "1      NaN  12740.0   619.26  108.0       3.0  0.00848  48.61   5.73\n",
       "2      NaN  24441.0   858.86  112.0       6.0  0.00458  35.14   7.67\n",
       "3      NaN  33979.0  1108.26  118.0       9.0  0.00347  32.62   9.39\n",
       "4      NaN  44676.0  1397.52  123.0      12.0  0.00275  31.28  11.36\n",
       "5      NaN  60523.0  1820.41  134.0      15.0  0.00221  30.08  13.59"
      ]
     },
     "execution_count": 51,
     "metadata": {},
     "output_type": "execute_result"
    }
   ],
   "source": [
    "Exp1.head()"
   ]
  },
  {
   "cell_type": "code",
   "execution_count": 52,
   "metadata": {},
   "outputs": [
    {
     "data": {
      "text/html": [
       "<div>\n",
       "<style scoped>\n",
       "    .dataframe tbody tr th:only-of-type {\n",
       "        vertical-align: middle;\n",
       "    }\n",
       "\n",
       "    .dataframe tbody tr th {\n",
       "        vertical-align: top;\n",
       "    }\n",
       "\n",
       "    .dataframe thead th {\n",
       "        text-align: right;\n",
       "    }\n",
       "</style>\n",
       "<table border=\"1\" class=\"dataframe\">\n",
       "  <thead>\n",
       "    <tr style=\"text-align: right;\">\n",
       "      <th></th>\n",
       "      <th>Base_bid</th>\n",
       "      <th>Imps</th>\n",
       "      <th>Spend</th>\n",
       "      <th>Click</th>\n",
       "      <th>Base_Bid</th>\n",
       "      <th>CTR</th>\n",
       "      <th>CPM</th>\n",
       "      <th>eCPC</th>\n",
       "    </tr>\n",
       "  </thead>\n",
       "  <tbody>\n",
       "    <tr>\n",
       "      <th>12</th>\n",
       "      <td>NaN</td>\n",
       "      <td>140031.0</td>\n",
       "      <td>5572.55</td>\n",
       "      <td>158.0</td>\n",
       "      <td>36.0</td>\n",
       "      <td>0.00113</td>\n",
       "      <td>39.8</td>\n",
       "      <td>35.27</td>\n",
       "    </tr>\n",
       "  </tbody>\n",
       "</table>\n",
       "</div>"
      ],
      "text/plain": [
       "   Base_bid      Imps    Spend  Click  Base_Bid      CTR   CPM   eCPC\n",
       "12      NaN  140031.0  5572.55  158.0      36.0  0.00113  39.8  35.27"
      ]
     },
     "execution_count": 52,
     "metadata": {},
     "output_type": "execute_result"
    }
   ],
   "source": [
    "Exp1.iloc[np.where(Exp1.Click == Exp1.Click.max())[0]]"
   ]
  },
  {
   "cell_type": "markdown",
   "metadata": {},
   "source": [
    "## ---------------- GBC+Cubic -----------------"
   ]
  },
  {
   "cell_type": "code",
   "execution_count": 56,
   "metadata": {},
   "outputs": [],
   "source": [
    "S3 = pd.DataFrame(columns = ['Base_Bid','Imps','Click','Spend','CTR','CPM','eCPC'])\n",
    "iteration = 0\n",
    "for i in np.arange(20,500,5):\n",
    "    iteration += 1\n",
    "    base_bid = i\n",
    "    #linear strategy inputs to get bid price \n",
    "    bid = base_bid * (pCTR_valid_gbc/avgCTR)**3\n",
    "    #bidding mechanism\n",
    "    click, imps, spend, CTR, CPM, eCPC = bidding(bid)\n",
    "    #feeding data into a dataframe\n",
    "    S3.loc[iteration,'Base_Bid'] = base_bid\n",
    "    S3.loc[iteration,'Imps'] = imps\n",
    "    S3.loc[iteration,'Click'] = click\n",
    "    S3.loc[iteration,'Spend'] = round(spend,2)\n",
    "    S3.loc[iteration,'CTR'] = round(CTR,5)\n",
    "    S3.loc[iteration,'CPM'] = round(CPM*1000,2)\n",
    "    S3.loc[iteration,'eCPC'] = round(eCPC,2)"
   ]
  },
  {
   "cell_type": "code",
   "execution_count": 57,
   "metadata": {},
   "outputs": [
    {
     "data": {
      "text/html": [
       "<div>\n",
       "<style scoped>\n",
       "    .dataframe tbody tr th:only-of-type {\n",
       "        vertical-align: middle;\n",
       "    }\n",
       "\n",
       "    .dataframe tbody tr th {\n",
       "        vertical-align: top;\n",
       "    }\n",
       "\n",
       "    .dataframe thead th {\n",
       "        text-align: right;\n",
       "    }\n",
       "</style>\n",
       "<table border=\"1\" class=\"dataframe\">\n",
       "  <thead>\n",
       "    <tr style=\"text-align: right;\">\n",
       "      <th></th>\n",
       "      <th>Base_Bid</th>\n",
       "      <th>Imps</th>\n",
       "      <th>Click</th>\n",
       "      <th>Spend</th>\n",
       "      <th>CTR</th>\n",
       "      <th>CPM</th>\n",
       "      <th>eCPC</th>\n",
       "    </tr>\n",
       "  </thead>\n",
       "  <tbody>\n",
       "    <tr>\n",
       "      <th>69</th>\n",
       "      <td>360</td>\n",
       "      <td>94530</td>\n",
       "      <td>164</td>\n",
       "      <td>6209.58</td>\n",
       "      <td>0.00173</td>\n",
       "      <td>65.69</td>\n",
       "      <td>37.86</td>\n",
       "    </tr>\n",
       "    <tr>\n",
       "      <th>70</th>\n",
       "      <td>365</td>\n",
       "      <td>95112</td>\n",
       "      <td>164</td>\n",
       "      <td>6250</td>\n",
       "      <td>0.00172</td>\n",
       "      <td>65.71</td>\n",
       "      <td>38.11</td>\n",
       "    </tr>\n",
       "  </tbody>\n",
       "</table>\n",
       "</div>"
      ],
      "text/plain": [
       "   Base_Bid   Imps Click    Spend      CTR    CPM   eCPC\n",
       "69      360  94530   164  6209.58  0.00173  65.69  37.86\n",
       "70      365  95112   164     6250  0.00172  65.71  38.11"
      ]
     },
     "execution_count": 57,
     "metadata": {},
     "output_type": "execute_result"
    }
   ],
   "source": [
    "S3.iloc[np.where(S3.Click == S3.Click.max())[0]]"
   ]
  },
  {
   "cell_type": "markdown",
   "metadata": {},
   "source": [
    "## -----------------GBC+Fourth Power-------------------"
   ]
  },
  {
   "cell_type": "code",
   "execution_count": 58,
   "metadata": {},
   "outputs": [],
   "source": [
    "S4 = pd.DataFrame(columns = ['Base_Bid','Imps','Click','Spend','CTR','CPM','eCPC'])\n",
    "iteration = 0\n",
    "for i in np.arange(470,900,5):\n",
    "    iteration += 1\n",
    "    base_bid = i\n",
    "    #linear strategy inputs to get bid price \n",
    "    bid = base_bid * (pCTR_valid_gbc/avgCTR)**4\n",
    "    #bidding mechanism\n",
    "    click, imps, spend, CTR, CPM, eCPC = bidding(bid)\n",
    "    #feeding data into a dataframe\n",
    "    S4.loc[iteration,'Base_Bid'] = base_bid\n",
    "    S4.loc[iteration,'Imps'] = imps\n",
    "    S4.loc[iteration,'Click'] = click\n",
    "    S4.loc[iteration,'Spend'] = round(spend,2)\n",
    "    S4.loc[iteration,'CTR'] = round(CTR,5)\n",
    "    S4.loc[iteration,'CPM'] = round(CPM*1000,2)\n",
    "    S4.loc[iteration,'eCPC'] = round(eCPC,2)"
   ]
  },
  {
   "cell_type": "code",
   "execution_count": 59,
   "metadata": {},
   "outputs": [
    {
     "data": {
      "text/html": [
       "<div>\n",
       "<style scoped>\n",
       "    .dataframe tbody tr th:only-of-type {\n",
       "        vertical-align: middle;\n",
       "    }\n",
       "\n",
       "    .dataframe tbody tr th {\n",
       "        vertical-align: top;\n",
       "    }\n",
       "\n",
       "    .dataframe thead th {\n",
       "        text-align: right;\n",
       "    }\n",
       "</style>\n",
       "<table border=\"1\" class=\"dataframe\">\n",
       "  <thead>\n",
       "    <tr style=\"text-align: right;\">\n",
       "      <th></th>\n",
       "      <th>Base_Bid</th>\n",
       "      <th>Imps</th>\n",
       "      <th>Click</th>\n",
       "      <th>Spend</th>\n",
       "      <th>CTR</th>\n",
       "      <th>CPM</th>\n",
       "      <th>eCPC</th>\n",
       "    </tr>\n",
       "  </thead>\n",
       "  <tbody>\n",
       "    <tr>\n",
       "      <th>15</th>\n",
       "      <td>540</td>\n",
       "      <td>85693</td>\n",
       "      <td>163</td>\n",
       "      <td>6138.03</td>\n",
       "      <td>0.0019</td>\n",
       "      <td>71.63</td>\n",
       "      <td>37.66</td>\n",
       "    </tr>\n",
       "    <tr>\n",
       "      <th>16</th>\n",
       "      <td>545</td>\n",
       "      <td>85959</td>\n",
       "      <td>163</td>\n",
       "      <td>6157.74</td>\n",
       "      <td>0.0019</td>\n",
       "      <td>71.64</td>\n",
       "      <td>37.78</td>\n",
       "    </tr>\n",
       "    <tr>\n",
       "      <th>17</th>\n",
       "      <td>550</td>\n",
       "      <td>86220</td>\n",
       "      <td>163</td>\n",
       "      <td>6178.01</td>\n",
       "      <td>0.00189</td>\n",
       "      <td>71.65</td>\n",
       "      <td>37.9</td>\n",
       "    </tr>\n",
       "    <tr>\n",
       "      <th>18</th>\n",
       "      <td>555</td>\n",
       "      <td>86538</td>\n",
       "      <td>163</td>\n",
       "      <td>6205.88</td>\n",
       "      <td>0.00188</td>\n",
       "      <td>71.71</td>\n",
       "      <td>38.07</td>\n",
       "    </tr>\n",
       "    <tr>\n",
       "      <th>19</th>\n",
       "      <td>560</td>\n",
       "      <td>86845</td>\n",
       "      <td>163</td>\n",
       "      <td>6230.74</td>\n",
       "      <td>0.00188</td>\n",
       "      <td>71.75</td>\n",
       "      <td>38.23</td>\n",
       "    </tr>\n",
       "    <tr>\n",
       "      <th>20</th>\n",
       "      <td>565</td>\n",
       "      <td>87115</td>\n",
       "      <td>163</td>\n",
       "      <td>6249.13</td>\n",
       "      <td>0.00187</td>\n",
       "      <td>71.73</td>\n",
       "      <td>38.34</td>\n",
       "    </tr>\n",
       "  </tbody>\n",
       "</table>\n",
       "</div>"
      ],
      "text/plain": [
       "   Base_Bid   Imps Click    Spend      CTR    CPM   eCPC\n",
       "15      540  85693   163  6138.03   0.0019  71.63  37.66\n",
       "16      545  85959   163  6157.74   0.0019  71.64  37.78\n",
       "17      550  86220   163  6178.01  0.00189  71.65   37.9\n",
       "18      555  86538   163  6205.88  0.00188  71.71  38.07\n",
       "19      560  86845   163  6230.74  0.00188  71.75  38.23\n",
       "20      565  87115   163  6249.13  0.00187  71.73  38.34"
      ]
     },
     "execution_count": 59,
     "metadata": {},
     "output_type": "execute_result"
    }
   ],
   "source": [
    "S4.iloc[np.where(S4.Click == S4.Click.max())[0]]"
   ]
  },
  {
   "cell_type": "markdown",
   "metadata": {},
   "source": [
    "## ---------------GBC+Fifth Power-------------"
   ]
  },
  {
   "cell_type": "code",
   "execution_count": 60,
   "metadata": {},
   "outputs": [],
   "source": [
    "S5 = pd.DataFrame(columns = ['Base_Bid','Imps','Click','Spend','CTR','CPM','eCPC'])\n",
    "iteration = 0\n",
    "for i in np.arange(570,800,5):\n",
    "    iteration += 1\n",
    "    base_bid = i\n",
    "    #linear strategy inputs to get bid price \n",
    "    bid = base_bid * (pCTR_valid_gbc/avgCTR)**5\n",
    "    #bidding mechanism\n",
    "    click, imps, spend, CTR, CPM, eCPC = bidding(bid)\n",
    "    #feeding data into a dataframe\n",
    "    S5.loc[iteration,'Base_Bid'] = base_bid\n",
    "    S5.loc[iteration,'Imps'] = imps\n",
    "    S5.loc[iteration,'Click'] = click\n",
    "    S5.loc[iteration,'Spend'] = round(spend,2)\n",
    "    S5.loc[iteration,'CTR'] = round(CTR,5)\n",
    "    S5.loc[iteration,'CPM'] = round(CPM*1000,2)\n",
    "    S5.loc[iteration,'eCPC'] = round(eCPC,2)"
   ]
  },
  {
   "cell_type": "code",
   "execution_count": 61,
   "metadata": {},
   "outputs": [
    {
     "data": {
      "text/html": [
       "<div>\n",
       "<style scoped>\n",
       "    .dataframe tbody tr th:only-of-type {\n",
       "        vertical-align: middle;\n",
       "    }\n",
       "\n",
       "    .dataframe tbody tr th {\n",
       "        vertical-align: top;\n",
       "    }\n",
       "\n",
       "    .dataframe thead th {\n",
       "        text-align: right;\n",
       "    }\n",
       "</style>\n",
       "<table border=\"1\" class=\"dataframe\">\n",
       "  <thead>\n",
       "    <tr style=\"text-align: right;\">\n",
       "      <th></th>\n",
       "      <th>Base_Bid</th>\n",
       "      <th>Imps</th>\n",
       "      <th>Click</th>\n",
       "      <th>Spend</th>\n",
       "      <th>CTR</th>\n",
       "      <th>CPM</th>\n",
       "      <th>eCPC</th>\n",
       "    </tr>\n",
       "  </thead>\n",
       "  <tbody>\n",
       "    <tr>\n",
       "      <th>43</th>\n",
       "      <td>780</td>\n",
       "      <td>80002</td>\n",
       "      <td>160</td>\n",
       "      <td>6040.57</td>\n",
       "      <td>0.002</td>\n",
       "      <td>75.51</td>\n",
       "      <td>37.75</td>\n",
       "    </tr>\n",
       "    <tr>\n",
       "      <th>44</th>\n",
       "      <td>785</td>\n",
       "      <td>80173</td>\n",
       "      <td>160</td>\n",
       "      <td>6053.32</td>\n",
       "      <td>0.002</td>\n",
       "      <td>75.5</td>\n",
       "      <td>37.83</td>\n",
       "    </tr>\n",
       "    <tr>\n",
       "      <th>45</th>\n",
       "      <td>790</td>\n",
       "      <td>80320</td>\n",
       "      <td>160</td>\n",
       "      <td>6065.72</td>\n",
       "      <td>0.00199</td>\n",
       "      <td>75.52</td>\n",
       "      <td>37.91</td>\n",
       "    </tr>\n",
       "    <tr>\n",
       "      <th>46</th>\n",
       "      <td>795</td>\n",
       "      <td>80473</td>\n",
       "      <td>160</td>\n",
       "      <td>6076.72</td>\n",
       "      <td>0.00199</td>\n",
       "      <td>75.51</td>\n",
       "      <td>37.98</td>\n",
       "    </tr>\n",
       "  </tbody>\n",
       "</table>\n",
       "</div>"
      ],
      "text/plain": [
       "   Base_Bid   Imps Click    Spend      CTR    CPM   eCPC\n",
       "43      780  80002   160  6040.57    0.002  75.51  37.75\n",
       "44      785  80173   160  6053.32    0.002   75.5  37.83\n",
       "45      790  80320   160  6065.72  0.00199  75.52  37.91\n",
       "46      795  80473   160  6076.72  0.00199  75.51  37.98"
      ]
     },
     "execution_count": 61,
     "metadata": {},
     "output_type": "execute_result"
    }
   ],
   "source": [
    "S5.iloc[np.where(S5.Click == S5.Click.max())[0]]"
   ]
  },
  {
   "cell_type": "markdown",
   "metadata": {},
   "source": [
    "## --------------GBC+OtherStrategy----------------"
   ]
  },
  {
   "cell_type": "code",
   "execution_count": null,
   "metadata": {},
   "outputs": [],
   "source": [
    "Q51 = pd.DataFrame(columns = ['Base_Bid','Imps','Click','Spend','CTR','CPM','eCPC'])\n",
    "iteration = 0\n",
    "for i in np.arange(3000,30000,1000):\n",
    "    iteration += 1\n",
    "    base_bid = i\n",
    "    #linear strategy inputs to get bid price \n",
    "    avg = np.mean(pCTR_valid_gbc)\n",
    "    bid = base_bid * (pCTR_gbc_array/avg)**3\n",
    "    #bidding mechanism \n",
    "    click, imps, spend, CTR, CPM, eCPC = bidding(bid)\n",
    "    #feeding data into a dataframe\n",
    "    Q51.loc[iteration,'Base_Bid'] = base_bid\n",
    "    Q51.loc[iteration,'Imps'] = imps\n",
    "    Q51.loc[iteration,'Click'] = click\n",
    "    Q51.loc[iteration,'Spend'] = round(spend,2)\n",
    "    Q51.loc[iteration,'CTR'] = round(CTR,5)\n",
    "    Q51.loc[iteration,'CPM'] = round(CPM*1000,2)\n",
    "    Q51.loc[iteration,'eCPC'] = round(eCPC,2)\n",
    "    print('Iteration',iteration,'/',(500-20)/5,': Click = ',click, '| Base_bid = ',base_bid, '| Spend = ',spend,\n",
    "          '| CTR = ',CTR, '| CPM = ', CPM*1000 , '| eCPC = ', eCPC)"
   ]
  },
  {
   "cell_type": "markdown",
   "metadata": {},
   "source": [
    "## ---------------GBC + Remove Bottom 30% ---------------"
   ]
  },
  {
   "cell_type": "code",
   "execution_count": 4,
   "metadata": {},
   "outputs": [],
   "source": [
    "p_payprice = pd.read_csv(\"p_payprice.csv\")\n",
    "pCTR = pd.read_csv(\"pCTR_valid.csv\")\n",
    "avgCTR = pCTR.mean()\n",
    "print(avgCTR)\n",
    "print(np.percentile(pCTR,30))"
   ]
  },
  {
   "cell_type": "code",
   "execution_count": 9,
   "metadata": {},
   "outputs": [],
   "source": [
    "pCTR_new = pCTR['p'].map(lambda x: 0 if x <0.0002 else np.exp(x))\n",
    "bid = pCTR_new * p_payprice['valid payprice']\n",
    "b = bid/ 0.000738\n",
    "bid = pd.DataFrame(b)\n",
    "bid.columns = ['pCTR']\n",
    "bid.head()"
   ]
  },
  {
   "cell_type": "code",
   "execution_count": 26,
   "metadata": {
    "collapsed": true
   },
   "outputs": [
    {
     "name": "stdout",
     "output_type": "stream",
     "text": [
      "Iteration 1 / 99.0 : Click =  61 | Constant =  0.0005 | Spend =  2128.710000002192 | CTR =  0.0008720639322935281 | CPM =  30.432314972368324 | eCPC =  34.896885245937575\n",
      "Iteration 2 / 99.0 : Click =  62 | Constant =  0.00051 | Spend =  2230.3490000021634 | CTR =  0.00086476232983709 | CPM =  31.10841609018862 | eCPC =  35.97337096777683\n",
      "Iteration 3 / 99.0 : Click =  64 | Constant =  0.0005200000000000001 | Spend =  2327.0860000021066 | CTR =  0.0008723981407014627 | CPM =  31.721023432097525 | eCPC =  36.360718750032916\n",
      "Iteration 4 / 99.0 : Click =  68 | Constant =  0.0005300000000000001 | Spend =  2421.239000002079 | CTR =  0.0009075015681093273 | CPM =  32.31291454807862 | eCPC =  35.606455882383514\n",
      "Iteration 5 / 99.0 : Click =  68 | Constant =  0.0005400000000000001 | Spend =  2505.5590000020934 | CTR =  0.0008906002383665344 | CPM =  32.81546239181294 | eCPC =  36.84645588238373\n",
      "Iteration 6 / 99.0 : Click =  70 | Constant =  0.0005500000000000001 | Spend =  2597.0150000021076 | CTR =  0.0008991419616708626 | CPM =  33.35835945129357 | eCPC =  37.10021428574439\n",
      "Iteration 7 / 99.0 : Click =  71 | Constant =  0.0005600000000000002 | Spend =  2700.965000002067 | CTR =  0.0008933289715392939 | CPM =  33.983806839654584 | eCPC =  38.0417605634094\n",
      "Iteration 8 / 99.0 : Click =  75 | Constant =  0.0005700000000000002 | Spend =  2810.407000002013 | CTR =  0.0009244080706987292 | CPM =  34.639505503334185 | eCPC =  37.47209333336017\n",
      "Iteration 9 / 99.0 : Click =  76 | Constant =  0.0005800000000000002 | Spend =  2938.4620000019386 | CTR =  0.0009154420621536979 | CPM =  35.394627800553344 | eCPC =  38.66397368423603\n",
      "Iteration 10 / 99.0 : Click =  80 | Constant =  0.0005900000000000002 | Spend =  3079.5410000019015 | CTR =  0.0009401257418179682 | CPM =  36.18944708857043 | eCPC =  38.494262500023765\n",
      "Iteration 11 / 99.0 : Click =  83 | Constant =  0.0006000000000000003 | Spend =  3237.3720000018807 | CTR =  0.0009500589494408388 | CPM =  37.05655712374668 | eCPC =  39.0044819277335\n",
      "Iteration 12 / 99.0 : Click =  86 | Constant =  0.0006100000000000003 | Spend =  3425.25600000183 | CTR =  0.0009551947042228491 | CPM =  38.0440278117359 | eCPC =  39.828558139556165\n",
      "Iteration 13 / 99.0 : Click =  87 | Constant =  0.0006200000000000003 | Spend =  3640.2140000018226 | CTR =  0.0009349510494019537 | CPM =  39.11979194654469 | eCPC =  41.84154022990601\n",
      "Iteration 14 / 99.0 : Click =  91 | Constant =  0.0006300000000000004 | Spend =  3874.280000001841 | CTR =  0.0009446987864254052 | CPM =  40.22008367334019 | eCPC =  42.574505494525724\n",
      "Iteration 15 / 99.0 : Click =  92 | Constant =  0.0006400000000000004 | Spend =  4142.006000001968 | CTR =  0.0009195953780336652 | CPM =  41.40184318901651 | eCPC =  45.02180434784747\n",
      "Iteration 16 / 99.0 : Click =  94 | Constant =  0.0006500000000000004 | Spend =  4439.667000001948 | CTR =  0.0009027350952673632 | CPM =  42.636629917043905 | eCPC =  47.23050000002072\n",
      "Iteration 17 / 99.0 : Click =  99 | Constant =  0.0006600000000000004 | Spend =  4739.353000001926 | CTR =  0.0009147355582658831 | CPM =  43.79045163915001 | eCPC =  47.87225252527198\n",
      "Iteration 18 / 99.0 : Click =  102 | Constant =  0.0006700000000000005 | Spend =  5028.72600000188 | CTR =  0.0009093989051550436 | CPM =  44.83448939927854 | eCPC =  49.30123529413608\n",
      "Iteration 19 / 99.0 : Click =  105 | Constant =  0.0006800000000000005 | Spend =  5300.864000001882 | CTR =  0.0009058908789729786 | CPM =  45.733374745504044 | eCPC =  50.484419047636976\n",
      "Iteration 20 / 99.0 : Click =  108 | Constant =  0.0006900000000000005 | Spend =  5560.426000001875 | CTR =  0.0009043029749893243 | CPM =  46.55842383342299 | eCPC =  51.48542592594328\n",
      "Iteration 21 / 99.0 : Click =  109 | Constant =  0.0007000000000000005 | Spend =  5805.604000001839 | CTR =  0.000888809158811442 | CPM =  47.34012851040347 | eCPC =  53.2624220183655\n",
      "Iteration 22 / 99.0 : Click =  111 | Constant =  0.0007100000000000006 | Spend =  6039.463000001813 | CTR =  0.0008835961567547344 | CPM =  48.07609275372992 | eCPC =  54.40957657659291\n",
      "Iteration 23 / 99.0 : Click =  112 | Constant =  0.0007200000000000006 | Spend =  6249.998000001751 | CTR =  0.0008739417112090828 | CPM =  48.769053099775675 | eCPC =  55.803553571444205\n",
      "Iteration 24 / 99.0 : Click =  110 | Constant =  0.0007300000000000006 | Spend =  6249.999000001684 | CTR =  0.0008697302254973276 | CPM =  49.41648217845033 | eCPC =  56.81817272728804\n"
     ]
    },
    {
     "ename": "KeyboardInterrupt",
     "evalue": "",
     "output_type": "error",
     "traceback": [
      "\u001b[0;31m---------------------------------------------------------------------------\u001b[0m",
      "\u001b[0;31mKeyboardInterrupt\u001b[0m                         Traceback (most recent call last)",
      "\u001b[0;32m<ipython-input-26-5c575a000a1e>\u001b[0m in \u001b[0;36m<module>\u001b[0;34m\u001b[0m\n\u001b[1;32m      6\u001b[0m     \u001b[0mbidprice\u001b[0m \u001b[0;34m=\u001b[0m  \u001b[0mbid\u001b[0m\u001b[0;34m[\u001b[0m\u001b[0;34m'pCTR'\u001b[0m\u001b[0;34m]\u001b[0m \u001b[0;34m*\u001b[0m \u001b[0mc\u001b[0m\u001b[0;34m\u001b[0m\u001b[0m\n\u001b[1;32m      7\u001b[0m \u001b[0;34m\u001b[0m\u001b[0m\n\u001b[0;32m----> 8\u001b[0;31m     \u001b[0mclick\u001b[0m\u001b[0;34m,\u001b[0m \u001b[0mimps\u001b[0m\u001b[0;34m,\u001b[0m \u001b[0mspend\u001b[0m\u001b[0;34m,\u001b[0m \u001b[0mCTR\u001b[0m\u001b[0;34m,\u001b[0m \u001b[0mCPM\u001b[0m\u001b[0;34m,\u001b[0m \u001b[0meCPC\u001b[0m \u001b[0;34m=\u001b[0m \u001b[0mbidding\u001b[0m\u001b[0;34m(\u001b[0m\u001b[0mbidprice\u001b[0m\u001b[0;34m)\u001b[0m\u001b[0;34m\u001b[0m\u001b[0m\n\u001b[0m\u001b[1;32m      9\u001b[0m \u001b[0;34m\u001b[0m\u001b[0m\n\u001b[1;32m     10\u001b[0m     \u001b[0mkan\u001b[0m\u001b[0;34m.\u001b[0m\u001b[0mloc\u001b[0m\u001b[0;34m[\u001b[0m\u001b[0miteration\u001b[0m\u001b[0;34m,\u001b[0m\u001b[0;34m'constant'\u001b[0m\u001b[0;34m]\u001b[0m \u001b[0;34m=\u001b[0m \u001b[0mc\u001b[0m\u001b[0;34m\u001b[0m\u001b[0m\n",
      "\u001b[0;32m<ipython-input-18-e4d209e84af6>\u001b[0m in \u001b[0;36mbidding\u001b[0;34m(bidprice)\u001b[0m\n\u001b[1;32m      4\u001b[0m     \u001b[0mclick\u001b[0m \u001b[0;34m=\u001b[0m \u001b[0;36m0\u001b[0m\u001b[0;34m\u001b[0m\u001b[0m\n\u001b[1;32m      5\u001b[0m     \u001b[0;32mfor\u001b[0m \u001b[0mi\u001b[0m \u001b[0;32min\u001b[0m \u001b[0mrange\u001b[0m\u001b[0;34m(\u001b[0m\u001b[0;36m0\u001b[0m\u001b[0;34m,\u001b[0m \u001b[0mlen\u001b[0m\u001b[0;34m(\u001b[0m\u001b[0mvalid\u001b[0m\u001b[0;34m)\u001b[0m\u001b[0;34m)\u001b[0m\u001b[0;34m:\u001b[0m\u001b[0;34m\u001b[0m\u001b[0m\n\u001b[0;32m----> 6\u001b[0;31m         \u001b[0;32mif\u001b[0m \u001b[0mbudget\u001b[0m \u001b[0;34m<\u001b[0m \u001b[0mvalid\u001b[0m\u001b[0;34m.\u001b[0m\u001b[0mpayprice\u001b[0m\u001b[0;34m[\u001b[0m\u001b[0mi\u001b[0m\u001b[0;34m]\u001b[0m\u001b[0;34m/\u001b[0m\u001b[0;36m1000\u001b[0m\u001b[0;34m:\u001b[0m\u001b[0;34m\u001b[0m\u001b[0m\n\u001b[0m\u001b[1;32m      7\u001b[0m             \u001b[0;32mcontinue\u001b[0m\u001b[0;34m\u001b[0m\u001b[0m\n\u001b[1;32m      8\u001b[0m         \u001b[0;32mif\u001b[0m \u001b[0mbidprice\u001b[0m\u001b[0;34m[\u001b[0m\u001b[0mi\u001b[0m\u001b[0;34m]\u001b[0m \u001b[0;34m>=\u001b[0m \u001b[0mvalid\u001b[0m\u001b[0;34m.\u001b[0m\u001b[0mpayprice\u001b[0m\u001b[0;34m[\u001b[0m\u001b[0mi\u001b[0m\u001b[0;34m]\u001b[0m\u001b[0;34m:\u001b[0m\u001b[0;34m\u001b[0m\u001b[0m\n",
      "\u001b[0;32m~/anaconda3/lib/python3.6/site-packages/pandas/core/series.py\u001b[0m in \u001b[0;36m__getitem__\u001b[0;34m(self, key)\u001b[0m\n\u001b[1;32m    866\u001b[0m         \u001b[0mkey\u001b[0m \u001b[0;34m=\u001b[0m \u001b[0mcom\u001b[0m\u001b[0;34m.\u001b[0m\u001b[0mapply_if_callable\u001b[0m\u001b[0;34m(\u001b[0m\u001b[0mkey\u001b[0m\u001b[0;34m,\u001b[0m \u001b[0mself\u001b[0m\u001b[0;34m)\u001b[0m\u001b[0;34m\u001b[0m\u001b[0m\n\u001b[1;32m    867\u001b[0m         \u001b[0;32mtry\u001b[0m\u001b[0;34m:\u001b[0m\u001b[0;34m\u001b[0m\u001b[0m\n\u001b[0;32m--> 868\u001b[0;31m             \u001b[0mresult\u001b[0m \u001b[0;34m=\u001b[0m \u001b[0mself\u001b[0m\u001b[0;34m.\u001b[0m\u001b[0mindex\u001b[0m\u001b[0;34m.\u001b[0m\u001b[0mget_value\u001b[0m\u001b[0;34m(\u001b[0m\u001b[0mself\u001b[0m\u001b[0;34m,\u001b[0m \u001b[0mkey\u001b[0m\u001b[0;34m)\u001b[0m\u001b[0;34m\u001b[0m\u001b[0m\n\u001b[0m\u001b[1;32m    869\u001b[0m \u001b[0;34m\u001b[0m\u001b[0m\n\u001b[1;32m    870\u001b[0m             \u001b[0;32mif\u001b[0m \u001b[0;32mnot\u001b[0m \u001b[0mis_scalar\u001b[0m\u001b[0;34m(\u001b[0m\u001b[0mresult\u001b[0m\u001b[0;34m)\u001b[0m\u001b[0;34m:\u001b[0m\u001b[0;34m\u001b[0m\u001b[0m\n",
      "\u001b[0;32m~/anaconda3/lib/python3.6/site-packages/pandas/core/indexes/base.py\u001b[0m in \u001b[0;36mget_value\u001b[0;34m(self, series, key)\u001b[0m\n\u001b[1;32m   4372\u001b[0m         \u001b[0;32mtry\u001b[0m\u001b[0;34m:\u001b[0m\u001b[0;34m\u001b[0m\u001b[0m\n\u001b[1;32m   4373\u001b[0m             return self._engine.get_value(s, k,\n\u001b[0;32m-> 4374\u001b[0;31m                                           tz=getattr(series.dtype, 'tz', None))\n\u001b[0m\u001b[1;32m   4375\u001b[0m         \u001b[0;32mexcept\u001b[0m \u001b[0mKeyError\u001b[0m \u001b[0;32mas\u001b[0m \u001b[0me1\u001b[0m\u001b[0;34m:\u001b[0m\u001b[0;34m\u001b[0m\u001b[0m\n\u001b[1;32m   4376\u001b[0m             \u001b[0;32mif\u001b[0m \u001b[0mlen\u001b[0m\u001b[0;34m(\u001b[0m\u001b[0mself\u001b[0m\u001b[0;34m)\u001b[0m \u001b[0;34m>\u001b[0m \u001b[0;36m0\u001b[0m \u001b[0;32mand\u001b[0m \u001b[0;34m(\u001b[0m\u001b[0mself\u001b[0m\u001b[0;34m.\u001b[0m\u001b[0mholds_integer\u001b[0m\u001b[0;34m(\u001b[0m\u001b[0;34m)\u001b[0m \u001b[0;32mor\u001b[0m \u001b[0mself\u001b[0m\u001b[0;34m.\u001b[0m\u001b[0mis_boolean\u001b[0m\u001b[0;34m(\u001b[0m\u001b[0;34m)\u001b[0m\u001b[0;34m)\u001b[0m\u001b[0;34m:\u001b[0m\u001b[0;34m\u001b[0m\u001b[0m\n",
      "\u001b[0;31mKeyboardInterrupt\u001b[0m: "
     ]
    }
   ],
   "source": [
    "kan = pd.DataFrame(columns = ['Base_Bid','Imps','Click','Spend','CTR','CPM','eCPC'])\n",
    "iteration = 0\n",
    "\n",
    "for c in np.arange(0.0005,0.3,0.00001):\n",
    "    iteration += 1\n",
    "    bidprice =  bid['pCTR'] * c\n",
    "    \n",
    "    click, imps, spend, CTR, CPM, eCPC = bidding(bidprice)\n",
    "    \n",
    "    kan.loc[iteration,'constant'] = c\n",
    "    kan.loc[iteration,'Imps'] = imps\n",
    "    kan.loc[iteration,'Click'] = click\n",
    "    kan.loc[iteration,'Spend'] = round(spend,2)\n",
    "    kan.loc[iteration,'CTR'] = round(CTR,5)\n",
    "    kan.loc[iteration,'CPM'] = round(CPM*1000,2)\n",
    "    kan.loc[iteration,'eCPC'] = round(eCPC,2)\n",
    "    print('Iteration',iteration,'/',(300-3)/3,': Click = ',click, '| Constant = ',c, '| Spend = ',spend,\n",
    "          '| CTR = ',CTR, '| CPM = ', CPM*1000 , '| eCPC = ', eCPC)\n",
    "    "
   ]
  },
  {
   "cell_type": "code",
   "execution_count": 63,
   "metadata": {},
   "outputs": [
    {
     "data": {
      "image/png": "[encoded data removed]",
      "text/plain": [
       "<Figure size 1224x576 with 4 Axes>"
      ]
     },
     "metadata": {
      "needs_background": "light"
     },
     "output_type": "display_data"
    }
   ],
   "source": [
    "fig, ((ax1, ax2), (ax3, ax4))=plt.subplots(2,2, figsize = (17,8))\n",
    "\n",
    "ax1.plot(Qaud.Base_Bid,Qaud.Click,color='y',label='LR')\n",
    "ax1.set_xlabel('Base Bid')\n",
    "ax1.set_ylabel('Clicks')\n",
    "ax1.plot(Qaud1.Base_Bid, Qaud1.Click, color='c',label='GBC')\n",
    "ax1.set_title(\"A. Quadratic Strategy\")\n",
    "ax1.legend()\n",
    "\n",
    "ax3.plot(Qaud.Base_Bid,Qaud.CTR,color='y',label='LR')\n",
    "ax3.set_xlabel('Base Bid')\n",
    "ax3.set_ylabel('CTR')\n",
    "ax3.plot(Qaud1.Base_Bid, Qaud1.CTR, color='c',label='GBC')\n",
    "ax3.legend()\n",
    "#ax3.set_title(\"A2. Quadratic Strategy CTR\")\n",
    "\n",
    "ax2.plot(Exp.Base_Bid,Exp.Click,color='y',label='LR')\n",
    "ax2.set_xlabel('Base Bid')\n",
    "ax2.plot(Exp1.Base_Bid, Exp1.Click, color='c',label='GBC')\n",
    "ax2.set_title(\"B. Exponential Strategy\")\n",
    "ax2.legend()\n",
    "\n",
    "ax4.plot(Exp.Base_Bid,Exp.CTR,color='y',label='LR')\n",
    "ax4.set_xlabel('Base Bid')\n",
    "ax4.plot(Exp1.Base_Bid, Exp1.CTR, color='c',label='GBC')\n",
    "#ax4.set_title(\"B2. Exponential Strategy CTR\")\n",
    "ax4.legend()\n",
    "\n",
    "plt.tight_layout()\n",
    "plt.savefig('Q4.png',dpi=300)"
   ]
  },
  {
   "cell_type": "code",
   "execution_count": 65,
   "metadata": {},
   "outputs": [
    {
     "data": {
      "image/png": "[encoded data removed]",
      "text/plain": [
       "<Figure size 1224x288 with 6 Axes>"
      ]
     },
     "metadata": {
      "needs_background": "light"
     },
     "output_type": "display_data"
    }
   ],
   "source": [
    "fig, (ax1,ax3,ax5) = plt.subplots(1,3,figsize = (17,4))\n",
    "ax1.plot(S3.Base_Bid,S3.Click,color='c')\n",
    "ax1.set_title(\"A. Cubic Strategy\")\n",
    "ax1.set_xlabel('Base Bid',color='k')\n",
    "ax1.set_ylabel('Clicks',color='c')\n",
    "\n",
    "ax2 = ax1.twinx()\n",
    "ax2.plot(S3.Base_Bid, S3.CTR, color='y')\n",
    "ax2.set_ylabel('CTR',color='y')\n",
    "\n",
    "ax3.plot(S4.Base_Bid,S4.Click,color='c')\n",
    "ax3.set_title(\"B. Fourth Power Strategy\")\n",
    "ax3.set_xlabel('Base Bid',color='k')\n",
    "ax3.set_ylabel('Clicks',color='c')\n",
    "\n",
    "ax4 = ax3.twinx()\n",
    "ax4.plot(S4.Base_Bid, S4.CTR, color='y')\n",
    "ax4.set_ylabel('CTR',color='y')\n",
    "\n",
    "ax5.plot(S5.Base_Bid,S5.Click,color='c')\n",
    "ax5.set_title(\"B. Fifth Power Strategy\")\n",
    "ax5.set_xlabel('Base Bid',color='k')\n",
    "ax5.set_ylabel('Clicks',color='c')\n",
    "\n",
    "ax6 = ax5.twinx()\n",
    "ax6.plot(S5.Base_Bid, S5.CTR, color='y')\n",
    "ax6.set_ylabel('CTR',color='y')\n",
    "\n",
    "plt.tight_layout()\n",
    "plt.savefig('Q5 New Strategies.png',dpi=300)"
   ]
  },
  {
   "cell_type": "code",
   "execution_count": null,
   "metadata": {},
   "outputs": [],
   "source": []
  }
 ],
 "metadata": {
  "kernelspec": {
   "display_name": "Python 3",
   "language": "python",
   "name": "python3"
  },
  "language_info": {
   "codemirror_mode": {
    "name": "ipython",
    "version": 3
   },
   "file_extension": ".py",
   "mimetype": "text/x-python",
   "name": "python",
   "nbconvert_exporter": "python",
   "pygments_lexer": "ipython3",
   "version": "3.7.0"
  }
 },
 "nbformat": 4,
 "nbformat_minor": 2
}
