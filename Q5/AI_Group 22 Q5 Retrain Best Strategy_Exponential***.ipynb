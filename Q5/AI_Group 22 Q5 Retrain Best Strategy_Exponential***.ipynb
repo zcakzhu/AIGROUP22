{
 "cells": [
  {
   "cell_type": "code",
   "execution_count": 1,
   "metadata": {},
   "outputs": [],
   "source": [
    "import numpy as np\n",
    "import pandas as pd\n",
    "from sklearn.utils import resample\n",
    "import matplotlib.pyplot as plt\n",
    "from sklearn.feature_extraction.text import CountVectorizer\n",
    "from sklearn.model_selection import GridSearchCV\n",
    "from sklearn.linear_model import LogisticRegression\n",
    "from sklearn.metrics import accuracy_score\n",
    "from sklearn.metrics import roc_auc_score\n",
    "from sklearn.metrics import roc_curve\n",
    "from sklearn import ensemble\n",
    "from sklearn.ensemble import GradientBoostingClassifier\n",
    "\n",
    "import warnings\n",
    "warnings.filterwarnings(\"ignore\")\n",
    "\n",
    "%matplotlib inline\n",
    "\n",
    "# Displaying all columns and rows \n",
    "pd.options.display.max_columns = 10000\n",
    "pd.options.display.max_rows = 10000000"
   ]
  },
  {
   "cell_type": "markdown",
   "metadata": {},
   "source": [
    "# 1. Importing Data"
   ]
  },
  {
   "cell_type": "code",
   "execution_count": 2,
   "metadata": {},
   "outputs": [],
   "source": [
    "valid = pd.read_csv(\"validation.csv\") "
   ]
  },
  {
   "cell_type": "code",
   "execution_count": 3,
   "metadata": {},
   "outputs": [
    {
     "data": {
      "text/plain": [
       "(303925, 25)"
      ]
     },
     "execution_count": 3,
     "metadata": {},
     "output_type": "execute_result"
    }
   ],
   "source": [
    "valid.shape"
   ]
  },
  {
   "cell_type": "code",
   "execution_count": 4,
   "metadata": {},
   "outputs": [
    {
     "data": {
      "text/html": [
       "<div>\n",
       "<style scoped>\n",
       "    .dataframe tbody tr th:only-of-type {\n",
       "        vertical-align: middle;\n",
       "    }\n",
       "\n",
       "    .dataframe tbody tr th {\n",
       "        vertical-align: top;\n",
       "    }\n",
       "\n",
       "    .dataframe thead th {\n",
       "        text-align: right;\n",
       "    }\n",
       "</style>\n",
       "<table border=\"1\" class=\"dataframe\">\n",
       "  <thead>\n",
       "    <tr style=\"text-align: right;\">\n",
       "      <th></th>\n",
       "      <th>bidid</th>\n",
       "      <th>LRLINEAR</th>\n",
       "      <th>LRQUAD</th>\n",
       "      <th>LRORTB</th>\n",
       "      <th>LREXP</th>\n",
       "      <th>GBCLINEAR</th>\n",
       "      <th>GBCQUAD</th>\n",
       "      <th>GBCORTB</th>\n",
       "      <th>GBCEXP</th>\n",
       "      <th>GBCCUBE</th>\n",
       "      <th>GBCFOUR</th>\n",
       "      <th>GBCFIF</th>\n",
       "      <th>GBCKAN</th>\n",
       "    </tr>\n",
       "  </thead>\n",
       "  <tbody>\n",
       "    <tr>\n",
       "      <th>0</th>\n",
       "      <td>bbcb813b6166538503d8b33a5602d7d72f6019dc</td>\n",
       "      <td>0.0</td>\n",
       "      <td>0.0</td>\n",
       "      <td>1.0</td>\n",
       "      <td>0.0</td>\n",
       "      <td>0.0</td>\n",
       "      <td>0.0</td>\n",
       "      <td>0.0</td>\n",
       "      <td>0.0</td>\n",
       "      <td>0.0</td>\n",
       "      <td>0.0</td>\n",
       "      <td>0.0</td>\n",
       "      <td>0.0</td>\n",
       "    </tr>\n",
       "    <tr>\n",
       "      <th>1</th>\n",
       "      <td>5a07316c49477cb5d9b4d5aa39c27d6c3be7f92d</td>\n",
       "      <td>0.0</td>\n",
       "      <td>0.0</td>\n",
       "      <td>0.0</td>\n",
       "      <td>0.0</td>\n",
       "      <td>0.0</td>\n",
       "      <td>0.0</td>\n",
       "      <td>0.0</td>\n",
       "      <td>0.0</td>\n",
       "      <td>0.0</td>\n",
       "      <td>0.0</td>\n",
       "      <td>0.0</td>\n",
       "      <td>0.0</td>\n",
       "    </tr>\n",
       "    <tr>\n",
       "      <th>2</th>\n",
       "      <td>f6ece71dae81d6b16bfb24ad6dd5611472d4c673</td>\n",
       "      <td>0.0</td>\n",
       "      <td>0.0</td>\n",
       "      <td>0.0</td>\n",
       "      <td>0.0</td>\n",
       "      <td>0.0</td>\n",
       "      <td>0.0</td>\n",
       "      <td>0.0</td>\n",
       "      <td>0.0</td>\n",
       "      <td>0.0</td>\n",
       "      <td>0.0</td>\n",
       "      <td>0.0</td>\n",
       "      <td>0.0</td>\n",
       "    </tr>\n",
       "    <tr>\n",
       "      <th>3</th>\n",
       "      <td>b4d5c57c9b38ff5a12954fa01e11931b4e6bfbbb</td>\n",
       "      <td>0.0</td>\n",
       "      <td>0.0</td>\n",
       "      <td>0.0</td>\n",
       "      <td>0.0</td>\n",
       "      <td>0.0</td>\n",
       "      <td>0.0</td>\n",
       "      <td>0.0</td>\n",
       "      <td>1.0</td>\n",
       "      <td>0.0</td>\n",
       "      <td>0.0</td>\n",
       "      <td>0.0</td>\n",
       "      <td>0.0</td>\n",
       "    </tr>\n",
       "    <tr>\n",
       "      <th>4</th>\n",
       "      <td>0899bf144249458ea9c89188473694bf44c7ca15</td>\n",
       "      <td>0.0</td>\n",
       "      <td>0.0</td>\n",
       "      <td>0.0</td>\n",
       "      <td>0.0</td>\n",
       "      <td>0.0</td>\n",
       "      <td>0.0</td>\n",
       "      <td>0.0</td>\n",
       "      <td>1.0</td>\n",
       "      <td>0.0</td>\n",
       "      <td>0.0</td>\n",
       "      <td>0.0</td>\n",
       "      <td>0.0</td>\n",
       "    </tr>\n",
       "  </tbody>\n",
       "</table>\n",
       "</div>"
      ],
      "text/plain": [
       "                                      bidid  LRLINEAR  LRQUAD  LRORTB  LREXP  \\\n",
       "0  bbcb813b6166538503d8b33a5602d7d72f6019dc       0.0     0.0     1.0    0.0   \n",
       "1  5a07316c49477cb5d9b4d5aa39c27d6c3be7f92d       0.0     0.0     0.0    0.0   \n",
       "2  f6ece71dae81d6b16bfb24ad6dd5611472d4c673       0.0     0.0     0.0    0.0   \n",
       "3  b4d5c57c9b38ff5a12954fa01e11931b4e6bfbbb       0.0     0.0     0.0    0.0   \n",
       "4  0899bf144249458ea9c89188473694bf44c7ca15       0.0     0.0     0.0    0.0   \n",
       "\n",
       "   GBCLINEAR  GBCQUAD  GBCORTB  GBCEXP  GBCCUBE  GBCFOUR  GBCFIF  GBCKAN  \n",
       "0        0.0      0.0      0.0     0.0      0.0      0.0     0.0     0.0  \n",
       "1        0.0      0.0      0.0     0.0      0.0      0.0     0.0     0.0  \n",
       "2        0.0      0.0      0.0     0.0      0.0      0.0     0.0     0.0  \n",
       "3        0.0      0.0      0.0     1.0      0.0      0.0     0.0     0.0  \n",
       "4        0.0      0.0      0.0     1.0      0.0      0.0     0.0     0.0  "
      ]
     },
     "execution_count": 4,
     "metadata": {},
     "output_type": "execute_result"
    }
   ],
   "source": [
    "win = pd.read_csv(\"win_final.csv\")\n",
    "win.head()"
   ]
  },
  {
   "cell_type": "code",
   "execution_count": 5,
   "metadata": {},
   "outputs": [
    {
     "data": {
      "text/plain": [
       "(303925, 13)"
      ]
     },
     "execution_count": 5,
     "metadata": {},
     "output_type": "execute_result"
    }
   ],
   "source": [
    "win.shape"
   ]
  },
  {
   "cell_type": "code",
   "execution_count": 6,
   "metadata": {},
   "outputs": [],
   "source": [
    "# merge1 = pd.merge(valid, win, on='bidid')\n",
    "# valid_w = merge1.loc[merge1['GBC_ORTB'] == 1]\n",
    "# valid_w.head()"
   ]
  },
  {
   "cell_type": "code",
   "execution_count": 7,
   "metadata": {},
   "outputs": [],
   "source": [
    "#average CTR\n",
    "avgCTR = np.sum(valid.click)/len(valid.click)\n",
    "\n",
    "pCTR_valid_gbc = pd.read_csv(\"pCTR_valid.csv\")"
   ]
  },
  {
   "cell_type": "code",
   "execution_count": 8,
   "metadata": {},
   "outputs": [
    {
     "data": {
      "text/plain": [
       "(303925, 1)"
      ]
     },
     "execution_count": 8,
     "metadata": {},
     "output_type": "execute_result"
    }
   ],
   "source": [
    "pCTR_valid_gbc.shape"
   ]
  },
  {
   "cell_type": "code",
   "execution_count": 9,
   "metadata": {},
   "outputs": [],
   "source": [
    "pCTR_valid_gbc.columns = [\"p_valid\"]"
   ]
  },
  {
   "cell_type": "markdown",
   "metadata": {},
   "source": [
    "# 4. Bidding"
   ]
  },
  {
   "cell_type": "markdown",
   "metadata": {},
   "source": [
    "## 4.1 Bidding Mechanism"
   ]
  },
  {
   "cell_type": "code",
   "execution_count": 10,
   "metadata": {},
   "outputs": [],
   "source": [
    "def bidding(bidprice):\n",
    "    budget = 6250\n",
    "    imps = 0\n",
    "    click = 0\n",
    "    for i in range(0, len(valid)):\n",
    "        if budget < valid.payprice[i]/1000:\n",
    "            continue\n",
    "        if bidprice[i] >= valid.payprice[i]:\n",
    "            budget = budget - valid.payprice[i]/1000\n",
    "            imps += 1\n",
    "            if valid.click[i]==1:\n",
    "                click += 1\n",
    "    \n",
    "    click = click\n",
    "    imps = imps\n",
    "    CTR = click/imps\n",
    "    spend = 6250-budget\n",
    "    CPM = spend*1000/imps\n",
    "    eCPC = spend/click\n",
    "    \n",
    "    return click, imps, spend, CTR, CPM, eCPC"
   ]
  },
  {
   "cell_type": "code",
   "execution_count": 11,
   "metadata": {},
   "outputs": [
    {
     "data": {
      "text/html": [
       "<div>\n",
       "<style scoped>\n",
       "    .dataframe tbody tr th:only-of-type {\n",
       "        vertical-align: middle;\n",
       "    }\n",
       "\n",
       "    .dataframe tbody tr th {\n",
       "        vertical-align: top;\n",
       "    }\n",
       "\n",
       "    .dataframe thead th {\n",
       "        text-align: right;\n",
       "    }\n",
       "</style>\n",
       "<table border=\"1\" class=\"dataframe\">\n",
       "  <thead>\n",
       "    <tr style=\"text-align: right;\">\n",
       "      <th></th>\n",
       "      <th>bidid</th>\n",
       "      <th>pCTR</th>\n",
       "    </tr>\n",
       "  </thead>\n",
       "  <tbody>\n",
       "    <tr>\n",
       "      <th>0</th>\n",
       "      <td>bbcb813b6166538503d8b33a5602d7d72f6019dc</td>\n",
       "      <td>0.000175</td>\n",
       "    </tr>\n",
       "    <tr>\n",
       "      <th>1</th>\n",
       "      <td>5a07316c49477cb5d9b4d5aa39c27d6c3be7f92d</td>\n",
       "      <td>0.000147</td>\n",
       "    </tr>\n",
       "    <tr>\n",
       "      <th>2</th>\n",
       "      <td>f6ece71dae81d6b16bfb24ad6dd5611472d4c673</td>\n",
       "      <td>0.000108</td>\n",
       "    </tr>\n",
       "    <tr>\n",
       "      <th>3</th>\n",
       "      <td>b4d5c57c9b38ff5a12954fa01e11931b4e6bfbbb</td>\n",
       "      <td>0.000111</td>\n",
       "    </tr>\n",
       "    <tr>\n",
       "      <th>4</th>\n",
       "      <td>0899bf144249458ea9c89188473694bf44c7ca15</td>\n",
       "      <td>0.000143</td>\n",
       "    </tr>\n",
       "  </tbody>\n",
       "</table>\n",
       "</div>"
      ],
      "text/plain": [
       "                                      bidid      pCTR\n",
       "0  bbcb813b6166538503d8b33a5602d7d72f6019dc  0.000175\n",
       "1  5a07316c49477cb5d9b4d5aa39c27d6c3be7f92d  0.000147\n",
       "2  f6ece71dae81d6b16bfb24ad6dd5611472d4c673  0.000108\n",
       "3  b4d5c57c9b38ff5a12954fa01e11931b4e6bfbbb  0.000111\n",
       "4  0899bf144249458ea9c89188473694bf44c7ca15  0.000143"
      ]
     },
     "execution_count": 11,
     "metadata": {},
     "output_type": "execute_result"
    }
   ],
   "source": [
    "pd_pctr = pd.DataFrame(columns = ['bidid','pCTR'])\n",
    "\n",
    "pd_pctr['pCTR'] = pCTR_valid_gbc[\"p_valid\"]\n",
    "pd_pctr['bidid'] = valid.bidid\n",
    "\n",
    "pd_pctr.head()"
   ]
  },
  {
   "cell_type": "code",
   "execution_count": 12,
   "metadata": {},
   "outputs": [
    {
     "data": {
      "text/plain": [
       "(303925, 2)"
      ]
     },
     "execution_count": 12,
     "metadata": {},
     "output_type": "execute_result"
    }
   ],
   "source": [
    "pd_pctr.shape"
   ]
  },
  {
   "cell_type": "code",
   "execution_count": 13,
   "metadata": {},
   "outputs": [
    {
     "data": {
      "text/html": [
       "<div>\n",
       "<style scoped>\n",
       "    .dataframe tbody tr th:only-of-type {\n",
       "        vertical-align: middle;\n",
       "    }\n",
       "\n",
       "    .dataframe tbody tr th {\n",
       "        vertical-align: top;\n",
       "    }\n",
       "\n",
       "    .dataframe thead th {\n",
       "        text-align: right;\n",
       "    }\n",
       "</style>\n",
       "<table border=\"1\" class=\"dataframe\">\n",
       "  <thead>\n",
       "    <tr style=\"text-align: right;\">\n",
       "      <th></th>\n",
       "      <th>bidid</th>\n",
       "      <th>pCTR</th>\n",
       "      <th>LRLINEAR</th>\n",
       "      <th>LRQUAD</th>\n",
       "      <th>LRORTB</th>\n",
       "      <th>LREXP</th>\n",
       "      <th>GBCLINEAR</th>\n",
       "      <th>GBCQUAD</th>\n",
       "      <th>GBCORTB</th>\n",
       "      <th>GBCEXP</th>\n",
       "      <th>GBCCUBE</th>\n",
       "      <th>GBCFOUR</th>\n",
       "      <th>GBCFIF</th>\n",
       "      <th>GBCKAN</th>\n",
       "    </tr>\n",
       "  </thead>\n",
       "  <tbody>\n",
       "    <tr>\n",
       "      <th>0</th>\n",
       "      <td>bbcb813b6166538503d8b33a5602d7d72f6019dc</td>\n",
       "      <td>0.000175</td>\n",
       "      <td>0.0</td>\n",
       "      <td>0.0</td>\n",
       "      <td>1.0</td>\n",
       "      <td>0.0</td>\n",
       "      <td>0.0</td>\n",
       "      <td>0.0</td>\n",
       "      <td>0.0</td>\n",
       "      <td>0.0</td>\n",
       "      <td>0.0</td>\n",
       "      <td>0.0</td>\n",
       "      <td>0.0</td>\n",
       "      <td>0.0</td>\n",
       "    </tr>\n",
       "    <tr>\n",
       "      <th>1</th>\n",
       "      <td>5a07316c49477cb5d9b4d5aa39c27d6c3be7f92d</td>\n",
       "      <td>0.000147</td>\n",
       "      <td>0.0</td>\n",
       "      <td>0.0</td>\n",
       "      <td>0.0</td>\n",
       "      <td>0.0</td>\n",
       "      <td>0.0</td>\n",
       "      <td>0.0</td>\n",
       "      <td>0.0</td>\n",
       "      <td>0.0</td>\n",
       "      <td>0.0</td>\n",
       "      <td>0.0</td>\n",
       "      <td>0.0</td>\n",
       "      <td>0.0</td>\n",
       "    </tr>\n",
       "    <tr>\n",
       "      <th>2</th>\n",
       "      <td>f6ece71dae81d6b16bfb24ad6dd5611472d4c673</td>\n",
       "      <td>0.000108</td>\n",
       "      <td>0.0</td>\n",
       "      <td>0.0</td>\n",
       "      <td>0.0</td>\n",
       "      <td>0.0</td>\n",
       "      <td>0.0</td>\n",
       "      <td>0.0</td>\n",
       "      <td>0.0</td>\n",
       "      <td>0.0</td>\n",
       "      <td>0.0</td>\n",
       "      <td>0.0</td>\n",
       "      <td>0.0</td>\n",
       "      <td>0.0</td>\n",
       "    </tr>\n",
       "    <tr>\n",
       "      <th>3</th>\n",
       "      <td>b4d5c57c9b38ff5a12954fa01e11931b4e6bfbbb</td>\n",
       "      <td>0.000111</td>\n",
       "      <td>0.0</td>\n",
       "      <td>0.0</td>\n",
       "      <td>0.0</td>\n",
       "      <td>0.0</td>\n",
       "      <td>0.0</td>\n",
       "      <td>0.0</td>\n",
       "      <td>0.0</td>\n",
       "      <td>1.0</td>\n",
       "      <td>0.0</td>\n",
       "      <td>0.0</td>\n",
       "      <td>0.0</td>\n",
       "      <td>0.0</td>\n",
       "    </tr>\n",
       "    <tr>\n",
       "      <th>4</th>\n",
       "      <td>0899bf144249458ea9c89188473694bf44c7ca15</td>\n",
       "      <td>0.000143</td>\n",
       "      <td>0.0</td>\n",
       "      <td>0.0</td>\n",
       "      <td>0.0</td>\n",
       "      <td>0.0</td>\n",
       "      <td>0.0</td>\n",
       "      <td>0.0</td>\n",
       "      <td>0.0</td>\n",
       "      <td>1.0</td>\n",
       "      <td>0.0</td>\n",
       "      <td>0.0</td>\n",
       "      <td>0.0</td>\n",
       "      <td>0.0</td>\n",
       "    </tr>\n",
       "  </tbody>\n",
       "</table>\n",
       "</div>"
      ],
      "text/plain": [
       "                                      bidid      pCTR  LRLINEAR  LRQUAD  \\\n",
       "0  bbcb813b6166538503d8b33a5602d7d72f6019dc  0.000175       0.0     0.0   \n",
       "1  5a07316c49477cb5d9b4d5aa39c27d6c3be7f92d  0.000147       0.0     0.0   \n",
       "2  f6ece71dae81d6b16bfb24ad6dd5611472d4c673  0.000108       0.0     0.0   \n",
       "3  b4d5c57c9b38ff5a12954fa01e11931b4e6bfbbb  0.000111       0.0     0.0   \n",
       "4  0899bf144249458ea9c89188473694bf44c7ca15  0.000143       0.0     0.0   \n",
       "\n",
       "   LRORTB  LREXP  GBCLINEAR  GBCQUAD  GBCORTB  GBCEXP  GBCCUBE  GBCFOUR  \\\n",
       "0     1.0    0.0        0.0      0.0      0.0     0.0      0.0      0.0   \n",
       "1     0.0    0.0        0.0      0.0      0.0     0.0      0.0      0.0   \n",
       "2     0.0    0.0        0.0      0.0      0.0     0.0      0.0      0.0   \n",
       "3     0.0    0.0        0.0      0.0      0.0     1.0      0.0      0.0   \n",
       "4     0.0    0.0        0.0      0.0      0.0     1.0      0.0      0.0   \n",
       "\n",
       "   GBCFIF  GBCKAN  \n",
       "0     0.0     0.0  \n",
       "1     0.0     0.0  \n",
       "2     0.0     0.0  \n",
       "3     0.0     0.0  \n",
       "4     0.0     0.0  "
      ]
     },
     "execution_count": 13,
     "metadata": {},
     "output_type": "execute_result"
    }
   ],
   "source": [
    "merge = pd.merge(pd_pctr, win, on='bidid')\n",
    "#valid_w = merge1.loc[merge1['GBC_ORTB'] == 1]\n",
    "merge.head()"
   ]
  },
  {
   "cell_type": "code",
   "execution_count": 14,
   "metadata": {},
   "outputs": [
    {
     "data": {
      "text/html": [
       "<div>\n",
       "<style scoped>\n",
       "    .dataframe tbody tr th:only-of-type {\n",
       "        vertical-align: middle;\n",
       "    }\n",
       "\n",
       "    .dataframe tbody tr th {\n",
       "        vertical-align: top;\n",
       "    }\n",
       "\n",
       "    .dataframe thead th {\n",
       "        text-align: right;\n",
       "    }\n",
       "</style>\n",
       "<table border=\"1\" class=\"dataframe\">\n",
       "  <thead>\n",
       "    <tr style=\"text-align: right;\">\n",
       "      <th></th>\n",
       "      <th>LRLINEAR</th>\n",
       "      <th>LRQUAD</th>\n",
       "      <th>LRORTB</th>\n",
       "      <th>LREXP</th>\n",
       "      <th>GBCLINEAR</th>\n",
       "      <th>GBCQUAD</th>\n",
       "      <th>GBCORTB</th>\n",
       "      <th>GBCEXP</th>\n",
       "      <th>GBCCUBE</th>\n",
       "      <th>GBCFOUR</th>\n",
       "      <th>GBCFIF</th>\n",
       "      <th>GBCKAN</th>\n",
       "    </tr>\n",
       "  </thead>\n",
       "  <tbody>\n",
       "    <tr>\n",
       "      <th>0</th>\n",
       "      <td>0.0</td>\n",
       "      <td>0.0</td>\n",
       "      <td>1.0</td>\n",
       "      <td>0.0</td>\n",
       "      <td>0.0</td>\n",
       "      <td>0.0</td>\n",
       "      <td>0.0</td>\n",
       "      <td>0.0</td>\n",
       "      <td>0.0</td>\n",
       "      <td>0.0</td>\n",
       "      <td>0.0</td>\n",
       "      <td>0.0</td>\n",
       "    </tr>\n",
       "    <tr>\n",
       "      <th>1</th>\n",
       "      <td>0.0</td>\n",
       "      <td>0.0</td>\n",
       "      <td>0.0</td>\n",
       "      <td>0.0</td>\n",
       "      <td>0.0</td>\n",
       "      <td>0.0</td>\n",
       "      <td>0.0</td>\n",
       "      <td>0.0</td>\n",
       "      <td>0.0</td>\n",
       "      <td>0.0</td>\n",
       "      <td>0.0</td>\n",
       "      <td>0.0</td>\n",
       "    </tr>\n",
       "    <tr>\n",
       "      <th>2</th>\n",
       "      <td>0.0</td>\n",
       "      <td>0.0</td>\n",
       "      <td>0.0</td>\n",
       "      <td>0.0</td>\n",
       "      <td>0.0</td>\n",
       "      <td>0.0</td>\n",
       "      <td>0.0</td>\n",
       "      <td>0.0</td>\n",
       "      <td>0.0</td>\n",
       "      <td>0.0</td>\n",
       "      <td>0.0</td>\n",
       "      <td>0.0</td>\n",
       "    </tr>\n",
       "    <tr>\n",
       "      <th>3</th>\n",
       "      <td>0.0</td>\n",
       "      <td>0.0</td>\n",
       "      <td>0.0</td>\n",
       "      <td>0.0</td>\n",
       "      <td>0.0</td>\n",
       "      <td>0.0</td>\n",
       "      <td>0.0</td>\n",
       "      <td>1.0</td>\n",
       "      <td>0.0</td>\n",
       "      <td>0.0</td>\n",
       "      <td>0.0</td>\n",
       "      <td>0.0</td>\n",
       "    </tr>\n",
       "    <tr>\n",
       "      <th>4</th>\n",
       "      <td>0.0</td>\n",
       "      <td>0.0</td>\n",
       "      <td>0.0</td>\n",
       "      <td>0.0</td>\n",
       "      <td>0.0</td>\n",
       "      <td>0.0</td>\n",
       "      <td>0.0</td>\n",
       "      <td>1.0</td>\n",
       "      <td>0.0</td>\n",
       "      <td>0.0</td>\n",
       "      <td>0.0</td>\n",
       "      <td>0.0</td>\n",
       "    </tr>\n",
       "  </tbody>\n",
       "</table>\n",
       "</div>"
      ],
      "text/plain": [
       "   LRLINEAR  LRQUAD  LRORTB  LREXP  GBCLINEAR  GBCQUAD  GBCORTB  GBCEXP  \\\n",
       "0       0.0     0.0     1.0    0.0        0.0      0.0      0.0     0.0   \n",
       "1       0.0     0.0     0.0    0.0        0.0      0.0      0.0     0.0   \n",
       "2       0.0     0.0     0.0    0.0        0.0      0.0      0.0     0.0   \n",
       "3       0.0     0.0     0.0    0.0        0.0      0.0      0.0     1.0   \n",
       "4       0.0     0.0     0.0    0.0        0.0      0.0      0.0     1.0   \n",
       "\n",
       "   GBCCUBE  GBCFOUR  GBCFIF  GBCKAN  \n",
       "0      0.0      0.0     0.0     0.0  \n",
       "1      0.0      0.0     0.0     0.0  \n",
       "2      0.0      0.0     0.0     0.0  \n",
       "3      0.0      0.0     0.0     0.0  \n",
       "4      0.0      0.0     0.0     0.0  "
      ]
     },
     "execution_count": 14,
     "metadata": {},
     "output_type": "execute_result"
    }
   ],
   "source": [
    "merge2 = merge.drop(columns = ['pCTR','bidid'])\n",
    "merge2.head()"
   ]
  },
  {
   "cell_type": "code",
   "execution_count": 24,
   "metadata": {},
   "outputs": [],
   "source": [
    "summ = merge2['GBCEXP'] + merge2[\"GBCFIF\"]"
   ]
  },
  {
   "cell_type": "code",
   "execution_count": 26,
   "metadata": {},
   "outputs": [
    {
     "name": "stdout",
     "output_type": "stream",
     "text": [
      "(303925,)\n"
     ]
    }
   ],
   "source": [
    "summ.head()\n",
    "print(summ.shape)"
   ]
  },
  {
   "cell_type": "code",
   "execution_count": 16,
   "metadata": {},
   "outputs": [],
   "source": [
    "# merge1 = merge.drop(columns = ['LR_ORTB','GBC_NoBase','GBC_Base40'])\n",
    "# merge1.head()"
   ]
  },
  {
   "cell_type": "code",
   "execution_count": 17,
   "metadata": {},
   "outputs": [],
   "source": [
    "#new_pCTR = merge1.pCTR * merge1.GBC_ORTB"
   ]
  },
  {
   "cell_type": "code",
   "execution_count": 27,
   "metadata": {},
   "outputs": [
    {
     "data": {
      "text/plain": [
       "0    0.000000\n",
       "1    0.000000\n",
       "2    0.000000\n",
       "3    0.000111\n",
       "4    0.000143\n",
       "dtype: float64"
      ]
     },
     "execution_count": 27,
     "metadata": {},
     "output_type": "execute_result"
    }
   ],
   "source": [
    "new_pCTR = merge.pCTR * summ\n",
    "new_pCTR.head()"
   ]
  },
  {
   "cell_type": "code",
   "execution_count": 28,
   "metadata": {},
   "outputs": [
    {
     "data": {
      "text/plain": [
       "(303925,)"
      ]
     },
     "execution_count": 28,
     "metadata": {},
     "output_type": "execute_result"
    }
   ],
   "source": [
    "new_pCTR.shape"
   ]
  },
  {
   "cell_type": "markdown",
   "metadata": {},
   "source": [
    "## ----------------- GBC + Exp -------------------"
   ]
  },
  {
   "cell_type": "code",
   "execution_count": 29,
   "metadata": {},
   "outputs": [
    {
     "name": "stdout",
     "output_type": "stream",
     "text": [
      "Iteration 1 / 96.0 : | Base Bid = 3 Click =  104 | Spend =  638.424000000552 | CTR =  0.009003549476235823 | CPM =  55270.01991174375 | eCPC =  6.138692307697616\n",
      "Iteration 2 / 96.0 : | Base Bid = 6 Click =  108 | Spend =  877.8570000013342 | CTR =  0.00484543945443941 | CPM =  39385.2124366878 | eCPC =  8.12830555556791\n",
      "Iteration 3 / 96.0 : | Base Bid = 9 Click =  115 | Spend =  1081.7730000009024 | CTR =  0.003938625933283101 | CPM =  37049.55818894796 | eCPC =  9.406721739138282\n",
      "Iteration 4 / 96.0 : | Base Bid = 12 Click =  124 | Spend =  1312.0280000016546 | CTR =  0.003285725641908901 | CPM =  34765.83905248297 | eCPC =  10.58087096775528\n",
      "Iteration 5 / 96.0 : | Base Bid = 15 Click =  129 | Spend =  1563.46500000196 | CTR =  0.0028522154417617404 | CPM =  34568.51950123729 | eCPC =  12.119883720945428\n",
      "Iteration 6 / 96.0 : | Base Bid = 18 Click =  130 | Spend =  1913.9670000016495 | CTR =  0.00230467849734962 | CPM =  33931.37376569662 | eCPC =  14.722823076935764\n",
      "Iteration 7 / 96.0 : | Base Bid = 21 Click =  135 | Spend =  2475.1470000050217 | CTR =  0.0017890984269186424 | CPM =  32802.085956306524 | eCPC =  18.33442222225942\n",
      "Iteration 8 / 96.0 : | Base Bid = 24 Click =  139 | Spend =  2855.2610000046257 | CTR =  0.0016395376267987732 | CPM =  33678.473696681125 | eCPC =  20.541446043198746\n",
      "Iteration 9 / 96.0 : | Base Bid = 27 Click =  142 | Spend =  3180.078000003877 | CTR =  0.0015531686828692058 | CPM =  34783.081399206756 | eCPC =  22.39491549298505\n",
      "Iteration 10 / 96.0 : | Base Bid = 30 Click =  146 | Spend =  3517.6390000036577 | CTR =  0.0014851888020833333 | CPM =  35783.2743327195 | eCPC =  24.09341780824423\n",
      "Iteration 11 / 96.0 : | Base Bid = 33 Click =  149 | Spend =  3896.5490000036434 | CTR =  0.0013942042275266442 | CPM =  36460.302607850994 | eCPC =  26.15133557049425\n",
      "Iteration 12 / 96.0 : | Base Bid = 36 Click =  149 | Spend =  4177.322000003395 | CTR =  0.0013304284158079896 | CPM =  37299.51604553276 | eCPC =  28.035718120828157\n",
      "Iteration 13 / 96.0 : | Base Bid = 39 Click =  150 | Spend =  4398.3000000029915 | CTR =  0.0012974768400384053 | CPM =  38044.615903631995 | eCPC =  29.322000000019944\n",
      "Iteration 14 / 96.0 : | Base Bid = 42 Click =  151 | Spend =  4691.364000003023 | CTR =  0.0012509838034878422 | CPM =  38866.36013423655 | eCPC =  31.06863576160942\n",
      "Iteration 15 / 96.0 : | Base Bid = 45 Click =  151 | Spend =  4975.143000002689 | CTR =  0.0012050404207266953 | CPM =  39703.63188012394 | eCPC =  32.94796688743503\n",
      "Iteration 16 / 96.0 : | Base Bid = 48 Click =  151 | Spend =  5236.724000002164 | CTR =  0.0011668972125839431 | CPM =  40468.3353554567 | eCPC =  34.68029139074281\n",
      "Iteration 17 / 96.0 : | Base Bid = 51 Click =  155 | Spend =  6157.1350000034145 | CTR =  0.001058338340525482 | CPM =  42040.851859967595 | eCPC =  39.72345161292525\n",
      "Iteration 18 / 96.0 : | Base Bid = 54 Click =  142 | Spend =  6249.999000002841 | CTR =  0.0009747793017285171 | CPM =  42904.01169737113 | eCPC =  44.01407746480874\n"
     ]
    },
    {
     "ename": "KeyboardInterrupt",
     "evalue": "",
     "output_type": "error",
     "traceback": [
      "\u001b[0;31m---------------------------------------------------------------------------\u001b[0m",
      "\u001b[0;31mKeyboardInterrupt\u001b[0m                         Traceback (most recent call last)",
      "\u001b[0;32m<ipython-input-29-042e39440240>\u001b[0m in \u001b[0;36m<module>\u001b[0;34m\u001b[0m\n\u001b[1;32m      8\u001b[0m     \u001b[0mbidprice\u001b[0m \u001b[0;34m=\u001b[0m \u001b[0mbase_bid\u001b[0m \u001b[0;34m*\u001b[0m \u001b[0mnp\u001b[0m\u001b[0;34m.\u001b[0m\u001b[0mexp\u001b[0m\u001b[0;34m(\u001b[0m\u001b[0mnew_pCTR\u001b[0m\u001b[0;34m/\u001b[0m\u001b[0mavgCTR\u001b[0m\u001b[0;34m)\u001b[0m\u001b[0;34m\u001b[0m\u001b[0m\n\u001b[1;32m      9\u001b[0m     \u001b[0;31m#bidding mechanism\u001b[0m\u001b[0;34m\u001b[0m\u001b[0;34m\u001b[0m\u001b[0m\n\u001b[0;32m---> 10\u001b[0;31m     \u001b[0mclick\u001b[0m\u001b[0;34m,\u001b[0m \u001b[0mimps\u001b[0m\u001b[0;34m,\u001b[0m \u001b[0mspend\u001b[0m\u001b[0;34m,\u001b[0m \u001b[0mCTR\u001b[0m\u001b[0;34m,\u001b[0m \u001b[0mCPM\u001b[0m\u001b[0;34m,\u001b[0m \u001b[0meCPC\u001b[0m \u001b[0;34m=\u001b[0m \u001b[0mbidding\u001b[0m\u001b[0;34m(\u001b[0m\u001b[0mbidprice\u001b[0m\u001b[0;34m)\u001b[0m\u001b[0;34m\u001b[0m\u001b[0m\n\u001b[0m\u001b[1;32m     11\u001b[0m     \u001b[0;31m#feeding data into a dataframe\u001b[0m\u001b[0;34m\u001b[0m\u001b[0;34m\u001b[0m\u001b[0m\n\u001b[1;32m     12\u001b[0m     \u001b[0mExp1\u001b[0m\u001b[0;34m.\u001b[0m\u001b[0mloc\u001b[0m\u001b[0;34m[\u001b[0m\u001b[0miteration\u001b[0m\u001b[0;34m,\u001b[0m\u001b[0;34m'Base_Bid'\u001b[0m\u001b[0;34m]\u001b[0m \u001b[0;34m=\u001b[0m \u001b[0mbase_bid\u001b[0m\u001b[0;34m\u001b[0m\u001b[0m\n",
      "\u001b[0;32m<ipython-input-10-b818f399be86>\u001b[0m in \u001b[0;36mbidding\u001b[0;34m(bidprice)\u001b[0m\n\u001b[1;32m      6\u001b[0m         \u001b[0;32mif\u001b[0m \u001b[0mbudget\u001b[0m \u001b[0;34m<\u001b[0m \u001b[0mvalid\u001b[0m\u001b[0;34m.\u001b[0m\u001b[0mpayprice\u001b[0m\u001b[0;34m[\u001b[0m\u001b[0mi\u001b[0m\u001b[0;34m]\u001b[0m\u001b[0;34m/\u001b[0m\u001b[0;36m1000\u001b[0m\u001b[0;34m:\u001b[0m\u001b[0;34m\u001b[0m\u001b[0m\n\u001b[1;32m      7\u001b[0m             \u001b[0;32mcontinue\u001b[0m\u001b[0;34m\u001b[0m\u001b[0m\n\u001b[0;32m----> 8\u001b[0;31m         \u001b[0;32mif\u001b[0m \u001b[0mbidprice\u001b[0m\u001b[0;34m[\u001b[0m\u001b[0mi\u001b[0m\u001b[0;34m]\u001b[0m \u001b[0;34m>=\u001b[0m \u001b[0mvalid\u001b[0m\u001b[0;34m.\u001b[0m\u001b[0mpayprice\u001b[0m\u001b[0;34m[\u001b[0m\u001b[0mi\u001b[0m\u001b[0;34m]\u001b[0m\u001b[0;34m:\u001b[0m\u001b[0;34m\u001b[0m\u001b[0m\n\u001b[0m\u001b[1;32m      9\u001b[0m             \u001b[0mbudget\u001b[0m \u001b[0;34m=\u001b[0m \u001b[0mbudget\u001b[0m \u001b[0;34m-\u001b[0m \u001b[0mvalid\u001b[0m\u001b[0;34m.\u001b[0m\u001b[0mpayprice\u001b[0m\u001b[0;34m[\u001b[0m\u001b[0mi\u001b[0m\u001b[0;34m]\u001b[0m\u001b[0;34m/\u001b[0m\u001b[0;36m1000\u001b[0m\u001b[0;34m\u001b[0m\u001b[0m\n\u001b[1;32m     10\u001b[0m             \u001b[0mimps\u001b[0m \u001b[0;34m+=\u001b[0m \u001b[0;36m1\u001b[0m\u001b[0;34m\u001b[0m\u001b[0m\n",
      "\u001b[0;32m~/anaconda3/lib/python3.6/site-packages/pandas/core/series.py\u001b[0m in \u001b[0;36m__getitem__\u001b[0;34m(self, key)\u001b[0m\n\u001b[1;32m    866\u001b[0m         \u001b[0mkey\u001b[0m \u001b[0;34m=\u001b[0m \u001b[0mcom\u001b[0m\u001b[0;34m.\u001b[0m\u001b[0mapply_if_callable\u001b[0m\u001b[0;34m(\u001b[0m\u001b[0mkey\u001b[0m\u001b[0;34m,\u001b[0m \u001b[0mself\u001b[0m\u001b[0;34m)\u001b[0m\u001b[0;34m\u001b[0m\u001b[0m\n\u001b[1;32m    867\u001b[0m         \u001b[0;32mtry\u001b[0m\u001b[0;34m:\u001b[0m\u001b[0;34m\u001b[0m\u001b[0m\n\u001b[0;32m--> 868\u001b[0;31m             \u001b[0mresult\u001b[0m \u001b[0;34m=\u001b[0m \u001b[0mself\u001b[0m\u001b[0;34m.\u001b[0m\u001b[0mindex\u001b[0m\u001b[0;34m.\u001b[0m\u001b[0mget_value\u001b[0m\u001b[0;34m(\u001b[0m\u001b[0mself\u001b[0m\u001b[0;34m,\u001b[0m \u001b[0mkey\u001b[0m\u001b[0;34m)\u001b[0m\u001b[0;34m\u001b[0m\u001b[0m\n\u001b[0m\u001b[1;32m    869\u001b[0m \u001b[0;34m\u001b[0m\u001b[0m\n\u001b[1;32m    870\u001b[0m             \u001b[0;32mif\u001b[0m \u001b[0;32mnot\u001b[0m \u001b[0mis_scalar\u001b[0m\u001b[0;34m(\u001b[0m\u001b[0mresult\u001b[0m\u001b[0;34m)\u001b[0m\u001b[0;34m:\u001b[0m\u001b[0;34m\u001b[0m\u001b[0m\n",
      "\u001b[0;32m~/anaconda3/lib/python3.6/site-packages/pandas/core/indexes/base.py\u001b[0m in \u001b[0;36mget_value\u001b[0;34m(self, series, key)\u001b[0m\n\u001b[1;32m   4372\u001b[0m         \u001b[0;32mtry\u001b[0m\u001b[0;34m:\u001b[0m\u001b[0;34m\u001b[0m\u001b[0m\n\u001b[1;32m   4373\u001b[0m             return self._engine.get_value(s, k,\n\u001b[0;32m-> 4374\u001b[0;31m                                           tz=getattr(series.dtype, 'tz', None))\n\u001b[0m\u001b[1;32m   4375\u001b[0m         \u001b[0;32mexcept\u001b[0m \u001b[0mKeyError\u001b[0m \u001b[0;32mas\u001b[0m \u001b[0me1\u001b[0m\u001b[0;34m:\u001b[0m\u001b[0;34m\u001b[0m\u001b[0m\n\u001b[1;32m   4376\u001b[0m             \u001b[0;32mif\u001b[0m \u001b[0mlen\u001b[0m\u001b[0;34m(\u001b[0m\u001b[0mself\u001b[0m\u001b[0;34m)\u001b[0m \u001b[0;34m>\u001b[0m \u001b[0;36m0\u001b[0m \u001b[0;32mand\u001b[0m \u001b[0;34m(\u001b[0m\u001b[0mself\u001b[0m\u001b[0;34m.\u001b[0m\u001b[0mholds_integer\u001b[0m\u001b[0;34m(\u001b[0m\u001b[0;34m)\u001b[0m \u001b[0;32mor\u001b[0m \u001b[0mself\u001b[0m\u001b[0;34m.\u001b[0m\u001b[0mis_boolean\u001b[0m\u001b[0;34m(\u001b[0m\u001b[0;34m)\u001b[0m\u001b[0;34m)\u001b[0m\u001b[0;34m:\u001b[0m\u001b[0;34m\u001b[0m\u001b[0m\n",
      "\u001b[0;32m~/anaconda3/lib/python3.6/site-packages/pandas/core/series.py\u001b[0m in \u001b[0;36mdtype\u001b[0;34m(self)\u001b[0m\n\u001b[1;32m    404\u001b[0m \u001b[0;34m\u001b[0m\u001b[0m\n\u001b[1;32m    405\u001b[0m     \u001b[0;31m# ndarray compatibility\u001b[0m\u001b[0;34m\u001b[0m\u001b[0;34m\u001b[0m\u001b[0m\n\u001b[0;32m--> 406\u001b[0;31m     \u001b[0;34m@\u001b[0m\u001b[0mproperty\u001b[0m\u001b[0;34m\u001b[0m\u001b[0m\n\u001b[0m\u001b[1;32m    407\u001b[0m     \u001b[0;32mdef\u001b[0m \u001b[0mdtype\u001b[0m\u001b[0;34m(\u001b[0m\u001b[0mself\u001b[0m\u001b[0;34m)\u001b[0m\u001b[0;34m:\u001b[0m\u001b[0;34m\u001b[0m\u001b[0m\n\u001b[1;32m    408\u001b[0m         \"\"\"\n",
      "\u001b[0;31mKeyboardInterrupt\u001b[0m: "
     ]
    }
   ],
   "source": [
    "Exp1 = pd.DataFrame(columns=['Base_bid','Imps','Spend','Click'])\n",
    "\n",
    "iteration = 0\n",
    "for i in np.arange(3,303,3):\n",
    "    iteration += 1\n",
    "    base_bid = i\n",
    "    #Non-linear strategy inputs to get bid price \n",
    "    bidprice = base_bid * np.exp(new_pCTR/avgCTR)\n",
    "    #bidding mechanism\n",
    "    click, imps, spend, CTR, CPM, eCPC = bidding(bidprice)\n",
    "    #feeding data into a dataframe\n",
    "    Exp1.loc[iteration,'Base_Bid'] = base_bid\n",
    "    Exp1.loc[iteration,'Imps'] = imps\n",
    "    Exp1.loc[iteration,'Click'] = click\n",
    "    Exp1.loc[iteration,'Spend'] = round(spend,2)\n",
    "    Exp1.loc[iteration,'CTR'] = round(CTR,5)\n",
    "    Exp1.loc[iteration,'CPM'] = round(CPM*1000,2)\n",
    "    Exp1.loc[iteration,'eCPC'] = round(eCPC,2)\n",
    "    print('Iteration',iteration,'/',(500-20)/5,': ''| Base Bid =',base_bid,  'Click = ',click,  '| Spend = ',spend,\n",
    "          '| CTR = ',CTR, '| CPM = ', CPM*1000 , '| eCPC = ', eCPC)"
   ]
  },
  {
   "cell_type": "code",
   "execution_count": 39,
   "metadata": {},
   "outputs": [
    {
     "data": {
      "text/html": [
       "<div>\n",
       "<style scoped>\n",
       "    .dataframe tbody tr th:only-of-type {\n",
       "        vertical-align: middle;\n",
       "    }\n",
       "\n",
       "    .dataframe tbody tr th {\n",
       "        vertical-align: top;\n",
       "    }\n",
       "\n",
       "    .dataframe thead th {\n",
       "        text-align: right;\n",
       "    }\n",
       "</style>\n",
       "<table border=\"1\" class=\"dataframe\">\n",
       "  <thead>\n",
       "    <tr style=\"text-align: right;\">\n",
       "      <th></th>\n",
       "      <th>bidid</th>\n",
       "      <th>bidprice</th>\n",
       "    </tr>\n",
       "  </thead>\n",
       "  <tbody>\n",
       "    <tr>\n",
       "      <th>0</th>\n",
       "      <td>bbcb813b6166538503d8b33a5602d7d72f6019dc</td>\n",
       "      <td>51.000000</td>\n",
       "    </tr>\n",
       "    <tr>\n",
       "      <th>1</th>\n",
       "      <td>5a07316c49477cb5d9b4d5aa39c27d6c3be7f92d</td>\n",
       "      <td>51.000000</td>\n",
       "    </tr>\n",
       "    <tr>\n",
       "      <th>2</th>\n",
       "      <td>f6ece71dae81d6b16bfb24ad6dd5611472d4c673</td>\n",
       "      <td>51.000000</td>\n",
       "    </tr>\n",
       "    <tr>\n",
       "      <th>3</th>\n",
       "      <td>b4d5c57c9b38ff5a12954fa01e11931b4e6bfbbb</td>\n",
       "      <td>60.285657</td>\n",
       "    </tr>\n",
       "    <tr>\n",
       "      <th>4</th>\n",
       "      <td>0899bf144249458ea9c89188473694bf44c7ca15</td>\n",
       "      <td>63.203747</td>\n",
       "    </tr>\n",
       "  </tbody>\n",
       "</table>\n",
       "</div>"
      ],
      "text/plain": [
       "                                      bidid   bidprice\n",
       "0  bbcb813b6166538503d8b33a5602d7d72f6019dc  51.000000\n",
       "1  5a07316c49477cb5d9b4d5aa39c27d6c3be7f92d  51.000000\n",
       "2  f6ece71dae81d6b16bfb24ad6dd5611472d4c673  51.000000\n",
       "3  b4d5c57c9b38ff5a12954fa01e11931b4e6bfbbb  60.285657\n",
       "4  0899bf144249458ea9c89188473694bf44c7ca15  63.203747"
      ]
     },
     "execution_count": 39,
     "metadata": {},
     "output_type": "execute_result"
    }
   ],
   "source": [
    "RETRAINEDEXP1 = pd.DataFrame(columns = ['bidprice'])\n",
    "RETRAINEDEXP1['bidprice'] = 51 * np.exp(new_pCTR/avgCTR)\n",
    "\n",
    "RETRAINEDEXP1['bidid']=valid.bidid\n",
    "RETRAINEDEXP1 = RETRAINEDEXP1[['bidid','bidprice']]\n",
    "\n",
    "RETRAINEDEXP1.head()"
   ]
  },
  {
   "cell_type": "code",
   "execution_count": 40,
   "metadata": {},
   "outputs": [],
   "source": [
    "RETRAINEDEXP1.to_csv(\"retrained_gbcexp.csv\",index=False)"
   ]
  }
 ],
 "metadata": {
  "kernelspec": {
   "display_name": "Python 3",
   "language": "python",
   "name": "python3"
  },
  "language_info": {
   "codemirror_mode": {
    "name": "ipython",
    "version": 3
   },
   "file_extension": ".py",
   "mimetype": "text/x-python",
   "name": "python",
   "nbconvert_exporter": "python",
   "pygments_lexer": "ipython3",
   "version": "3.6.6"
  }
 },
 "nbformat": 4,
 "nbformat_minor": 2
}
