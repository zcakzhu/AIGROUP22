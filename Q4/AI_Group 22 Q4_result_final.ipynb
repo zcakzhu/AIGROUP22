{
 "cells": [
  {
   "cell_type": "code",
   "execution_count": 1,
   "metadata": {},
   "outputs": [],
   "source": [
    "import numpy as np\n",
    "import pandas as pd\n",
    "from sklearn.utils import resample\n",
    "import matplotlib.pyplot as plt\n",
    "from sklearn.feature_extraction.text import CountVectorizer\n",
    "from sklearn.model_selection import GridSearchCV\n",
    "from sklearn.linear_model import LogisticRegression\n",
    "from sklearn.metrics import accuracy_score\n",
    "from sklearn.metrics import roc_auc_score\n",
    "from sklearn.metrics import roc_curve\n",
    "from sklearn import ensemble\n",
    "from sklearn.ensemble import GradientBoostingClassifier\n",
    "\n",
    "import warnings\n",
    "warnings.filterwarnings(\"ignore\")\n",
    "\n",
    "%matplotlib inline\n",
    "\n",
    "# Displaying all columns and rows \n",
    "pd.options.display.max_columns = 10000\n",
    "pd.options.display.max_rows = 10000000"
   ]
  },
  {
   "cell_type": "markdown",
   "metadata": {},
   "source": [
    "# 1. Importing Data"
   ]
  },
  {
   "cell_type": "code",
   "execution_count": 2,
   "metadata": {},
   "outputs": [],
   "source": [
    "train = pd.read_csv(\"train.csv\") \n",
    "valid = pd.read_csv(\"validation.csv\") "
   ]
  },
  {
   "cell_type": "code",
   "execution_count": 3,
   "metadata": {},
   "outputs": [
    {
     "data": {
      "text/html": [
       "<div>\n",
       "<style scoped>\n",
       "    .dataframe tbody tr th:only-of-type {\n",
       "        vertical-align: middle;\n",
       "    }\n",
       "\n",
       "    .dataframe tbody tr th {\n",
       "        vertical-align: top;\n",
       "    }\n",
       "\n",
       "    .dataframe thead th {\n",
       "        text-align: right;\n",
       "    }\n",
       "</style>\n",
       "<table border=\"1\" class=\"dataframe\">\n",
       "  <thead>\n",
       "    <tr style=\"text-align: right;\">\n",
       "      <th></th>\n",
       "      <th>click</th>\n",
       "      <th>weekday</th>\n",
       "      <th>hour</th>\n",
       "      <th>bidid</th>\n",
       "      <th>userid</th>\n",
       "      <th>useragent</th>\n",
       "      <th>IP</th>\n",
       "      <th>region</th>\n",
       "      <th>city</th>\n",
       "      <th>adexchange</th>\n",
       "      <th>domain</th>\n",
       "      <th>url</th>\n",
       "      <th>urlid</th>\n",
       "      <th>slotid</th>\n",
       "      <th>slotwidth</th>\n",
       "      <th>slotheight</th>\n",
       "      <th>slotvisibility</th>\n",
       "      <th>slotformat</th>\n",
       "      <th>slotprice</th>\n",
       "      <th>creative</th>\n",
       "      <th>bidprice</th>\n",
       "      <th>payprice</th>\n",
       "      <th>keypage</th>\n",
       "      <th>advertiser</th>\n",
       "      <th>usertag</th>\n",
       "    </tr>\n",
       "  </thead>\n",
       "  <tbody>\n",
       "    <tr>\n",
       "      <th>0</th>\n",
       "      <td>0</td>\n",
       "      <td>5</td>\n",
       "      <td>22</td>\n",
       "      <td>b7bea80521fdecd95d2d761a38c91c3f09618066</td>\n",
       "      <td>2e880fb7d690cf7377b2e42e701728e3f3c0e4c1</td>\n",
       "      <td>windows_ie</td>\n",
       "      <td>125.37.175.*</td>\n",
       "      <td>2</td>\n",
       "      <td>2</td>\n",
       "      <td>2.0</td>\n",
       "      <td>trqRTvKaXTKfgg24JKTI</td>\n",
       "      <td>6447a7dfa30fe6eb410c91860e7c9b45</td>\n",
       "      <td>NaN</td>\n",
       "      <td>2015392487</td>\n",
       "      <td>200</td>\n",
       "      <td>200</td>\n",
       "      <td>2</td>\n",
       "      <td>0</td>\n",
       "      <td>5</td>\n",
       "      <td>a4f763f78ef3eedfe614263b94a8924e</td>\n",
       "      <td>238</td>\n",
       "      <td>5</td>\n",
       "      <td>0f951a030abdaedd733ee8d114ce2944</td>\n",
       "      <td>3427</td>\n",
       "      <td>NaN</td>\n",
       "    </tr>\n",
       "    <tr>\n",
       "      <th>1</th>\n",
       "      <td>0</td>\n",
       "      <td>1</td>\n",
       "      <td>20</td>\n",
       "      <td>4f51205475678f5a124bc76b2c54163bf8eaa7eb</td>\n",
       "      <td>3a1fe01360ff8100e7d006b83b77a3e4c01d928c</td>\n",
       "      <td>windows_chrome</td>\n",
       "      <td>171.36.92.*</td>\n",
       "      <td>238</td>\n",
       "      <td>239</td>\n",
       "      <td>1.0</td>\n",
       "      <td>20fc675468712705dbf5d3eda94126da</td>\n",
       "      <td>3ddf173a94bd23c326683b6373c75dd4</td>\n",
       "      <td>NaN</td>\n",
       "      <td>mm_10982364_973726_8930541</td>\n",
       "      <td>300</td>\n",
       "      <td>250</td>\n",
       "      <td>FourthView</td>\n",
       "      <td>Na</td>\n",
       "      <td>0</td>\n",
       "      <td>10722</td>\n",
       "      <td>294</td>\n",
       "      <td>23</td>\n",
       "      <td>NaN</td>\n",
       "      <td>2821</td>\n",
       "      <td>NaN</td>\n",
       "    </tr>\n",
       "    <tr>\n",
       "      <th>2</th>\n",
       "      <td>0</td>\n",
       "      <td>3</td>\n",
       "      <td>13</td>\n",
       "      <td>b604e3fd054a658ab7ced4285ebf2ef54d2bd890</td>\n",
       "      <td>801d18a056b6fe6b06a794aef17fb0d6daff2414</td>\n",
       "      <td>windows_ie</td>\n",
       "      <td>59.46.106.*</td>\n",
       "      <td>40</td>\n",
       "      <td>41</td>\n",
       "      <td>2.0</td>\n",
       "      <td>trqRTJn7O95I1mKYUV</td>\n",
       "      <td>625d1b5916ea925332c7b326c0574cfa</td>\n",
       "      <td>NaN</td>\n",
       "      <td>1720123646</td>\n",
       "      <td>250</td>\n",
       "      <td>250</td>\n",
       "      <td>2</td>\n",
       "      <td>0</td>\n",
       "      <td>5</td>\n",
       "      <td>798b2d49952d77f1eace9f23c210d0b5</td>\n",
       "      <td>238</td>\n",
       "      <td>24</td>\n",
       "      <td>0f951a030abdaedd733ee8d114ce2944</td>\n",
       "      <td>3427</td>\n",
       "      <td>10052,10006,13866,10110</td>\n",
       "    </tr>\n",
       "    <tr>\n",
       "      <th>3</th>\n",
       "      <td>0</td>\n",
       "      <td>6</td>\n",
       "      <td>23</td>\n",
       "      <td>0348beeae93e561584c3b50fc9e7746a33048ad7</td>\n",
       "      <td>0d6eaf2259699990e38a1fc5116f112070b9ecdc</td>\n",
       "      <td>windows_ie</td>\n",
       "      <td>114.250.226.*</td>\n",
       "      <td>1</td>\n",
       "      <td>1</td>\n",
       "      <td>1.0</td>\n",
       "      <td>5F97t5E0BTK7XhNrUMpENpn</td>\n",
       "      <td>dedc488b98ca20707bc9a723957e7d1f</td>\n",
       "      <td>NaN</td>\n",
       "      <td>mm_10027070_118039_10308280</td>\n",
       "      <td>160</td>\n",
       "      <td>600</td>\n",
       "      <td>2</td>\n",
       "      <td>1</td>\n",
       "      <td>0</td>\n",
       "      <td>cb7c76e7784031272e37af8e7e9b062c</td>\n",
       "      <td>300</td>\n",
       "      <td>25</td>\n",
       "      <td>bebefa5efe83beee17a3d245e7c5085b</td>\n",
       "      <td>1458</td>\n",
       "      <td>13866,10063,10111</td>\n",
       "    </tr>\n",
       "    <tr>\n",
       "      <th>4</th>\n",
       "      <td>0</td>\n",
       "      <td>5</td>\n",
       "      <td>6</td>\n",
       "      <td>268149c1789bce2bc9798ffd97ec431219bafeb3</td>\n",
       "      <td>a239d9bb642460d974ba67f85e63b8d3e214da0e</td>\n",
       "      <td>windows_ie</td>\n",
       "      <td>183.63.192.*</td>\n",
       "      <td>216</td>\n",
       "      <td>233</td>\n",
       "      <td>2.0</td>\n",
       "      <td>13625cb070ffb306b425cd803c4b7ab4</td>\n",
       "      <td>4199d1227c511fc776b76594dabff9f8</td>\n",
       "      <td>NaN</td>\n",
       "      <td>1120200150</td>\n",
       "      <td>728</td>\n",
       "      <td>90</td>\n",
       "      <td>OtherView</td>\n",
       "      <td>Na</td>\n",
       "      <td>133</td>\n",
       "      <td>7330</td>\n",
       "      <td>277</td>\n",
       "      <td>133</td>\n",
       "      <td>NaN</td>\n",
       "      <td>2259</td>\n",
       "      <td>NaN</td>\n",
       "    </tr>\n",
       "  </tbody>\n",
       "</table>\n",
       "</div>"
      ],
      "text/plain": [
       "   click  weekday  hour                                     bidid  \\\n",
       "0      0        5    22  b7bea80521fdecd95d2d761a38c91c3f09618066   \n",
       "1      0        1    20  4f51205475678f5a124bc76b2c54163bf8eaa7eb   \n",
       "2      0        3    13  b604e3fd054a658ab7ced4285ebf2ef54d2bd890   \n",
       "3      0        6    23  0348beeae93e561584c3b50fc9e7746a33048ad7   \n",
       "4      0        5     6  268149c1789bce2bc9798ffd97ec431219bafeb3   \n",
       "\n",
       "                                     userid       useragent             IP  \\\n",
       "0  2e880fb7d690cf7377b2e42e701728e3f3c0e4c1      windows_ie   125.37.175.*   \n",
       "1  3a1fe01360ff8100e7d006b83b77a3e4c01d928c  windows_chrome    171.36.92.*   \n",
       "2  801d18a056b6fe6b06a794aef17fb0d6daff2414      windows_ie    59.46.106.*   \n",
       "3  0d6eaf2259699990e38a1fc5116f112070b9ecdc      windows_ie  114.250.226.*   \n",
       "4  a239d9bb642460d974ba67f85e63b8d3e214da0e      windows_ie   183.63.192.*   \n",
       "\n",
       "   region  city  adexchange                            domain  \\\n",
       "0       2     2         2.0              trqRTvKaXTKfgg24JKTI   \n",
       "1     238   239         1.0  20fc675468712705dbf5d3eda94126da   \n",
       "2      40    41         2.0                trqRTJn7O95I1mKYUV   \n",
       "3       1     1         1.0           5F97t5E0BTK7XhNrUMpENpn   \n",
       "4     216   233         2.0  13625cb070ffb306b425cd803c4b7ab4   \n",
       "\n",
       "                                url  urlid                       slotid  \\\n",
       "0  6447a7dfa30fe6eb410c91860e7c9b45    NaN                   2015392487   \n",
       "1  3ddf173a94bd23c326683b6373c75dd4    NaN   mm_10982364_973726_8930541   \n",
       "2  625d1b5916ea925332c7b326c0574cfa    NaN                   1720123646   \n",
       "3  dedc488b98ca20707bc9a723957e7d1f    NaN  mm_10027070_118039_10308280   \n",
       "4  4199d1227c511fc776b76594dabff9f8    NaN                   1120200150   \n",
       "\n",
       "   slotwidth  slotheight slotvisibility slotformat  slotprice  \\\n",
       "0        200         200              2          0          5   \n",
       "1        300         250     FourthView         Na          0   \n",
       "2        250         250              2          0          5   \n",
       "3        160         600              2          1          0   \n",
       "4        728          90      OtherView         Na        133   \n",
       "\n",
       "                           creative  bidprice  payprice  \\\n",
       "0  a4f763f78ef3eedfe614263b94a8924e       238         5   \n",
       "1                             10722       294        23   \n",
       "2  798b2d49952d77f1eace9f23c210d0b5       238        24   \n",
       "3  cb7c76e7784031272e37af8e7e9b062c       300        25   \n",
       "4                              7330       277       133   \n",
       "\n",
       "                            keypage  advertiser                  usertag  \n",
       "0  0f951a030abdaedd733ee8d114ce2944        3427                      NaN  \n",
       "1                               NaN        2821                      NaN  \n",
       "2  0f951a030abdaedd733ee8d114ce2944        3427  10052,10006,13866,10110  \n",
       "3  bebefa5efe83beee17a3d245e7c5085b        1458        13866,10063,10111  \n",
       "4                               NaN        2259                      NaN  "
      ]
     },
     "execution_count": 3,
     "metadata": {},
     "output_type": "execute_result"
    }
   ],
   "source": [
    "train.head()"
   ]
  },
  {
   "cell_type": "code",
   "execution_count": 4,
   "metadata": {},
   "outputs": [],
   "source": [
    "#train.shape"
   ]
  },
  {
   "cell_type": "code",
   "execution_count": 5,
   "metadata": {},
   "outputs": [],
   "source": [
    "#valid.head()"
   ]
  },
  {
   "cell_type": "code",
   "execution_count": 6,
   "metadata": {},
   "outputs": [],
   "source": [
    "#valid.shape"
   ]
  },
  {
   "cell_type": "markdown",
   "metadata": {},
   "source": [
    "Testing set does not have click, bidprice and payprice"
   ]
  },
  {
   "cell_type": "markdown",
   "metadata": {},
   "source": [
    "# 2. Data Pre-Processing"
   ]
  },
  {
   "cell_type": "code",
   "execution_count": 7,
   "metadata": {},
   "outputs": [],
   "source": [
    "def preprocess(data, enforce_cols=None):\n",
    "    ############### Handling useragent ################\n",
    "    useragent_data= data['useragent'].str.split(\"_\", n = 1, expand = True) \n",
    "    data['agent']= useragent_data[0] \n",
    "    data['browser']= useragent_data[1] \n",
    "    data.drop(columns =['useragent'], inplace = True) \n",
    "    \n",
    "    ############# Computing a New Varialbe: slotsize ###############\n",
    "    data['slotsize']=data.slotwidth*data.slotheight\n",
    "    \n",
    "    ############# Computing New Categorical Variables ###############\n",
    "    data.ix[data.hour.between(0, 3), 'hour_'] = 1\n",
    "    data.ix[data.hour.between(4, 7), 'hour_'] = 2\n",
    "    data.ix[data.hour.between(8, 11), 'hour_'] = 3\n",
    "    data.ix[data.hour.between(12, 15), 'hour_'] = 4\n",
    "    data.ix[data.hour.between(16, 19), 'hour_'] = 5\n",
    "    data.ix[data.hour.between(20, 23), 'hour_'] = 6\n",
    "    data['hour_'] = data['hour_'].astype(np.uint8)\n",
    "    \n",
    "    data.ix[data.slotprice.between(0, 18), 'slotprice_'] = 1\n",
    "    data.ix[data.slotprice.between(19, 67), 'slotprice_'] = 2\n",
    "    data.ix[data.slotprice.between(68, 309), 'slotprice_'] = 3\n",
    "    data.ix[data.slotprice.between(309, 1000000), 'slotprice_'] = 4\n",
    "    data['slotprice_'] = data['slotprice_'].astype(np.uint8)\n",
    "    \n",
    "    ############## Dummy Coding ####################\n",
    "    data = data.replace('Na',np.nan)\n",
    "    data_dummy = pd.get_dummies(data, columns=['weekday','region','city','adexchange',\n",
    "                                               'slotvisibility','slotformat','keypage',\n",
    "                                               'advertiser','agent','browser','slotsize','slotprice_','hour_'\n",
    "                                              ])\n",
    "\n",
    "    ############# Drop Unwanted Variables ################\n",
    "    data_dropped = data_dummy.drop(columns=['click','bidid', 'userid', 'IP','domain','url','urlid','slotid','bidprice',\n",
    "                                            'payprice','slotheight','slotwidth','slotprice','hour','creative'])\n",
    "    \n",
    "    ############ Fill in NaNs with 0s #############\n",
    "    data_na=data_dropped.fillna('0')\n",
    "    \n",
    "    ############ Handling usertag ################\n",
    "    # Create a dataframe spliting usertag into variables and count\n",
    "    usertag_= data_na.usertag.str.replace(',',' ')\n",
    "    vectorizer = CountVectorizer()\n",
    "    X = vectorizer.fit_transform(usertag_)\n",
    "    usertag_data = pd.DataFrame(data=X.toarray(), columns=vectorizer.get_feature_names())\n",
    "    # Combining the usertag dataframe with the original dataframe\n",
    "    data_final = pd.concat([data_na, usertag_data],sort=True,axis=1)\n",
    "    data_final = data_final.drop(columns=['usertag'])\n",
    "    \n",
    "    ###### Matching the number of variables in the validation set with the training set ######\n",
    "    #\"\"\"\"Reference: DrivenDataLabs, 2017, BENCHMARK FOR POVER-T TEST - PREDICTING POVERTY\n",
    "        #url: http://drivendata.co/blog/worldbank-poverty-benchmark/\"\"\"\"\n",
    "    if enforce_cols is not None:\n",
    "        drop = np.setdiff1d(data_final.columns, enforce_cols)\n",
    "        add = np.setdiff1d(enforce_cols, data_final.columns)\n",
    "\n",
    "        data_final.drop(drop, axis=1, inplace=True)\n",
    "        data_final = data_final.assign(**{c: 0 for c in add})\n",
    "    \n",
    "    print(data_final.shape)\n",
    "    \n",
    "    return data_final"
   ]
  },
  {
   "cell_type": "code",
   "execution_count": 8,
   "metadata": {},
   "outputs": [
    {
     "name": "stdout",
     "output_type": "stream",
     "text": [
      "(2430981, 574)\n",
      "(303925, 574)\n"
     ]
    }
   ],
   "source": [
    "train_new = preprocess(train)\n",
    "valid_new = preprocess(valid,enforce_cols=train_new.columns)\n",
    "valid_new = valid_new[train_new.columns]"
   ]
  },
  {
   "cell_type": "code",
   "execution_count": 9,
   "metadata": {},
   "outputs": [],
   "source": [
    "#train_new.head()"
   ]
  },
  {
   "cell_type": "code",
   "execution_count": 10,
   "metadata": {},
   "outputs": [],
   "source": [
    "#valid_new.head()"
   ]
  },
  {
   "cell_type": "code",
   "execution_count": 11,
   "metadata": {},
   "outputs": [],
   "source": [
    "#valid_new.head()"
   ]
  },
  {
   "cell_type": "code",
   "execution_count": 12,
   "metadata": {},
   "outputs": [],
   "source": [
    "y = train['click']\n",
    "y_val = valid['click']"
   ]
  },
  {
   "cell_type": "markdown",
   "metadata": {},
   "source": [
    "# 3. Train Model"
   ]
  },
  {
   "cell_type": "markdown",
   "metadata": {},
   "source": [
    "## 3.1 Treating imbalanced data"
   ]
  },
  {
   "cell_type": "code",
   "execution_count": 13,
   "metadata": {},
   "outputs": [
    {
     "data": {
      "text/plain": [
       "0    72875\n",
       "1     1793\n",
       "Name: click, dtype: int64"
      ]
     },
     "execution_count": 13,
     "metadata": {},
     "output_type": "execute_result"
    }
   ],
   "source": [
    "# Separate click and unclick\n",
    "resample_num = pd.to_numeric(train['click'])\n",
    "resample_data = pd.concat([resample_num, train_new],axis=1)\n",
    "\n",
    "df_majority = resample_data[resample_data.click==0]\n",
    "df_minority = resample_data[resample_data.click==1]\n",
    " \n",
    "# Downsample unclick\n",
    "size=int((len(y)-sum(y))*0.03)\n",
    "df_majority_downsampled = resample(df_majority, \n",
    "                                 replace=False,    # sample without replacement\n",
    "                                 n_samples=size,  # ratio\n",
    "                                 random_state=1) # reproducible results\n",
    "\n",
    "# Combine \n",
    "downsampled = pd.concat([df_majority_downsampled, df_minority])\n",
    " \n",
    "downsampled.click.value_counts()"
   ]
  },
  {
   "cell_type": "code",
   "execution_count": 14,
   "metadata": {},
   "outputs": [],
   "source": [
    "# Separate into features and target variable\n",
    "y_new = downsampled.click\n",
    "x_new = downsampled.drop('click', axis=1)"
   ]
  },
  {
   "cell_type": "code",
   "execution_count": 15,
   "metadata": {},
   "outputs": [],
   "source": [
    "#print(y_new.shape)\n",
    "#print(x_new.shape)"
   ]
  },
  {
   "cell_type": "markdown",
   "metadata": {},
   "source": [
    "## 3.2 Logistic Regression"
   ]
  },
  {
   "cell_type": "code",
   "execution_count": 16,
   "metadata": {},
   "outputs": [
    {
     "name": "stdout",
     "output_type": "stream",
     "text": [
      "Area Under ROC Curve: 0.826\n"
     ]
    }
   ],
   "source": [
    "best_LR = LogisticRegression(penalty='l1', C=0.1, class_weight='unbalanced', random_state=3, solver='saga')\n",
    "\n",
    "best_LR.fit(x_new, y_new)\n",
    "\n",
    "y_valid_p = best_LR.predict_proba(valid_new)\n",
    "print('Area Under ROC Curve:',round(roc_auc_score(y_val, y_valid_p[:,1]),3))"
   ]
  },
  {
   "cell_type": "code",
   "execution_count": 17,
   "metadata": {},
   "outputs": [
    {
     "data": {
      "image/png": "[encoded data removed]",
      "text/plain": [
       "<Figure size 432x288 with 1 Axes>"
      ]
     },
     "metadata": {
      "needs_background": "light"
     },
     "output_type": "display_data"
    }
   ],
   "source": [
    "fpr, tpr, thresholds = roc_curve(y_val, y_valid_p[:,1])\n",
    "plt.plot([0, 1], [0, 1], linestyle='--')\n",
    "plt.plot(fpr, tpr, marker='.')\n",
    "plt.show()"
   ]
  },
  {
   "cell_type": "markdown",
   "metadata": {},
   "source": [
    "# 4. Bidding"
   ]
  },
  {
   "cell_type": "markdown",
   "metadata": {},
   "source": [
    "## 4.1 Bidding Mechanism"
   ]
  },
  {
   "cell_type": "code",
   "execution_count": 18,
   "metadata": {},
   "outputs": [],
   "source": [
    "def bidding(bidprice):\n",
    "    budget = 6250\n",
    "    imps = 0\n",
    "    click = 0\n",
    "    for i in range(0, len(valid)):\n",
    "        if budget < valid.payprice[i]:\n",
    "            break\n",
    "        if bidprice[i] >= valid.payprice[i]:\n",
    "            budget = budget - valid.payprice[i]/1000\n",
    "            imps += 1\n",
    "            if valid.click[i]==1:\n",
    "                click += 1\n",
    "    \n",
    "    click = click\n",
    "    imps = imps\n",
    "    CTR = click/imps\n",
    "    spend = 6250-budget\n",
    "    CPM = spend/imps\n",
    "    eCPC = spend/click\n",
    "    \n",
    "    return click, imps, spend, CTR, CPM, eCPC"
   ]
  },
  {
   "cell_type": "markdown",
   "metadata": {},
   "source": [
    "## 4.2 Inputs"
   ]
  },
  {
   "cell_type": "code",
   "execution_count": 19,
   "metadata": {},
   "outputs": [],
   "source": [
    "#average CTR\n",
    "avgCTR = sum(y)/len(y)\n",
    "\n",
    "#validation pCTR\n",
    "pCTR_valid_before = y_valid_p[:,1]\n",
    "pCTR_valid = pCTR_valid_before / (pCTR_valid_before +(1-pCTR_valid_before)/0.03)"
   ]
  },
  {
   "cell_type": "markdown",
   "metadata": {},
   "source": [
    "## 4.3 LR+Non-Linear Bidding Strategies"
   ]
  },
  {
   "cell_type": "markdown",
   "metadata": {},
   "source": [
    "### 4.3.1 LR + Optimal Real-Time Bidding (ORTB)"
   ]
  },
  {
   "cell_type": "code",
   "execution_count": 23,
   "metadata": {},
   "outputs": [],
   "source": [
    "ORTB = pd.DataFrame(columns = ['c0', 'lambda0', 'Imps', 'Spend', 'Click'])\n",
    "\n",
    "c0 = 0\n",
    "lambda0 = 0\n",
    "lambda_domain = [1e-8, 5e-8, 1e-7, 5e-7, 1e-6, 5e-6, 1e-5, 5e-5, 1e-4, 5e-4]\n",
    "iteration = 0\n",
    "max_num = 0\n",
    "\n",
    "for c in np.arange(4,25,2):\n",
    "    for m in lambda_domain:\n",
    "        iteration += 1\n",
    "        bid = np.sqrt(c * pCTR_valid / m + c*c) - c\n",
    "        \n",
    "        click, imps, spend, CTR, CPM, eCPC = bidding(bid)\n",
    "        \n",
    "        if click > max_num:\n",
    "                max_num = click\n",
    "                lambda0 = m\n",
    "                c0 = c\n",
    "                \n",
    "        ORTB.loc[iteration,'Imps'] = imps\n",
    "        ORTB.loc[iteration,'c0'] = c0\n",
    "        ORTB.loc[iteration,'lambda0'] = lambda0\n",
    "        ORTB.loc[iteration,'Click'] = click\n",
    "        ORTB.loc[iteration,'Spend'] = round(spend,2)\n",
    "        ORTB.loc[iteration,'CTR'] = round(CTR,5)\n",
    "        ORTB.loc[iteration,'CPM'] = round(CPM*1000,2)\n",
    "        ORTB.loc[iteration,'eCPC'] = round(eCPC,2)"
   ]
  },
  {
   "cell_type": "code",
   "execution_count": 24,
   "metadata": {},
   "outputs": [
    {
     "data": {
      "text/html": [
       "<div>\n",
       "<style scoped>\n",
       "    .dataframe tbody tr th:only-of-type {\n",
       "        vertical-align: middle;\n",
       "    }\n",
       "\n",
       "    .dataframe tbody tr th {\n",
       "        vertical-align: top;\n",
       "    }\n",
       "\n",
       "    .dataframe thead th {\n",
       "        text-align: right;\n",
       "    }\n",
       "</style>\n",
       "<table border=\"1\" class=\"dataframe\">\n",
       "  <thead>\n",
       "    <tr style=\"text-align: right;\">\n",
       "      <th></th>\n",
       "      <th>c0</th>\n",
       "      <th>lambda0</th>\n",
       "      <th>Imps</th>\n",
       "      <th>Spend</th>\n",
       "      <th>Click</th>\n",
       "      <th>CTR</th>\n",
       "      <th>CPM</th>\n",
       "      <th>eCPC</th>\n",
       "    </tr>\n",
       "  </thead>\n",
       "  <tbody>\n",
       "    <tr>\n",
       "      <th>1</th>\n",
       "      <td>4.0</td>\n",
       "      <td>1e-08</td>\n",
       "      <td>78926.0</td>\n",
       "      <td>5957.99</td>\n",
       "      <td>51.0</td>\n",
       "      <td>0.00065</td>\n",
       "      <td>75.49</td>\n",
       "      <td>116.82</td>\n",
       "    </tr>\n",
       "    <tr>\n",
       "      <th>2</th>\n",
       "      <td>4.0</td>\n",
       "      <td>5e-08</td>\n",
       "      <td>92088.0</td>\n",
       "      <td>5953.94</td>\n",
       "      <td>64.0</td>\n",
       "      <td>0.00069</td>\n",
       "      <td>64.65</td>\n",
       "      <td>93.03</td>\n",
       "    </tr>\n",
       "    <tr>\n",
       "      <th>3</th>\n",
       "      <td>4.0</td>\n",
       "      <td>1e-07</td>\n",
       "      <td>105553.0</td>\n",
       "      <td>5980.14</td>\n",
       "      <td>77.0</td>\n",
       "      <td>0.00073</td>\n",
       "      <td>56.66</td>\n",
       "      <td>77.66</td>\n",
       "    </tr>\n",
       "    <tr>\n",
       "      <th>4</th>\n",
       "      <td>4.0</td>\n",
       "      <td>5e-07</td>\n",
       "      <td>124285.0</td>\n",
       "      <td>4737.7</td>\n",
       "      <td>137.0</td>\n",
       "      <td>0.00110</td>\n",
       "      <td>38.12</td>\n",
       "      <td>34.58</td>\n",
       "    </tr>\n",
       "    <tr>\n",
       "      <th>5</th>\n",
       "      <td>4.0</td>\n",
       "      <td>5e-07</td>\n",
       "      <td>79943.0</td>\n",
       "      <td>2183.83</td>\n",
       "      <td>112.0</td>\n",
       "      <td>0.00140</td>\n",
       "      <td>27.32</td>\n",
       "      <td>19.50</td>\n",
       "    </tr>\n",
       "  </tbody>\n",
       "</table>\n",
       "</div>"
      ],
      "text/plain": [
       "    c0 lambda0      Imps    Spend  Click      CTR    CPM    eCPC\n",
       "1  4.0   1e-08   78926.0  5957.99   51.0  0.00065  75.49  116.82\n",
       "2  4.0   5e-08   92088.0  5953.94   64.0  0.00069  64.65   93.03\n",
       "3  4.0   1e-07  105553.0  5980.14   77.0  0.00073  56.66   77.66\n",
       "4  4.0   5e-07  124285.0   4737.7  137.0  0.00110  38.12   34.58\n",
       "5  4.0   5e-07   79943.0  2183.83  112.0  0.00140  27.32   19.50"
      ]
     },
     "execution_count": 24,
     "metadata": {},
     "output_type": "execute_result"
    }
   ],
   "source": [
    "ORTB.head()"
   ]
  },
  {
   "cell_type": "code",
   "execution_count": 25,
   "metadata": {},
   "outputs": [
    {
     "data": {
      "text/html": [
       "<div>\n",
       "<style scoped>\n",
       "    .dataframe tbody tr th:only-of-type {\n",
       "        vertical-align: middle;\n",
       "    }\n",
       "\n",
       "    .dataframe tbody tr th {\n",
       "        vertical-align: top;\n",
       "    }\n",
       "\n",
       "    .dataframe thead th {\n",
       "        text-align: right;\n",
       "    }\n",
       "</style>\n",
       "<table border=\"1\" class=\"dataframe\">\n",
       "  <thead>\n",
       "    <tr style=\"text-align: right;\">\n",
       "      <th></th>\n",
       "      <th>c0</th>\n",
       "      <th>lambda0</th>\n",
       "      <th>Imps</th>\n",
       "      <th>Spend</th>\n",
       "      <th>Click</th>\n",
       "      <th>CTR</th>\n",
       "      <th>CPM</th>\n",
       "      <th>eCPC</th>\n",
       "    </tr>\n",
       "  </thead>\n",
       "  <tbody>\n",
       "    <tr>\n",
       "      <th>45</th>\n",
       "      <td>12.0</td>\n",
       "      <td>1e-06</td>\n",
       "      <td>140802.0</td>\n",
       "      <td>5932.29</td>\n",
       "      <td>148.0</td>\n",
       "      <td>0.00105</td>\n",
       "      <td>42.13</td>\n",
       "      <td>40.08</td>\n",
       "    </tr>\n",
       "  </tbody>\n",
       "</table>\n",
       "</div>"
      ],
      "text/plain": [
       "      c0 lambda0      Imps    Spend  Click      CTR    CPM   eCPC\n",
       "45  12.0   1e-06  140802.0  5932.29  148.0  0.00105  42.13  40.08"
      ]
     },
     "execution_count": 25,
     "metadata": {},
     "output_type": "execute_result"
    }
   ],
   "source": [
    "ORTB.iloc[np.where(ORTB.Click == ORTB.Click.max())[0]]"
   ]
  },
  {
   "cell_type": "markdown",
   "metadata": {},
   "source": [
    "### 4.3.2 LR + Quadratic bidding"
   ]
  },
  {
   "cell_type": "code",
   "execution_count": 26,
   "metadata": {},
   "outputs": [],
   "source": [
    "Qaud = pd.DataFrame(columns=['Base_bid','Imps','Spend','Click'])\n",
    "\n",
    "iteration = 0\n",
    "for i in np.arange(3,300,3):\n",
    "    iteration += 1\n",
    "    base_bid = i\n",
    "    #Non-linear strategy inputs to get bid price \n",
    "    bid = base_bid * (pCTR_valid / avgCTR)**2\n",
    "    #bidding mechanism\n",
    "    click, imps, spend, CTR, CPM, eCPC = bidding(bid)\n",
    "    #feeding data into a dataframe\n",
    "    Qaud.loc[iteration,'Base_Bid'] = base_bid\n",
    "    Qaud.loc[iteration,'Imps'] = imps\n",
    "    Qaud.loc[iteration,'Click'] = click\n",
    "    Qaud.loc[iteration,'Spend'] = round(spend,2)\n",
    "    Qaud.loc[iteration,'CTR'] = round(CTR,5)\n",
    "    Qaud.loc[iteration,'CPM'] = round(CPM*1000,2)\n",
    "    Qaud.loc[iteration,'eCPC'] = round(eCPC,2)"
   ]
  },
  {
   "cell_type": "code",
   "execution_count": 27,
   "metadata": {},
   "outputs": [
    {
     "data": {
      "text/html": [
       "<div>\n",
       "<style scoped>\n",
       "    .dataframe tbody tr th:only-of-type {\n",
       "        vertical-align: middle;\n",
       "    }\n",
       "\n",
       "    .dataframe tbody tr th {\n",
       "        vertical-align: top;\n",
       "    }\n",
       "\n",
       "    .dataframe thead th {\n",
       "        text-align: right;\n",
       "    }\n",
       "</style>\n",
       "<table border=\"1\" class=\"dataframe\">\n",
       "  <thead>\n",
       "    <tr style=\"text-align: right;\">\n",
       "      <th></th>\n",
       "      <th>Base_bid</th>\n",
       "      <th>Imps</th>\n",
       "      <th>Spend</th>\n",
       "      <th>Click</th>\n",
       "      <th>Base_Bid</th>\n",
       "      <th>CTR</th>\n",
       "      <th>CPM</th>\n",
       "      <th>eCPC</th>\n",
       "    </tr>\n",
       "  </thead>\n",
       "  <tbody>\n",
       "    <tr>\n",
       "      <th>1</th>\n",
       "      <td>NaN</td>\n",
       "      <td>9305.0</td>\n",
       "      <td>535.03</td>\n",
       "      <td>84.0</td>\n",
       "      <td>3.0</td>\n",
       "      <td>0.00903</td>\n",
       "      <td>57.50</td>\n",
       "      <td>6.37</td>\n",
       "    </tr>\n",
       "    <tr>\n",
       "      <th>2</th>\n",
       "      <td>NaN</td>\n",
       "      <td>13546.0</td>\n",
       "      <td>805.95</td>\n",
       "      <td>95.0</td>\n",
       "      <td>6.0</td>\n",
       "      <td>0.00701</td>\n",
       "      <td>59.50</td>\n",
       "      <td>8.48</td>\n",
       "    </tr>\n",
       "    <tr>\n",
       "      <th>3</th>\n",
       "      <td>NaN</td>\n",
       "      <td>17165.0</td>\n",
       "      <td>1017.88</td>\n",
       "      <td>102.0</td>\n",
       "      <td>9.0</td>\n",
       "      <td>0.00594</td>\n",
       "      <td>59.30</td>\n",
       "      <td>9.98</td>\n",
       "    </tr>\n",
       "    <tr>\n",
       "      <th>4</th>\n",
       "      <td>NaN</td>\n",
       "      <td>20604.0</td>\n",
       "      <td>1208.14</td>\n",
       "      <td>108.0</td>\n",
       "      <td>12.0</td>\n",
       "      <td>0.00524</td>\n",
       "      <td>58.64</td>\n",
       "      <td>11.19</td>\n",
       "    </tr>\n",
       "    <tr>\n",
       "      <th>5</th>\n",
       "      <td>NaN</td>\n",
       "      <td>23913.0</td>\n",
       "      <td>1387.2</td>\n",
       "      <td>114.0</td>\n",
       "      <td>15.0</td>\n",
       "      <td>0.00477</td>\n",
       "      <td>58.01</td>\n",
       "      <td>12.17</td>\n",
       "    </tr>\n",
       "  </tbody>\n",
       "</table>\n",
       "</div>"
      ],
      "text/plain": [
       "  Base_bid     Imps    Spend  Click  Base_Bid      CTR    CPM   eCPC\n",
       "1      NaN   9305.0   535.03   84.0       3.0  0.00903  57.50   6.37\n",
       "2      NaN  13546.0   805.95   95.0       6.0  0.00701  59.50   8.48\n",
       "3      NaN  17165.0  1017.88  102.0       9.0  0.00594  59.30   9.98\n",
       "4      NaN  20604.0  1208.14  108.0      12.0  0.00524  58.64  11.19\n",
       "5      NaN  23913.0   1387.2  114.0      15.0  0.00477  58.01  12.17"
      ]
     },
     "execution_count": 27,
     "metadata": {},
     "output_type": "execute_result"
    }
   ],
   "source": [
    "Qaud.head()"
   ]
  },
  {
   "cell_type": "code",
   "execution_count": 28,
   "metadata": {},
   "outputs": [
    {
     "data": {
      "text/html": [
       "<div>\n",
       "<style scoped>\n",
       "    .dataframe tbody tr th:only-of-type {\n",
       "        vertical-align: middle;\n",
       "    }\n",
       "\n",
       "    .dataframe tbody tr th {\n",
       "        vertical-align: top;\n",
       "    }\n",
       "\n",
       "    .dataframe thead th {\n",
       "        text-align: right;\n",
       "    }\n",
       "</style>\n",
       "<table border=\"1\" class=\"dataframe\">\n",
       "  <thead>\n",
       "    <tr style=\"text-align: right;\">\n",
       "      <th></th>\n",
       "      <th>Base_bid</th>\n",
       "      <th>Imps</th>\n",
       "      <th>Spend</th>\n",
       "      <th>Click</th>\n",
       "      <th>Base_Bid</th>\n",
       "      <th>CTR</th>\n",
       "      <th>CPM</th>\n",
       "      <th>eCPC</th>\n",
       "    </tr>\n",
       "  </thead>\n",
       "  <tbody>\n",
       "    <tr>\n",
       "      <th>35</th>\n",
       "      <td>NaN</td>\n",
       "      <td>102101.0</td>\n",
       "      <td>5869.68</td>\n",
       "      <td>153.0</td>\n",
       "      <td>105.0</td>\n",
       "      <td>0.0015</td>\n",
       "      <td>57.49</td>\n",
       "      <td>38.36</td>\n",
       "    </tr>\n",
       "  </tbody>\n",
       "</table>\n",
       "</div>"
      ],
      "text/plain": [
       "   Base_bid      Imps    Spend  Click  Base_Bid     CTR    CPM   eCPC\n",
       "35      NaN  102101.0  5869.68  153.0     105.0  0.0015  57.49  38.36"
      ]
     },
     "execution_count": 28,
     "metadata": {},
     "output_type": "execute_result"
    }
   ],
   "source": [
    "Qaud.iloc[np.where(Qaud.Click == Qaud.Click.max())[0]]"
   ]
  },
  {
   "cell_type": "markdown",
   "metadata": {},
   "source": [
    "### 4.3.3 LR + Exponential bidding"
   ]
  },
  {
   "cell_type": "code",
   "execution_count": 29,
   "metadata": {},
   "outputs": [],
   "source": [
    "Exp = pd.DataFrame(columns=['Base_bid','Imps','Spend','Click'])\n",
    "\n",
    "iteration = 0\n",
    "for i in np.arange(3,303,3):\n",
    "    iteration += 1\n",
    "    base_bid = i\n",
    "    #Non-linear strategy inputs to get bid price \n",
    "    bid = base_bid * np.exp(pCTR_valid/avgCTR)\n",
    "    #bidding mechanism\n",
    "    click, imps, spend, CTR, CPM, eCPC = bidding(bid)\n",
    "    #feeding data into a dataframe\n",
    "    Exp.loc[iteration,'Base_Bid'] = base_bid\n",
    "    Exp.loc[iteration,'Imps'] = imps\n",
    "    Exp.loc[iteration,'Click'] = click\n",
    "    Exp.loc[iteration,'Spend'] = round(spend,2)\n",
    "    Exp.loc[iteration,'CTR'] = round(CTR,5)\n",
    "    Exp.loc[iteration,'CPM'] = round(CPM*1000,2)\n",
    "    Exp.loc[iteration,'eCPC'] = round(eCPC,2)"
   ]
  },
  {
   "cell_type": "code",
   "execution_count": 30,
   "metadata": {},
   "outputs": [
    {
     "data": {
      "text/html": [
       "<div>\n",
       "<style scoped>\n",
       "    .dataframe tbody tr th:only-of-type {\n",
       "        vertical-align: middle;\n",
       "    }\n",
       "\n",
       "    .dataframe tbody tr th {\n",
       "        vertical-align: top;\n",
       "    }\n",
       "\n",
       "    .dataframe thead th {\n",
       "        text-align: right;\n",
       "    }\n",
       "</style>\n",
       "<table border=\"1\" class=\"dataframe\">\n",
       "  <thead>\n",
       "    <tr style=\"text-align: right;\">\n",
       "      <th></th>\n",
       "      <th>Base_bid</th>\n",
       "      <th>Imps</th>\n",
       "      <th>Spend</th>\n",
       "      <th>Click</th>\n",
       "      <th>Base_Bid</th>\n",
       "      <th>CTR</th>\n",
       "      <th>CPM</th>\n",
       "      <th>eCPC</th>\n",
       "    </tr>\n",
       "  </thead>\n",
       "  <tbody>\n",
       "    <tr>\n",
       "      <th>1</th>\n",
       "      <td>NaN</td>\n",
       "      <td>18047.0</td>\n",
       "      <td>991.62</td>\n",
       "      <td>101.0</td>\n",
       "      <td>3.0</td>\n",
       "      <td>0.00560</td>\n",
       "      <td>54.95</td>\n",
       "      <td>9.82</td>\n",
       "    </tr>\n",
       "    <tr>\n",
       "      <th>2</th>\n",
       "      <td>NaN</td>\n",
       "      <td>31152.0</td>\n",
       "      <td>1339.52</td>\n",
       "      <td>113.0</td>\n",
       "      <td>6.0</td>\n",
       "      <td>0.00363</td>\n",
       "      <td>43.00</td>\n",
       "      <td>11.85</td>\n",
       "    </tr>\n",
       "    <tr>\n",
       "      <th>3</th>\n",
       "      <td>NaN</td>\n",
       "      <td>43056.0</td>\n",
       "      <td>1704.18</td>\n",
       "      <td>116.0</td>\n",
       "      <td>9.0</td>\n",
       "      <td>0.00269</td>\n",
       "      <td>39.58</td>\n",
       "      <td>14.69</td>\n",
       "    </tr>\n",
       "    <tr>\n",
       "      <th>4</th>\n",
       "      <td>NaN</td>\n",
       "      <td>58930.0</td>\n",
       "      <td>2193.75</td>\n",
       "      <td>125.0</td>\n",
       "      <td>12.0</td>\n",
       "      <td>0.00212</td>\n",
       "      <td>37.23</td>\n",
       "      <td>17.55</td>\n",
       "    </tr>\n",
       "    <tr>\n",
       "      <th>5</th>\n",
       "      <td>NaN</td>\n",
       "      <td>75249.0</td>\n",
       "      <td>2745.7</td>\n",
       "      <td>133.0</td>\n",
       "      <td>15.0</td>\n",
       "      <td>0.00177</td>\n",
       "      <td>36.49</td>\n",
       "      <td>20.64</td>\n",
       "    </tr>\n",
       "  </tbody>\n",
       "</table>\n",
       "</div>"
      ],
      "text/plain": [
       "  Base_bid     Imps    Spend  Click  Base_Bid      CTR    CPM   eCPC\n",
       "1      NaN  18047.0   991.62  101.0       3.0  0.00560  54.95   9.82\n",
       "2      NaN  31152.0  1339.52  113.0       6.0  0.00363  43.00  11.85\n",
       "3      NaN  43056.0  1704.18  116.0       9.0  0.00269  39.58  14.69\n",
       "4      NaN  58930.0  2193.75  125.0      12.0  0.00212  37.23  17.55\n",
       "5      NaN  75249.0   2745.7  133.0      15.0  0.00177  36.49  20.64"
      ]
     },
     "execution_count": 30,
     "metadata": {},
     "output_type": "execute_result"
    }
   ],
   "source": [
    "Exp.head()"
   ]
  },
  {
   "cell_type": "code",
   "execution_count": 31,
   "metadata": {},
   "outputs": [
    {
     "data": {
      "text/html": [
       "<div>\n",
       "<style scoped>\n",
       "    .dataframe tbody tr th:only-of-type {\n",
       "        vertical-align: middle;\n",
       "    }\n",
       "\n",
       "    .dataframe tbody tr th {\n",
       "        vertical-align: top;\n",
       "    }\n",
       "\n",
       "    .dataframe thead th {\n",
       "        text-align: right;\n",
       "    }\n",
       "</style>\n",
       "<table border=\"1\" class=\"dataframe\">\n",
       "  <thead>\n",
       "    <tr style=\"text-align: right;\">\n",
       "      <th></th>\n",
       "      <th>Base_bid</th>\n",
       "      <th>Imps</th>\n",
       "      <th>Spend</th>\n",
       "      <th>Click</th>\n",
       "      <th>Base_Bid</th>\n",
       "      <th>CTR</th>\n",
       "      <th>CPM</th>\n",
       "      <th>eCPC</th>\n",
       "    </tr>\n",
       "  </thead>\n",
       "  <tbody>\n",
       "    <tr>\n",
       "      <th>9</th>\n",
       "      <td>NaN</td>\n",
       "      <td>129071.0</td>\n",
       "      <td>5397.97</td>\n",
       "      <td>154.0</td>\n",
       "      <td>27.0</td>\n",
       "      <td>0.00119</td>\n",
       "      <td>41.82</td>\n",
       "      <td>35.05</td>\n",
       "    </tr>\n",
       "  </tbody>\n",
       "</table>\n",
       "</div>"
      ],
      "text/plain": [
       "  Base_bid      Imps    Spend  Click  Base_Bid      CTR    CPM   eCPC\n",
       "9      NaN  129071.0  5397.97  154.0      27.0  0.00119  41.82  35.05"
      ]
     },
     "execution_count": 31,
     "metadata": {},
     "output_type": "execute_result"
    }
   ],
   "source": [
    "Exp.iloc[np.where(Exp.Click == Exp.Click.max())[0]]"
   ]
  },
  {
   "cell_type": "markdown",
   "metadata": {},
   "source": [
    "## 4.4 Gradient Boosting Classifier (GBC) + Non-Linear Bidding Strategies"
   ]
  },
  {
   "cell_type": "code",
   "execution_count": 32,
   "metadata": {},
   "outputs": [],
   "source": [
    "gbc = ensemble.GradientBoostingClassifier(**{'n_estimators': 250, 'max_depth': 4, 'min_samples_split': 2,\n",
    "          'learning_rate': 0.05, 'loss': 'deviance'})\n",
    "gbc.fit(x_new, y_new)\n",
    "pred_y_gbc = gbc.predict_proba(valid_new)"
   ]
  },
  {
   "cell_type": "code",
   "execution_count": 33,
   "metadata": {},
   "outputs": [],
   "source": [
    "auc1=roc_auc_score(y_val, pred_y_gbc[:,1])"
   ]
  },
  {
   "cell_type": "code",
   "execution_count": 34,
   "metadata": {},
   "outputs": [
    {
     "name": "stdout",
     "output_type": "stream",
     "text": [
      "0.8826088864257274\n"
     ]
    }
   ],
   "source": [
    "print(auc1)"
   ]
  },
  {
   "cell_type": "code",
   "execution_count": 35,
   "metadata": {},
   "outputs": [
    {
     "data": {
      "image/png": "[encoded data removed]",
      "text/plain": [
       "<Figure size 432x288 with 1 Axes>"
      ]
     },
     "metadata": {
      "needs_background": "light"
     },
     "output_type": "display_data"
    }
   ],
   "source": [
    "fpr, tpr, thresholds = roc_curve(y_val, pred_y_gbc[:,1])\n",
    "plt.plot([0, 1], [0, 1], linestyle='--')\n",
    "plt.plot(fpr, tpr, marker='.')\n",
    "#plt.savefig('Q4.png',dpi=300)\n",
    "plt.show()"
   ]
  },
  {
   "cell_type": "code",
   "execution_count": 36,
   "metadata": {},
   "outputs": [
    {
     "data": {
      "image/png": "[encoded data removed]",
      "text/plain": [
       "<Figure size 1224x288 with 2 Axes>"
      ]
     },
     "metadata": {
      "needs_background": "light"
     },
     "output_type": "display_data"
    }
   ],
   "source": [
    "fig, (ax1, ax2)=plt.subplots(1,2,figsize=(17,4))\n",
    "\n",
    "fpr, tpr, thresholds = roc_curve(y_val, y_valid_p[:,1])\n",
    "ax1.plot([0, 1], [0, 1], linestyle='--')\n",
    "ax1.plot(fpr, tpr, marker='.')\n",
    "ax1.set_title(\"ROC Curve for LR\")\n",
    "\n",
    "fpr1, tpr1, thresholds1 = roc_curve(y_val, pred_y_gbc[:,1])\n",
    "ax2.plot([0, 1], [0, 1], linestyle='--')\n",
    "ax2.plot(fpr1, tpr1, marker='.')\n",
    "ax2.set_title(\"ROC Curve for GBC\")\n",
    "plt.savefig('ROC ALL.png',dpi=300)\n",
    "plt.tight_layout()"
   ]
  },
  {
   "cell_type": "code",
   "execution_count": 37,
   "metadata": {},
   "outputs": [],
   "source": [
    "#average CTR\n",
    "avgCTR = sum(y)/len(y)\n",
    "\n",
    "#validation pCTR\n",
    "pCTR_valid_gbc_before = pred_y_gbc[:,1]\n",
    "pCTR_valid_gbc = pCTR_valid_gbc_before / (pCTR_valid_gbc_before +(1-pCTR_valid_gbc_before)/0.03)"
   ]
  },
  {
   "cell_type": "markdown",
   "metadata": {},
   "source": [
    "### 4.4.1 GBC + ORTB"
   ]
  },
  {
   "cell_type": "code",
   "execution_count": 38,
   "metadata": {},
   "outputs": [],
   "source": [
    "ORTB1 = pd.DataFrame(columns = ['c0', 'lambda0', 'Imps', 'Spend', 'Click'])\n",
    "\n",
    "c0 = 0\n",
    "lambda0 = 0\n",
    "lambda_domain = [1e-8, 5e-8, 1e-7, 5e-7, 1e-6, 5e-6, 1e-5, 5e-5, 1e-4, 5e-4]\n",
    "iteration = 0\n",
    "max_num = 0\n",
    "\n",
    "for c in np.arange(4,25,2):\n",
    "    for m in lambda_domain:\n",
    "        iteration += 1\n",
    "        bid = np.sqrt(c * pCTR_valid_gbc / m + c*c) - c\n",
    "        \n",
    "        click, imps, spend, CTR, CPM, eCPC = bidding(bid)\n",
    "        \n",
    "        if click > max_num:\n",
    "                max_num = click\n",
    "                lambda0 = m\n",
    "                c0 = c\n",
    "                \n",
    "        ORTB1.loc[iteration,'Imps'] = imps\n",
    "        ORTB1.loc[iteration,'c0'] = c0\n",
    "        ORTB1.loc[iteration,'lambda0'] = lambda0\n",
    "        ORTB1.loc[iteration,'Click'] = click\n",
    "        ORTB1.loc[iteration,'Spend'] = round(spend,2)\n",
    "        ORTB1.loc[iteration,'CTR'] = round(CTR,5)\n",
    "        ORTB1.loc[iteration,'CPM'] = round(CPM*1000,2)\n",
    "        ORTB1.loc[iteration,'eCPC'] = round(eCPC,2)"
   ]
  },
  {
   "cell_type": "code",
   "execution_count": 39,
   "metadata": {},
   "outputs": [
    {
     "data": {
      "text/html": [
       "<div>\n",
       "<style scoped>\n",
       "    .dataframe tbody tr th:only-of-type {\n",
       "        vertical-align: middle;\n",
       "    }\n",
       "\n",
       "    .dataframe tbody tr th {\n",
       "        vertical-align: top;\n",
       "    }\n",
       "\n",
       "    .dataframe thead th {\n",
       "        text-align: right;\n",
       "    }\n",
       "</style>\n",
       "<table border=\"1\" class=\"dataframe\">\n",
       "  <thead>\n",
       "    <tr style=\"text-align: right;\">\n",
       "      <th></th>\n",
       "      <th>c0</th>\n",
       "      <th>lambda0</th>\n",
       "      <th>Imps</th>\n",
       "      <th>Spend</th>\n",
       "      <th>Click</th>\n",
       "      <th>CTR</th>\n",
       "      <th>CPM</th>\n",
       "      <th>eCPC</th>\n",
       "    </tr>\n",
       "  </thead>\n",
       "  <tbody>\n",
       "    <tr>\n",
       "      <th>1</th>\n",
       "      <td>4.0</td>\n",
       "      <td>1e-08</td>\n",
       "      <td>76979.0</td>\n",
       "      <td>5965.84</td>\n",
       "      <td>49.0</td>\n",
       "      <td>0.00064</td>\n",
       "      <td>77.50</td>\n",
       "      <td>121.75</td>\n",
       "    </tr>\n",
       "    <tr>\n",
       "      <th>2</th>\n",
       "      <td>4.0</td>\n",
       "      <td>5e-08</td>\n",
       "      <td>95171.0</td>\n",
       "      <td>5969.13</td>\n",
       "      <td>64.0</td>\n",
       "      <td>0.00067</td>\n",
       "      <td>62.72</td>\n",
       "      <td>93.27</td>\n",
       "    </tr>\n",
       "    <tr>\n",
       "      <th>3</th>\n",
       "      <td>4.0</td>\n",
       "      <td>1e-07</td>\n",
       "      <td>111126.0</td>\n",
       "      <td>5969.2</td>\n",
       "      <td>80.0</td>\n",
       "      <td>0.00072</td>\n",
       "      <td>53.72</td>\n",
       "      <td>74.62</td>\n",
       "    </tr>\n",
       "    <tr>\n",
       "      <th>4</th>\n",
       "      <td>4.0</td>\n",
       "      <td>5e-07</td>\n",
       "      <td>107674.0</td>\n",
       "      <td>3364.89</td>\n",
       "      <td>136.0</td>\n",
       "      <td>0.00126</td>\n",
       "      <td>31.25</td>\n",
       "      <td>24.74</td>\n",
       "    </tr>\n",
       "    <tr>\n",
       "      <th>5</th>\n",
       "      <td>4.0</td>\n",
       "      <td>5e-07</td>\n",
       "      <td>72783.0</td>\n",
       "      <td>1700.07</td>\n",
       "      <td>113.0</td>\n",
       "      <td>0.00155</td>\n",
       "      <td>23.36</td>\n",
       "      <td>15.04</td>\n",
       "    </tr>\n",
       "  </tbody>\n",
       "</table>\n",
       "</div>"
      ],
      "text/plain": [
       "    c0 lambda0      Imps    Spend  Click      CTR    CPM    eCPC\n",
       "1  4.0   1e-08   76979.0  5965.84   49.0  0.00064  77.50  121.75\n",
       "2  4.0   5e-08   95171.0  5969.13   64.0  0.00067  62.72   93.27\n",
       "3  4.0   1e-07  111126.0   5969.2   80.0  0.00072  53.72   74.62\n",
       "4  4.0   5e-07  107674.0  3364.89  136.0  0.00126  31.25   24.74\n",
       "5  4.0   5e-07   72783.0  1700.07  113.0  0.00155  23.36   15.04"
      ]
     },
     "execution_count": 39,
     "metadata": {},
     "output_type": "execute_result"
    }
   ],
   "source": [
    "ORTB1.head()"
   ]
  },
  {
   "cell_type": "code",
   "execution_count": 40,
   "metadata": {},
   "outputs": [
    {
     "data": {
      "text/html": [
       "<div>\n",
       "<style scoped>\n",
       "    .dataframe tbody tr th:only-of-type {\n",
       "        vertical-align: middle;\n",
       "    }\n",
       "\n",
       "    .dataframe tbody tr th {\n",
       "        vertical-align: top;\n",
       "    }\n",
       "\n",
       "    .dataframe thead th {\n",
       "        text-align: right;\n",
       "    }\n",
       "</style>\n",
       "<table border=\"1\" class=\"dataframe\">\n",
       "  <thead>\n",
       "    <tr style=\"text-align: right;\">\n",
       "      <th></th>\n",
       "      <th>c0</th>\n",
       "      <th>lambda0</th>\n",
       "      <th>Imps</th>\n",
       "      <th>Spend</th>\n",
       "      <th>Click</th>\n",
       "      <th>CTR</th>\n",
       "      <th>CPM</th>\n",
       "      <th>eCPC</th>\n",
       "    </tr>\n",
       "  </thead>\n",
       "  <tbody>\n",
       "    <tr>\n",
       "      <th>85</th>\n",
       "      <td>20.0</td>\n",
       "      <td>1e-06</td>\n",
       "      <td>145960.0</td>\n",
       "      <td>5877.55</td>\n",
       "      <td>160.0</td>\n",
       "      <td>0.0011</td>\n",
       "      <td>40.27</td>\n",
       "      <td>36.73</td>\n",
       "    </tr>\n",
       "  </tbody>\n",
       "</table>\n",
       "</div>"
      ],
      "text/plain": [
       "      c0 lambda0      Imps    Spend  Click     CTR    CPM   eCPC\n",
       "85  20.0   1e-06  145960.0  5877.55  160.0  0.0011  40.27  36.73"
      ]
     },
     "execution_count": 40,
     "metadata": {},
     "output_type": "execute_result"
    }
   ],
   "source": [
    "ORTB1.iloc[np.where(ORTB1.Click == ORTB1.Click.max())[0]]"
   ]
  },
  {
   "cell_type": "markdown",
   "metadata": {},
   "source": [
    "### 4.4.2 GBC + Quadratic"
   ]
  },
  {
   "cell_type": "code",
   "execution_count": 41,
   "metadata": {},
   "outputs": [],
   "source": [
    "Qaud1 = pd.DataFrame(columns=['Base_bid','Imps','Spend','Click'])\n",
    "\n",
    "iteration = 0\n",
    "for i in np.arange(3,300,3):\n",
    "    iteration += 1\n",
    "    base_bid = i\n",
    "    #Non-linear strategy inputs to get bid price \n",
    "    bid = base_bid * (pCTR_valid_gbc/ avgCTR)**2\n",
    "    #bidding mechanism\n",
    "    click, imps, spend, CTR, CPM, eCPC = bidding(bid)\n",
    "    #feeding data into a dataframe\n",
    "    Qaud1.loc[iteration,'Base_Bid'] = base_bid\n",
    "    Qaud1.loc[iteration,'Imps'] = imps\n",
    "    Qaud1.loc[iteration,'Click'] = click\n",
    "    Qaud1.loc[iteration,'Spend'] = round(spend,2)\n",
    "    Qaud1.loc[iteration,'CTR'] = round(CTR,5)\n",
    "    Qaud1.loc[iteration,'CPM'] = round(CPM*1000,2)\n",
    "    Qaud1.loc[iteration,'eCPC'] = round(eCPC,2)"
   ]
  },
  {
   "cell_type": "code",
   "execution_count": 42,
   "metadata": {},
   "outputs": [
    {
     "data": {
      "text/html": [
       "<div>\n",
       "<style scoped>\n",
       "    .dataframe tbody tr th:only-of-type {\n",
       "        vertical-align: middle;\n",
       "    }\n",
       "\n",
       "    .dataframe tbody tr th {\n",
       "        vertical-align: top;\n",
       "    }\n",
       "\n",
       "    .dataframe thead th {\n",
       "        text-align: right;\n",
       "    }\n",
       "</style>\n",
       "<table border=\"1\" class=\"dataframe\">\n",
       "  <thead>\n",
       "    <tr style=\"text-align: right;\">\n",
       "      <th></th>\n",
       "      <th>Base_bid</th>\n",
       "      <th>Imps</th>\n",
       "      <th>Spend</th>\n",
       "      <th>Click</th>\n",
       "      <th>Base_Bid</th>\n",
       "      <th>CTR</th>\n",
       "      <th>CPM</th>\n",
       "      <th>eCPC</th>\n",
       "    </tr>\n",
       "  </thead>\n",
       "  <tbody>\n",
       "    <tr>\n",
       "      <th>1</th>\n",
       "      <td>NaN</td>\n",
       "      <td>6739.0</td>\n",
       "      <td>334.08</td>\n",
       "      <td>91.0</td>\n",
       "      <td>3.0</td>\n",
       "      <td>0.01350</td>\n",
       "      <td>49.57</td>\n",
       "      <td>3.67</td>\n",
       "    </tr>\n",
       "    <tr>\n",
       "      <th>2</th>\n",
       "      <td>NaN</td>\n",
       "      <td>9589.0</td>\n",
       "      <td>511.44</td>\n",
       "      <td>102.0</td>\n",
       "      <td>6.0</td>\n",
       "      <td>0.01064</td>\n",
       "      <td>53.34</td>\n",
       "      <td>5.01</td>\n",
       "    </tr>\n",
       "    <tr>\n",
       "      <th>3</th>\n",
       "      <td>NaN</td>\n",
       "      <td>11618.0</td>\n",
       "      <td>631.12</td>\n",
       "      <td>107.0</td>\n",
       "      <td>9.0</td>\n",
       "      <td>0.00921</td>\n",
       "      <td>54.32</td>\n",
       "      <td>5.90</td>\n",
       "    </tr>\n",
       "    <tr>\n",
       "      <th>4</th>\n",
       "      <td>NaN</td>\n",
       "      <td>13522.0</td>\n",
       "      <td>734.49</td>\n",
       "      <td>108.0</td>\n",
       "      <td>12.0</td>\n",
       "      <td>0.00799</td>\n",
       "      <td>54.32</td>\n",
       "      <td>6.80</td>\n",
       "    </tr>\n",
       "    <tr>\n",
       "      <th>5</th>\n",
       "      <td>NaN</td>\n",
       "      <td>15553.0</td>\n",
       "      <td>844.67</td>\n",
       "      <td>113.0</td>\n",
       "      <td>15.0</td>\n",
       "      <td>0.00727</td>\n",
       "      <td>54.31</td>\n",
       "      <td>7.47</td>\n",
       "    </tr>\n",
       "  </tbody>\n",
       "</table>\n",
       "</div>"
      ],
      "text/plain": [
       "  Base_bid     Imps   Spend  Click  Base_Bid      CTR    CPM  eCPC\n",
       "1      NaN   6739.0  334.08   91.0       3.0  0.01350  49.57  3.67\n",
       "2      NaN   9589.0  511.44  102.0       6.0  0.01064  53.34  5.01\n",
       "3      NaN  11618.0  631.12  107.0       9.0  0.00921  54.32  5.90\n",
       "4      NaN  13522.0  734.49  108.0      12.0  0.00799  54.32  6.80\n",
       "5      NaN  15553.0  844.67  113.0      15.0  0.00727  54.31  7.47"
      ]
     },
     "execution_count": 42,
     "metadata": {},
     "output_type": "execute_result"
    }
   ],
   "source": [
    "Qaud1.head()"
   ]
  },
  {
   "cell_type": "code",
   "execution_count": 43,
   "metadata": {},
   "outputs": [
    {
     "data": {
      "text/html": [
       "<div>\n",
       "<style scoped>\n",
       "    .dataframe tbody tr th:only-of-type {\n",
       "        vertical-align: middle;\n",
       "    }\n",
       "\n",
       "    .dataframe tbody tr th {\n",
       "        vertical-align: top;\n",
       "    }\n",
       "\n",
       "    .dataframe thead th {\n",
       "        text-align: right;\n",
       "    }\n",
       "</style>\n",
       "<table border=\"1\" class=\"dataframe\">\n",
       "  <thead>\n",
       "    <tr style=\"text-align: right;\">\n",
       "      <th></th>\n",
       "      <th>Base_bid</th>\n",
       "      <th>Imps</th>\n",
       "      <th>Spend</th>\n",
       "      <th>Click</th>\n",
       "      <th>Base_Bid</th>\n",
       "      <th>CTR</th>\n",
       "      <th>CPM</th>\n",
       "      <th>eCPC</th>\n",
       "    </tr>\n",
       "  </thead>\n",
       "  <tbody>\n",
       "    <tr>\n",
       "      <th>70</th>\n",
       "      <td>NaN</td>\n",
       "      <td>105465.0</td>\n",
       "      <td>5869.78</td>\n",
       "      <td>159.0</td>\n",
       "      <td>210.0</td>\n",
       "      <td>0.00151</td>\n",
       "      <td>55.66</td>\n",
       "      <td>36.92</td>\n",
       "    </tr>\n",
       "    <tr>\n",
       "      <th>71</th>\n",
       "      <td>NaN</td>\n",
       "      <td>106498.0</td>\n",
       "      <td>5934.36</td>\n",
       "      <td>159.0</td>\n",
       "      <td>213.0</td>\n",
       "      <td>0.00149</td>\n",
       "      <td>55.72</td>\n",
       "      <td>37.32</td>\n",
       "    </tr>\n",
       "  </tbody>\n",
       "</table>\n",
       "</div>"
      ],
      "text/plain": [
       "   Base_bid      Imps    Spend  Click  Base_Bid      CTR    CPM   eCPC\n",
       "70      NaN  105465.0  5869.78  159.0     210.0  0.00151  55.66  36.92\n",
       "71      NaN  106498.0  5934.36  159.0     213.0  0.00149  55.72  37.32"
      ]
     },
     "execution_count": 43,
     "metadata": {},
     "output_type": "execute_result"
    }
   ],
   "source": [
    "Qaud1.iloc[np.where(Qaud1.Click == Qaud1.Click.max())[0]]"
   ]
  },
  {
   "cell_type": "markdown",
   "metadata": {},
   "source": [
    "### 4.4.3 GBC + Exponential"
   ]
  },
  {
   "cell_type": "code",
   "execution_count": 44,
   "metadata": {},
   "outputs": [],
   "source": [
    "Exp1 = pd.DataFrame(columns=['Base_bid','Imps','Spend','Click'])\n",
    "\n",
    "iteration = 0\n",
    "for i in np.arange(3,303,3):\n",
    "    iteration += 1\n",
    "    base_bid = i\n",
    "    #Non-linear strategy inputs to get bid price \n",
    "    bid = base_bid * np.exp(pCTR_valid_gbc/avgCTR)\n",
    "    #bidding mechanism\n",
    "    click, imps, spend, CTR, CPM, eCPC = bidding(bid)\n",
    "    #feeding data into a dataframe\n",
    "    Exp1.loc[iteration,'Base_Bid'] = base_bid\n",
    "    Exp1.loc[iteration,'Imps'] = imps\n",
    "    Exp1.loc[iteration,'Click'] = click\n",
    "    Exp1.loc[iteration,'Spend'] = round(spend,2)\n",
    "    Exp1.loc[iteration,'CTR'] = round(CTR,5)\n",
    "    Exp1.loc[iteration,'CPM'] = round(CPM*1000,2)\n",
    "    Exp1.loc[iteration,'eCPC'] = round(eCPC,2)"
   ]
  },
  {
   "cell_type": "code",
   "execution_count": 45,
   "metadata": {},
   "outputs": [
    {
     "data": {
      "text/html": [
       "<div>\n",
       "<style scoped>\n",
       "    .dataframe tbody tr th:only-of-type {\n",
       "        vertical-align: middle;\n",
       "    }\n",
       "\n",
       "    .dataframe tbody tr th {\n",
       "        vertical-align: top;\n",
       "    }\n",
       "\n",
       "    .dataframe thead th {\n",
       "        text-align: right;\n",
       "    }\n",
       "</style>\n",
       "<table border=\"1\" class=\"dataframe\">\n",
       "  <thead>\n",
       "    <tr style=\"text-align: right;\">\n",
       "      <th></th>\n",
       "      <th>Base_bid</th>\n",
       "      <th>Imps</th>\n",
       "      <th>Spend</th>\n",
       "      <th>Click</th>\n",
       "      <th>Base_Bid</th>\n",
       "      <th>CTR</th>\n",
       "      <th>CPM</th>\n",
       "      <th>eCPC</th>\n",
       "    </tr>\n",
       "  </thead>\n",
       "  <tbody>\n",
       "    <tr>\n",
       "      <th>1</th>\n",
       "      <td>NaN</td>\n",
       "      <td>12655.0</td>\n",
       "      <td>614.84</td>\n",
       "      <td>108.0</td>\n",
       "      <td>3.0</td>\n",
       "      <td>0.00853</td>\n",
       "      <td>48.58</td>\n",
       "      <td>5.69</td>\n",
       "    </tr>\n",
       "    <tr>\n",
       "      <th>2</th>\n",
       "      <td>NaN</td>\n",
       "      <td>24215.0</td>\n",
       "      <td>843.58</td>\n",
       "      <td>110.0</td>\n",
       "      <td>6.0</td>\n",
       "      <td>0.00454</td>\n",
       "      <td>34.84</td>\n",
       "      <td>7.67</td>\n",
       "    </tr>\n",
       "    <tr>\n",
       "      <th>3</th>\n",
       "      <td>NaN</td>\n",
       "      <td>33757.0</td>\n",
       "      <td>1095</td>\n",
       "      <td>118.0</td>\n",
       "      <td>9.0</td>\n",
       "      <td>0.00350</td>\n",
       "      <td>32.44</td>\n",
       "      <td>9.28</td>\n",
       "    </tr>\n",
       "    <tr>\n",
       "      <th>4</th>\n",
       "      <td>NaN</td>\n",
       "      <td>44411.0</td>\n",
       "      <td>1381.25</td>\n",
       "      <td>121.0</td>\n",
       "      <td>12.0</td>\n",
       "      <td>0.00272</td>\n",
       "      <td>31.10</td>\n",
       "      <td>11.42</td>\n",
       "    </tr>\n",
       "    <tr>\n",
       "      <th>5</th>\n",
       "      <td>NaN</td>\n",
       "      <td>60766.0</td>\n",
       "      <td>1817.39</td>\n",
       "      <td>131.0</td>\n",
       "      <td>15.0</td>\n",
       "      <td>0.00216</td>\n",
       "      <td>29.91</td>\n",
       "      <td>13.87</td>\n",
       "    </tr>\n",
       "  </tbody>\n",
       "</table>\n",
       "</div>"
      ],
      "text/plain": [
       "  Base_bid     Imps    Spend  Click  Base_Bid      CTR    CPM   eCPC\n",
       "1      NaN  12655.0   614.84  108.0       3.0  0.00853  48.58   5.69\n",
       "2      NaN  24215.0   843.58  110.0       6.0  0.00454  34.84   7.67\n",
       "3      NaN  33757.0     1095  118.0       9.0  0.00350  32.44   9.28\n",
       "4      NaN  44411.0  1381.25  121.0      12.0  0.00272  31.10  11.42\n",
       "5      NaN  60766.0  1817.39  131.0      15.0  0.00216  29.91  13.87"
      ]
     },
     "execution_count": 45,
     "metadata": {},
     "output_type": "execute_result"
    }
   ],
   "source": [
    "Exp1.head()"
   ]
  },
  {
   "cell_type": "code",
   "execution_count": 46,
   "metadata": {},
   "outputs": [
    {
     "data": {
      "text/html": [
       "<div>\n",
       "<style scoped>\n",
       "    .dataframe tbody tr th:only-of-type {\n",
       "        vertical-align: middle;\n",
       "    }\n",
       "\n",
       "    .dataframe tbody tr th {\n",
       "        vertical-align: top;\n",
       "    }\n",
       "\n",
       "    .dataframe thead th {\n",
       "        text-align: right;\n",
       "    }\n",
       "</style>\n",
       "<table border=\"1\" class=\"dataframe\">\n",
       "  <thead>\n",
       "    <tr style=\"text-align: right;\">\n",
       "      <th></th>\n",
       "      <th>Base_bid</th>\n",
       "      <th>Imps</th>\n",
       "      <th>Spend</th>\n",
       "      <th>Click</th>\n",
       "      <th>Base_Bid</th>\n",
       "      <th>CTR</th>\n",
       "      <th>CPM</th>\n",
       "      <th>eCPC</th>\n",
       "    </tr>\n",
       "  </thead>\n",
       "  <tbody>\n",
       "    <tr>\n",
       "      <th>12</th>\n",
       "      <td>NaN</td>\n",
       "      <td>140496.0</td>\n",
       "      <td>5601.51</td>\n",
       "      <td>159.0</td>\n",
       "      <td>36.0</td>\n",
       "      <td>0.00113</td>\n",
       "      <td>39.87</td>\n",
       "      <td>35.23</td>\n",
       "    </tr>\n",
       "  </tbody>\n",
       "</table>\n",
       "</div>"
      ],
      "text/plain": [
       "   Base_bid      Imps    Spend  Click  Base_Bid      CTR    CPM   eCPC\n",
       "12      NaN  140496.0  5601.51  159.0      36.0  0.00113  39.87  35.23"
      ]
     },
     "execution_count": 46,
     "metadata": {},
     "output_type": "execute_result"
    }
   ],
   "source": [
    "Exp1.iloc[np.where(Exp1.Click == Exp1.Click.max())[0]]"
   ]
  },
  {
   "cell_type": "markdown",
   "metadata": {},
   "source": [
    "## ------------------ Comparison Between LR and GBC ----------------------"
   ]
  },
  {
   "cell_type": "code",
   "execution_count": 50,
   "metadata": {},
   "outputs": [
    {
     "data": {
      "image/png": "[encoded data removed]",
      "text/plain": [
       "<Figure size 1224x288 with 2 Axes>"
      ]
     },
     "metadata": {
      "needs_background": "light"
     },
     "output_type": "display_data"
    }
   ],
   "source": [
    "fig, (ax1, ax2)=plt.subplots(1,2, figsize = (17,4))\n",
    "ax1.plot(linear.Base_Bid,linear.Click,color='y',label='LR')\n",
    "ax1.set_ylabel('Clicks')\n",
    "ax1.set_xlabel('Base Bid')\n",
    "ax1.plot(linear1.Base_Bid, linear1.Click, color='c',label='GBC')\n",
    "ax1.legend()\n",
    "ax1.set_title(\"A1.Number of Clicks of Linear Strategy Using LR and GBC\")\n",
    "\n",
    "ax2.plot(linear.Base_Bid,linear.CTR,color='y',label='LR')\n",
    "ax2.set_ylabel('CTR')\n",
    "ax2.set_xlabel('Base Bid')\n",
    "ax2.plot(linear1.Base_Bid, linear1.CTR, color='c',label='GBC')\n",
    "ax2.legend()\n",
    "ax2.set_title(\"A2.CTR of Linear Strategy Using LR and GBC\")\n",
    "\n",
    "plt.tight_layout()\n",
    "plt.savefig('LRGBCLS.png',dpi=300)"
   ]
  },
  {
   "cell_type": "code",
   "execution_count": 51,
   "metadata": {},
   "outputs": [
    {
     "data": {
      "image/png": "[encoded data removed]",
      "text/plain": [
       "<Figure size 1224x576 with 4 Axes>"
      ]
     },
     "metadata": {
      "needs_background": "light"
     },
     "output_type": "display_data"
    }
   ],
   "source": [
    "fig, ((ax1, ax2), (ax3, ax4))=plt.subplots(2,2, figsize = (17,8))\n",
    "\n",
    "\n",
    "ax1.plot(Qaud.Base_Bid,Qaud.Click,color='y',label='LR')\n",
    "ax1.set_xlabel('Base Bid')\n",
    "ax1.set_ylabel('Clicks')\n",
    "ax1.plot(Qaud1.Base_Bid, Qaud1.Click, color='c',label='GBC')\n",
    "ax1.set_title(\"A. Quadratic Strategy\")\n",
    "ax1.legend()\n",
    "\n",
    "ax3.plot(Qaud.Base_Bid,Qaud.CTR,color='y',label='LR')\n",
    "ax3.set_xlabel('Base Bid')\n",
    "ax3.set_ylabel('CTR')\n",
    "ax3.plot(Qaud1.Base_Bid, Qaud1.CTR, color='c',label='GBC')\n",
    "ax3.legend()\n",
    "#ax3.set_title(\"A2. Quadratic Strategy CTR\")\n",
    "\n",
    "ax2.plot(Exp.Base_Bid,Exp.Click,color='y',label='LR')\n",
    "ax2.set_xlabel('Base Bid')\n",
    "ax2.plot(Exp1.Base_Bid, Exp1.Click, color='c',label='GBC')\n",
    "ax2.set_title(\"B. Exponential Strategy\")\n",
    "ax2.legend()\n",
    "\n",
    "ax4.plot(Exp.Base_Bid,Exp.CTR,color='y',label='LR')\n",
    "ax4.set_xlabel('Base Bid')\n",
    "ax4.plot(Exp1.Base_Bid, Exp1.CTR, color='c',label='GBC')\n",
    "#ax4.set_title(\"B2. Exponential Strategy CTR\")\n",
    "ax4.legend()\n",
    "\n",
    "plt.tight_layout()\n",
    "plt.savefig('Q4.png',dpi=300)"
   ]
  },
  {
   "cell_type": "code",
   "execution_count": null,
   "metadata": {},
   "outputs": [],
   "source": []
  }
 ],
 "metadata": {
  "kernelspec": {
   "display_name": "Python 3",
   "language": "python",
   "name": "python3"
  },
  "language_info": {
   "codemirror_mode": {
    "name": "ipython",
    "version": 3
   },
   "file_extension": ".py",
   "mimetype": "text/x-python",
   "name": "python",
   "nbconvert_exporter": "python",
   "pygments_lexer": "ipython3",
   "version": "3.7.0"
  }
 },
 "nbformat": 4,
 "nbformat_minor": 2
}
