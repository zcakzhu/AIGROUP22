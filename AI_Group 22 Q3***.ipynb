{
 "cells": [
  {
   "cell_type": "code",
   "execution_count": 1,
   "metadata": {},
   "outputs": [],
   "source": [
    "import numpy as np\n",
    "import pandas as pd\n",
    "from sklearn.utils import resample\n",
    "import matplotlib.pyplot as plt\n",
    "from sklearn.feature_extraction.text import CountVectorizer\n",
    "from sklearn.model_selection import GridSearchCV\n",
    "from sklearn.linear_model import LogisticRegression\n",
    "from sklearn.metrics import accuracy_score\n",
    "from sklearn.metrics import roc_auc_score\n",
    "from sklearn.metrics import roc_curve\n",
    "from sklearn import ensemble\n",
    "from sklearn.ensemble import GradientBoostingClassifier\n",
    "\n",
    "import warnings\n",
    "warnings.filterwarnings(\"ignore\")\n",
    "\n",
    "%matplotlib inline\n",
    "\n",
    "# Displaying all columns and rows \n",
    "pd.options.display.max_columns = 10000\n",
    "pd.options.display.max_rows = 10000000"
   ]
  },
  {
   "cell_type": "markdown",
   "metadata": {},
   "source": [
    "# 1. Importing Data"
   ]
  },
  {
   "cell_type": "code",
   "execution_count": 2,
   "metadata": {},
   "outputs": [],
   "source": [
    "train = pd.read_csv(\"train.csv\") \n",
    "valid = pd.read_csv(\"validation.csv\") "
   ]
  },
  {
   "cell_type": "code",
   "execution_count": 8,
   "metadata": {},
   "outputs": [
    {
     "data": {
      "text/html": [
       "<div>\n",
       "<style scoped>\n",
       "    .dataframe tbody tr th:only-of-type {\n",
       "        vertical-align: middle;\n",
       "    }\n",
       "\n",
       "    .dataframe tbody tr th {\n",
       "        vertical-align: top;\n",
       "    }\n",
       "\n",
       "    .dataframe thead th {\n",
       "        text-align: right;\n",
       "    }\n",
       "</style>\n",
       "<table border=\"1\" class=\"dataframe\">\n",
       "  <thead>\n",
       "    <tr style=\"text-align: right;\">\n",
       "      <th></th>\n",
       "      <th>click</th>\n",
       "      <th>weekday</th>\n",
       "      <th>hour</th>\n",
       "      <th>bidid</th>\n",
       "      <th>userid</th>\n",
       "      <th>useragent</th>\n",
       "      <th>IP</th>\n",
       "      <th>region</th>\n",
       "      <th>city</th>\n",
       "      <th>adexchange</th>\n",
       "      <th>domain</th>\n",
       "      <th>url</th>\n",
       "      <th>urlid</th>\n",
       "      <th>slotid</th>\n",
       "      <th>slotwidth</th>\n",
       "      <th>slotheight</th>\n",
       "      <th>slotvisibility</th>\n",
       "      <th>slotformat</th>\n",
       "      <th>slotprice</th>\n",
       "      <th>creative</th>\n",
       "      <th>bidprice</th>\n",
       "      <th>payprice</th>\n",
       "      <th>keypage</th>\n",
       "      <th>advertiser</th>\n",
       "      <th>usertag</th>\n",
       "    </tr>\n",
       "  </thead>\n",
       "  <tbody>\n",
       "    <tr>\n",
       "      <th>0</th>\n",
       "      <td>0</td>\n",
       "      <td>5</td>\n",
       "      <td>22</td>\n",
       "      <td>b7bea80521fdecd95d2d761a38c91c3f09618066</td>\n",
       "      <td>2e880fb7d690cf7377b2e42e701728e3f3c0e4c1</td>\n",
       "      <td>windows_ie</td>\n",
       "      <td>125.37.175.*</td>\n",
       "      <td>2</td>\n",
       "      <td>2</td>\n",
       "      <td>2.0</td>\n",
       "      <td>trqRTvKaXTKfgg24JKTI</td>\n",
       "      <td>6447a7dfa30fe6eb410c91860e7c9b45</td>\n",
       "      <td>NaN</td>\n",
       "      <td>2015392487</td>\n",
       "      <td>200</td>\n",
       "      <td>200</td>\n",
       "      <td>2</td>\n",
       "      <td>0</td>\n",
       "      <td>5</td>\n",
       "      <td>a4f763f78ef3eedfe614263b94a8924e</td>\n",
       "      <td>238</td>\n",
       "      <td>5</td>\n",
       "      <td>0f951a030abdaedd733ee8d114ce2944</td>\n",
       "      <td>3427</td>\n",
       "      <td>NaN</td>\n",
       "    </tr>\n",
       "    <tr>\n",
       "      <th>1</th>\n",
       "      <td>0</td>\n",
       "      <td>1</td>\n",
       "      <td>20</td>\n",
       "      <td>4f51205475678f5a124bc76b2c54163bf8eaa7eb</td>\n",
       "      <td>3a1fe01360ff8100e7d006b83b77a3e4c01d928c</td>\n",
       "      <td>windows_chrome</td>\n",
       "      <td>171.36.92.*</td>\n",
       "      <td>238</td>\n",
       "      <td>239</td>\n",
       "      <td>1.0</td>\n",
       "      <td>20fc675468712705dbf5d3eda94126da</td>\n",
       "      <td>3ddf173a94bd23c326683b6373c75dd4</td>\n",
       "      <td>NaN</td>\n",
       "      <td>mm_10982364_973726_8930541</td>\n",
       "      <td>300</td>\n",
       "      <td>250</td>\n",
       "      <td>FourthView</td>\n",
       "      <td>Na</td>\n",
       "      <td>0</td>\n",
       "      <td>10722</td>\n",
       "      <td>294</td>\n",
       "      <td>23</td>\n",
       "      <td>NaN</td>\n",
       "      <td>2821</td>\n",
       "      <td>NaN</td>\n",
       "    </tr>\n",
       "    <tr>\n",
       "      <th>2</th>\n",
       "      <td>0</td>\n",
       "      <td>3</td>\n",
       "      <td>13</td>\n",
       "      <td>b604e3fd054a658ab7ced4285ebf2ef54d2bd890</td>\n",
       "      <td>801d18a056b6fe6b06a794aef17fb0d6daff2414</td>\n",
       "      <td>windows_ie</td>\n",
       "      <td>59.46.106.*</td>\n",
       "      <td>40</td>\n",
       "      <td>41</td>\n",
       "      <td>2.0</td>\n",
       "      <td>trqRTJn7O95I1mKYUV</td>\n",
       "      <td>625d1b5916ea925332c7b326c0574cfa</td>\n",
       "      <td>NaN</td>\n",
       "      <td>1720123646</td>\n",
       "      <td>250</td>\n",
       "      <td>250</td>\n",
       "      <td>2</td>\n",
       "      <td>0</td>\n",
       "      <td>5</td>\n",
       "      <td>798b2d49952d77f1eace9f23c210d0b5</td>\n",
       "      <td>238</td>\n",
       "      <td>24</td>\n",
       "      <td>0f951a030abdaedd733ee8d114ce2944</td>\n",
       "      <td>3427</td>\n",
       "      <td>10052,10006,13866,10110</td>\n",
       "    </tr>\n",
       "    <tr>\n",
       "      <th>3</th>\n",
       "      <td>0</td>\n",
       "      <td>6</td>\n",
       "      <td>23</td>\n",
       "      <td>0348beeae93e561584c3b50fc9e7746a33048ad7</td>\n",
       "      <td>0d6eaf2259699990e38a1fc5116f112070b9ecdc</td>\n",
       "      <td>windows_ie</td>\n",
       "      <td>114.250.226.*</td>\n",
       "      <td>1</td>\n",
       "      <td>1</td>\n",
       "      <td>1.0</td>\n",
       "      <td>5F97t5E0BTK7XhNrUMpENpn</td>\n",
       "      <td>dedc488b98ca20707bc9a723957e7d1f</td>\n",
       "      <td>NaN</td>\n",
       "      <td>mm_10027070_118039_10308280</td>\n",
       "      <td>160</td>\n",
       "      <td>600</td>\n",
       "      <td>2</td>\n",
       "      <td>1</td>\n",
       "      <td>0</td>\n",
       "      <td>cb7c76e7784031272e37af8e7e9b062c</td>\n",
       "      <td>300</td>\n",
       "      <td>25</td>\n",
       "      <td>bebefa5efe83beee17a3d245e7c5085b</td>\n",
       "      <td>1458</td>\n",
       "      <td>13866,10063,10111</td>\n",
       "    </tr>\n",
       "    <tr>\n",
       "      <th>4</th>\n",
       "      <td>0</td>\n",
       "      <td>5</td>\n",
       "      <td>6</td>\n",
       "      <td>268149c1789bce2bc9798ffd97ec431219bafeb3</td>\n",
       "      <td>a239d9bb642460d974ba67f85e63b8d3e214da0e</td>\n",
       "      <td>windows_ie</td>\n",
       "      <td>183.63.192.*</td>\n",
       "      <td>216</td>\n",
       "      <td>233</td>\n",
       "      <td>2.0</td>\n",
       "      <td>13625cb070ffb306b425cd803c4b7ab4</td>\n",
       "      <td>4199d1227c511fc776b76594dabff9f8</td>\n",
       "      <td>NaN</td>\n",
       "      <td>1120200150</td>\n",
       "      <td>728</td>\n",
       "      <td>90</td>\n",
       "      <td>OtherView</td>\n",
       "      <td>Na</td>\n",
       "      <td>133</td>\n",
       "      <td>7330</td>\n",
       "      <td>277</td>\n",
       "      <td>133</td>\n",
       "      <td>NaN</td>\n",
       "      <td>2259</td>\n",
       "      <td>NaN</td>\n",
       "    </tr>\n",
       "  </tbody>\n",
       "</table>\n",
       "</div>"
      ],
      "text/plain": [
       "   click  weekday  hour                                     bidid  \\\n",
       "0      0        5    22  b7bea80521fdecd95d2d761a38c91c3f09618066   \n",
       "1      0        1    20  4f51205475678f5a124bc76b2c54163bf8eaa7eb   \n",
       "2      0        3    13  b604e3fd054a658ab7ced4285ebf2ef54d2bd890   \n",
       "3      0        6    23  0348beeae93e561584c3b50fc9e7746a33048ad7   \n",
       "4      0        5     6  268149c1789bce2bc9798ffd97ec431219bafeb3   \n",
       "\n",
       "                                     userid       useragent             IP  \\\n",
       "0  2e880fb7d690cf7377b2e42e701728e3f3c0e4c1      windows_ie   125.37.175.*   \n",
       "1  3a1fe01360ff8100e7d006b83b77a3e4c01d928c  windows_chrome    171.36.92.*   \n",
       "2  801d18a056b6fe6b06a794aef17fb0d6daff2414      windows_ie    59.46.106.*   \n",
       "3  0d6eaf2259699990e38a1fc5116f112070b9ecdc      windows_ie  114.250.226.*   \n",
       "4  a239d9bb642460d974ba67f85e63b8d3e214da0e      windows_ie   183.63.192.*   \n",
       "\n",
       "   region  city  adexchange                            domain  \\\n",
       "0       2     2         2.0              trqRTvKaXTKfgg24JKTI   \n",
       "1     238   239         1.0  20fc675468712705dbf5d3eda94126da   \n",
       "2      40    41         2.0                trqRTJn7O95I1mKYUV   \n",
       "3       1     1         1.0           5F97t5E0BTK7XhNrUMpENpn   \n",
       "4     216   233         2.0  13625cb070ffb306b425cd803c4b7ab4   \n",
       "\n",
       "                                url  urlid                       slotid  \\\n",
       "0  6447a7dfa30fe6eb410c91860e7c9b45    NaN                   2015392487   \n",
       "1  3ddf173a94bd23c326683b6373c75dd4    NaN   mm_10982364_973726_8930541   \n",
       "2  625d1b5916ea925332c7b326c0574cfa    NaN                   1720123646   \n",
       "3  dedc488b98ca20707bc9a723957e7d1f    NaN  mm_10027070_118039_10308280   \n",
       "4  4199d1227c511fc776b76594dabff9f8    NaN                   1120200150   \n",
       "\n",
       "   slotwidth  slotheight slotvisibility slotformat  slotprice  \\\n",
       "0        200         200              2          0          5   \n",
       "1        300         250     FourthView         Na          0   \n",
       "2        250         250              2          0          5   \n",
       "3        160         600              2          1          0   \n",
       "4        728          90      OtherView         Na        133   \n",
       "\n",
       "                           creative  bidprice  payprice  \\\n",
       "0  a4f763f78ef3eedfe614263b94a8924e       238         5   \n",
       "1                             10722       294        23   \n",
       "2  798b2d49952d77f1eace9f23c210d0b5       238        24   \n",
       "3  cb7c76e7784031272e37af8e7e9b062c       300        25   \n",
       "4                              7330       277       133   \n",
       "\n",
       "                            keypage  advertiser                  usertag  \n",
       "0  0f951a030abdaedd733ee8d114ce2944        3427                      NaN  \n",
       "1                               NaN        2821                      NaN  \n",
       "2  0f951a030abdaedd733ee8d114ce2944        3427  10052,10006,13866,10110  \n",
       "3  bebefa5efe83beee17a3d245e7c5085b        1458        13866,10063,10111  \n",
       "4                               NaN        2259                      NaN  "
      ]
     },
     "execution_count": 8,
     "metadata": {},
     "output_type": "execute_result"
    }
   ],
   "source": [
    "train.head()"
   ]
  },
  {
   "cell_type": "code",
   "execution_count": 9,
   "metadata": {},
   "outputs": [],
   "source": [
    "#train.shape"
   ]
  },
  {
   "cell_type": "code",
   "execution_count": 10,
   "metadata": {},
   "outputs": [],
   "source": [
    "#valid.head()"
   ]
  },
  {
   "cell_type": "code",
   "execution_count": 11,
   "metadata": {},
   "outputs": [],
   "source": [
    "#valid.shape"
   ]
  },
  {
   "cell_type": "markdown",
   "metadata": {},
   "source": [
    "Testing set does not have click, bidprice and payprice"
   ]
  },
  {
   "cell_type": "markdown",
   "metadata": {},
   "source": [
    "# 2. Data Pre-Processing"
   ]
  },
  {
   "cell_type": "code",
   "execution_count": null,
   "metadata": {},
   "outputs": [],
   "source": [
    "def preprocess(data, enforce_cols=None):\n",
    "    ############### Handling useragent ################\n",
    "    useragent_data= data['useragent'].str.split(\"_\", n = 1, expand = True) \n",
    "    data['agent']= useragent_data[0] \n",
    "    data['browser']= useragent_data[1] \n",
    "    data.drop(columns =['useragent'], inplace = True) \n",
    "    \n",
    "    ############# Computing a New Varialbe: slotsize ###############\n",
    "    data['slotsize']=data.slotwidth*data.slotheight\n",
    "    \n",
    "    ############# Computing New Categorical Variables ###############\n",
    "    data.ix[data.hour.between(0, 3), 'hour_'] = 1\n",
    "    data.ix[data.hour.between(4, 7), 'hour_'] = 2\n",
    "    data.ix[data.hour.between(8, 11), 'hour_'] = 3\n",
    "    data.ix[data.hour.between(12, 15), 'hour_'] = 4\n",
    "    data.ix[data.hour.between(16, 19), 'hour_'] = 5\n",
    "    data.ix[data.hour.between(20, 23), 'hour_'] = 6\n",
    "    data['hour_'] = data['hour_'].astype(np.uint8)\n",
    "    \n",
    "    data.ix[data.slotprice.between(0, 18), 'slotprice_'] = 1\n",
    "    data.ix[data.slotprice.between(19, 67), 'slotprice_'] = 2\n",
    "    data.ix[data.slotprice.between(68, 309), 'slotprice_'] = 3\n",
    "    data.ix[data.slotprice.between(309, 1000000), 'slotprice_'] = 4\n",
    "    data['slotprice_'] = data['slotprice_'].astype(np.uint8)\n",
    "    \n",
    "    ############## Dummy Coding ####################\n",
    "    data = data.replace('Na',np.nan)\n",
    "    data_dummy = pd.get_dummies(data, columns=['weekday','region','city','adexchange',\n",
    "                                               'slotvisibility','slotformat','keypage',\n",
    "                                               'advertiser','agent','browser','slotsize','slotprice_','hour_'\n",
    "                                              ])\n",
    "\n",
    "    ############# Drop Unwanted Variables ################\n",
    "    data_dropped = data_dummy.drop(columns=['click','bidid', 'userid', 'IP','domain','url','urlid','slotid','bidprice',\n",
    "                                            'payprice','slotheight','slotwidth','slotprice','hour','creative'])\n",
    "    \n",
    "    ############ Fill in NaNs with 0s #############\n",
    "    data_na=data_dropped.fillna('0')\n",
    "    \n",
    "    ############ Handling usertag ################\n",
    "    # Create a dataframe spliting usertag into variables and count\n",
    "    usertag_= data_na.usertag.str.replace(',',' ')\n",
    "    vectorizer = CountVectorizer()\n",
    "    X = vectorizer.fit_transform(usertag_)\n",
    "    usertag_data = pd.DataFrame(data=X.toarray(), columns=vectorizer.get_feature_names())\n",
    "    # Combining the usertag dataframe with the original dataframe\n",
    "    data_final = pd.concat([data_na, usertag_data],sort=True,axis=1)\n",
    "    data_final = data_final.drop(columns=['usertag'])\n",
    "    \n",
    "    ###### Matching the number of variables in the validation set with the training set ######\n",
    "    #\"\"\"\"Reference: DrivenDataLabs, 2017, BENCHMARK FOR POVER-T TEST - PREDICTING POVERTY\n",
    "        #url: http://drivendata.co/blog/worldbank-poverty-benchmark/\"\"\"\"\n",
    "    if enforce_cols is not None:\n",
    "        drop = np.setdiff1d(data_final.columns, enforce_cols)\n",
    "        add = np.setdiff1d(enforce_cols, data_final.columns)\n",
    "\n",
    "        data_final.drop(drop, axis=1, inplace=True)\n",
    "        data_final = data_final.assign(**{c: 0 for c in add})\n",
    "    \n",
    "    print(data_final.shape)\n",
    "    \n",
    "    return data_final"
   ]
  },
  {
   "cell_type": "code",
   "execution_count": null,
   "metadata": {},
   "outputs": [],
   "source": [
    "train_new = preprocess(train)\n",
    "valid_new = preprocess(valid,enforce_cols=train_new.columns)\n",
    "valid_new = valid_new[train_new.columns]"
   ]
  },
  {
   "cell_type": "code",
   "execution_count": null,
   "metadata": {},
   "outputs": [],
   "source": [
    "y = train['click']\n",
    "y_val = valid['click']"
   ]
  },
  {
   "cell_type": "markdown",
   "metadata": {},
   "source": [
    "# 3. Train Model"
   ]
  },
  {
   "cell_type": "markdown",
   "metadata": {},
   "source": [
    "## 3.1 Treating imbalanced data"
   ]
  },
  {
   "cell_type": "code",
   "execution_count": null,
   "metadata": {},
   "outputs": [],
   "source": [
    "# Separate click and unclick\n",
    "resample_num = pd.to_numeric(train['click'])\n",
    "resample_data = pd.concat([resample_num, train_new],axis=1)\n",
    "\n",
    "df_majority = resample_data[resample_data.click==0]\n",
    "df_minority = resample_data[resample_data.click==1]\n",
    " \n",
    "# Downsample unclick\n",
    "size=int((len(y)-sum(y))*0.03)\n",
    "df_majority_downsampled = resample(df_majority, \n",
    "                                 replace=False,    # sample without replacement\n",
    "                                 n_samples=size,  # ratio\n",
    "                                 random_state=1) # reproducible results\n",
    "\n",
    "# Combine \n",
    "downsampled = pd.concat([df_majority_downsampled, df_minority])\n",
    " \n",
    "downsampled.click.value_counts()"
   ]
  },
  {
   "cell_type": "code",
   "execution_count": null,
   "metadata": {},
   "outputs": [],
   "source": [
    "# Separate into features and target variable\n",
    "y_new = downsampled.click\n",
    "x_new = downsampled.drop('click', axis=1)"
   ]
  },
  {
   "cell_type": "code",
   "execution_count": 11,
   "metadata": {},
   "outputs": [],
   "source": [
    "#print(y_new.shape)\n",
    "#print(x_new.shape)"
   ]
  },
  {
   "cell_type": "markdown",
   "metadata": {},
   "source": [
    "## 3.2 Logistic Regression"
   ]
  },
  {
   "cell_type": "code",
   "execution_count": 16,
   "metadata": {},
   "outputs": [
    {
     "name": "stdout",
     "output_type": "stream",
     "text": [
      "Area Under ROC Curve: 0.826\n"
     ]
    }
   ],
   "source": [
    "best_LR = LogisticRegression(penalty='l1', C=0.1, class_weight='unbalanced', random_state=3, solver='saga')\n",
    "\n",
    "best_LR.fit(x_new, y_new)\n",
    "\n",
    "y_valid_p = best_LR.predict_proba(valid_new)\n",
    "print('Area Under ROC Curve:',round(roc_auc_score(y_val, y_valid_p[:,1]),3))"
   ]
  },
  {
   "cell_type": "code",
   "execution_count": null,
   "metadata": {},
   "outputs": [],
   "source": [
    "#average CTR\n",
    "avgCTR = sum(y)/len(y)\n",
    "\n",
    "#validation pCTR\n",
    "pCTR_valid_before = y_valid_p[:,1]\n",
    "pCTR_valid = pCTR_valid_before / (pCTR_valid_before +(1-pCTR_valid_before)/0.03)"
   ]
  },
  {
   "cell_type": "code",
   "execution_count": 17,
   "metadata": {},
   "outputs": [
    {
     "data": {
      "image/png": "[encoded data removed]",
      "text/plain": [
       "<Figure size 432x288 with 1 Axes>"
      ]
     },
     "metadata": {
      "needs_background": "light"
     },
     "output_type": "display_data"
    }
   ],
   "source": [
    "fpr, tpr, thresholds = roc_curve(y_val, y_valid_p[:,1])\n",
    "plt.plot([0, 1], [0, 1], linestyle='--')\n",
    "plt.plot(fpr, tpr, marker='.')\n",
    "plt.show()"
   ]
  },
  {
   "cell_type": "markdown",
   "metadata": {},
   "source": [
    "## 3.3 Gradient Boosting Classifier (GBC)"
   ]
  },
  {
   "cell_type": "code",
   "execution_count": null,
   "metadata": {},
   "outputs": [],
   "source": [
    "gbc = ensemble.GradientBoostingClassifier(**{'n_estimators': 250, 'max_depth': 4, 'min_samples_split': 2,\n",
    "          'learning_rate': 0.05, 'loss': 'deviance'})\n",
    "gbc.fit(x_new, y_new)\n",
    "pred_y_gbc = gbc.predict_proba(valid_new)"
   ]
  },
  {
   "cell_type": "code",
   "execution_count": null,
   "metadata": {},
   "outputs": [],
   "source": [
    "auc1=roc_auc_score(y_val, pred_y_gbc[:,1])"
   ]
  },
  {
   "cell_type": "code",
   "execution_count": 22,
   "metadata": {},
   "outputs": [
    {
     "name": "stdout",
     "output_type": "stream",
     "text": [
      "0.8802152091227731\n"
     ]
    }
   ],
   "source": [
    "print(auc1)"
   ]
  },
  {
   "cell_type": "code",
   "execution_count": null,
   "metadata": {},
   "outputs": [],
   "source": [
    "#average CTR\n",
    "avgCTR = sum(y)/len(y)\n",
    "\n",
    "#validation pCTR\n",
    "pCTR_valid_gbc_before = pred_y_gbc[:,1]\n",
    "pCTR_valid_gbc = pCTR_valid_gbc_before / (pCTR_valid_gbc_before +(1-pCTR_valid_gbc_before)/0.03)"
   ]
  },
  {
   "cell_type": "code",
   "execution_count": 23,
   "metadata": {},
   "outputs": [
    {
     "data": {
      "image/png": "[encoded data removed]",
      "text/plain": [
       "<Figure size 432x288 with 1 Axes>"
      ]
     },
     "metadata": {
      "needs_background": "light"
     },
     "output_type": "display_data"
    }
   ],
   "source": [
    "fpr, tpr, thresholds = roc_curve(y_val, pred_y_gbc[:,1])\n",
    "plt.plot([0, 1], [0, 1], linestyle='--')\n",
    "plt.plot(fpr, tpr, marker='.')\n",
    "#plt.savefig('Q4.png',dpi=300)\n",
    "plt.show()"
   ]
  },
  {
   "cell_type": "code",
   "execution_count": 24,
   "metadata": {
    "collapsed": true
   },
   "outputs": [
    {
     "data": {
      "image/png": "[encoded data removed]",
      "text/plain": [
       "<Figure size 1224x288 with 2 Axes>"
      ]
     },
     "metadata": {
      "needs_background": "light"
     },
     "output_type": "display_data"
    }
   ],
   "source": [
    "fig, (ax1, ax2)=plt.subplots(1,2,figsize=(17,4))\n",
    "\n",
    "fpr, tpr, thresholds = roc_curve(y_val, y_valid_p[:,1])\n",
    "ax1.plot([0, 1], [0, 1], linestyle='--')\n",
    "ax1.plot(fpr, tpr, marker='.')\n",
    "ax1.set_title(\"ROC Curve for LR\")\n",
    "\n",
    "fpr1, tpr1, thresholds1 = roc_curve(y_val, pred_y_gbc[:,1])\n",
    "ax2.plot([0, 1], [0, 1], linestyle='--')\n",
    "ax2.plot(fpr1, tpr1, marker='.')\n",
    "ax2.set_title(\"ROC Curve for GBC\")\n",
    "plt.savefig('ROC ALL.png',dpi=300)\n",
    "plt.tight_layout()"
   ]
  },
  {
   "cell_type": "markdown",
   "metadata": {},
   "source": [
    "# 4. Bidding"
   ]
  },
  {
   "cell_type": "markdown",
   "metadata": {},
   "source": [
    "## 4.1 Bidding Mechanism"
   ]
  },
  {
   "cell_type": "code",
   "execution_count": 18,
   "metadata": {},
   "outputs": [],
   "source": [
    "def bidding(bidprice):\n",
    "    budget = 6250\n",
    "    imps = 0\n",
    "    click = 0\n",
    "    for i in range(0, len(valid)):\n",
    "        if budget < valid.payprice[i]/1000:\n",
    "            continue\n",
    "        if bidprice[i] >= valid.payprice[i]:\n",
    "            budget = budget - valid.payprice[i]/1000\n",
    "            imps += 1\n",
    "            if valid.click[i]==1:\n",
    "                click += 1\n",
    "    \n",
    "    click = click\n",
    "    imps = imps\n",
    "    CTR = click/imps\n",
    "    spend = 6250-budget\n",
    "    CPM = spend/imps\n",
    "    eCPC = spend/click\n",
    "    \n",
    "    return click, imps, spend, CTR, CPM, eCPC"
   ]
  },
  {
   "cell_type": "markdown",
   "metadata": {},
   "source": [
    "## 4.2  LR + Linear"
   ]
  },
  {
   "cell_type": "code",
   "execution_count": 26,
   "metadata": {},
   "outputs": [],
   "source": [
    "linear = pd.DataFrame(columns = ['Base_Bid','Imps','Click','Spend','CTR','CPM','eCPC'])\n",
    "iteration = 0\n",
    "for i in np.arange(3,300,3):\n",
    "    iteration += 1\n",
    "    base_bid = i\n",
    "    #linear strategy inputs to get bid price \n",
    "    bid = base_bid * pCTR_valid/avgCTR\n",
    "    #bidding mechanism\n",
    "    click, imps, spend, CTR, CPM, eCPC = bidding(bid)\n",
    "    #feeding data into a dataframe\n",
    "    linear.loc[iteration,'Base_Bid'] = base_bid\n",
    "    linear.loc[iteration,'Imps'] = imps\n",
    "    linear.loc[iteration,'Click'] = click\n",
    "    linear.loc[iteration,'Spend'] = round(spend,2)\n",
    "    linear.loc[iteration,'CTR'] = round(CTR,5)\n",
    "    linear.loc[iteration,'CPM'] = round(CPM*1000,2)\n",
    "    linear.loc[iteration,'eCPC'] = round(eCPC,2)"
   ]
  },
  {
   "cell_type": "code",
   "execution_count": 27,
   "metadata": {},
   "outputs": [
    {
     "data": {
      "text/html": [
       "<div>\n",
       "<style scoped>\n",
       "    .dataframe tbody tr th:only-of-type {\n",
       "        vertical-align: middle;\n",
       "    }\n",
       "\n",
       "    .dataframe tbody tr th {\n",
       "        vertical-align: top;\n",
       "    }\n",
       "\n",
       "    .dataframe thead th {\n",
       "        text-align: right;\n",
       "    }\n",
       "</style>\n",
       "<table border=\"1\" class=\"dataframe\">\n",
       "  <thead>\n",
       "    <tr style=\"text-align: right;\">\n",
       "      <th></th>\n",
       "      <th>Base_Bid</th>\n",
       "      <th>Imps</th>\n",
       "      <th>Click</th>\n",
       "      <th>Spend</th>\n",
       "      <th>CTR</th>\n",
       "      <th>CPM</th>\n",
       "      <th>eCPC</th>\n",
       "    </tr>\n",
       "  </thead>\n",
       "  <tbody>\n",
       "    <tr>\n",
       "      <th>1</th>\n",
       "      <td>3</td>\n",
       "      <td>2709</td>\n",
       "      <td>37</td>\n",
       "      <td>54.69</td>\n",
       "      <td>0.01366</td>\n",
       "      <td>20.19</td>\n",
       "      <td>1.48</td>\n",
       "    </tr>\n",
       "    <tr>\n",
       "      <th>2</th>\n",
       "      <td>6</td>\n",
       "      <td>6115</td>\n",
       "      <td>55</td>\n",
       "      <td>143.04</td>\n",
       "      <td>0.00899</td>\n",
       "      <td>23.39</td>\n",
       "      <td>2.6</td>\n",
       "    </tr>\n",
       "    <tr>\n",
       "      <th>3</th>\n",
       "      <td>9</td>\n",
       "      <td>10304</td>\n",
       "      <td>61</td>\n",
       "      <td>254.37</td>\n",
       "      <td>0.00592</td>\n",
       "      <td>24.69</td>\n",
       "      <td>4.17</td>\n",
       "    </tr>\n",
       "    <tr>\n",
       "      <th>4</th>\n",
       "      <td>12</td>\n",
       "      <td>14542</td>\n",
       "      <td>75</td>\n",
       "      <td>382.21</td>\n",
       "      <td>0.00516</td>\n",
       "      <td>26.28</td>\n",
       "      <td>5.1</td>\n",
       "    </tr>\n",
       "    <tr>\n",
       "      <th>5</th>\n",
       "      <td>15</td>\n",
       "      <td>18552</td>\n",
       "      <td>82</td>\n",
       "      <td>518.67</td>\n",
       "      <td>0.00442</td>\n",
       "      <td>27.96</td>\n",
       "      <td>6.33</td>\n",
       "    </tr>\n",
       "  </tbody>\n",
       "</table>\n",
       "</div>"
      ],
      "text/plain": [
       "  Base_Bid   Imps Click   Spend      CTR    CPM  eCPC\n",
       "1        3   2709    37   54.69  0.01366  20.19  1.48\n",
       "2        6   6115    55  143.04  0.00899  23.39   2.6\n",
       "3        9  10304    61  254.37  0.00592  24.69  4.17\n",
       "4       12  14542    75  382.21  0.00516  26.28   5.1\n",
       "5       15  18552    82  518.67  0.00442  27.96  6.33"
      ]
     },
     "execution_count": 27,
     "metadata": {},
     "output_type": "execute_result"
    }
   ],
   "source": [
    "linear.head()"
   ]
  },
  {
   "cell_type": "code",
   "execution_count": 28,
   "metadata": {},
   "outputs": [
    {
     "data": {
      "text/html": [
       "<div>\n",
       "<style scoped>\n",
       "    .dataframe tbody tr th:only-of-type {\n",
       "        vertical-align: middle;\n",
       "    }\n",
       "\n",
       "    .dataframe tbody tr th {\n",
       "        vertical-align: top;\n",
       "    }\n",
       "\n",
       "    .dataframe thead th {\n",
       "        text-align: right;\n",
       "    }\n",
       "</style>\n",
       "<table border=\"1\" class=\"dataframe\">\n",
       "  <thead>\n",
       "    <tr style=\"text-align: right;\">\n",
       "      <th></th>\n",
       "      <th>Base_Bid</th>\n",
       "      <th>Imps</th>\n",
       "      <th>Click</th>\n",
       "      <th>Spend</th>\n",
       "      <th>CTR</th>\n",
       "      <th>CPM</th>\n",
       "      <th>eCPC</th>\n",
       "    </tr>\n",
       "  </thead>\n",
       "  <tbody>\n",
       "    <tr>\n",
       "      <th>29</th>\n",
       "      <td>87</td>\n",
       "      <td>122027</td>\n",
       "      <td>157</td>\n",
       "      <td>5621.86</td>\n",
       "      <td>0.00129</td>\n",
       "      <td>46.07</td>\n",
       "      <td>35.81</td>\n",
       "    </tr>\n",
       "    <tr>\n",
       "      <th>30</th>\n",
       "      <td>90</td>\n",
       "      <td>125817</td>\n",
       "      <td>157</td>\n",
       "      <td>5858.79</td>\n",
       "      <td>0.00125</td>\n",
       "      <td>46.57</td>\n",
       "      <td>37.32</td>\n",
       "    </tr>\n",
       "    <tr>\n",
       "      <th>31</th>\n",
       "      <td>93</td>\n",
       "      <td>129471</td>\n",
       "      <td>157</td>\n",
       "      <td>6102.02</td>\n",
       "      <td>0.00121</td>\n",
       "      <td>47.13</td>\n",
       "      <td>38.87</td>\n",
       "    </tr>\n",
       "  </tbody>\n",
       "</table>\n",
       "</div>"
      ],
      "text/plain": [
       "   Base_Bid    Imps Click    Spend      CTR    CPM   eCPC\n",
       "29       87  122027   157  5621.86  0.00129  46.07  35.81\n",
       "30       90  125817   157  5858.79  0.00125  46.57  37.32\n",
       "31       93  129471   157  6102.02  0.00121  47.13  38.87"
      ]
     },
     "execution_count": 28,
     "metadata": {},
     "output_type": "execute_result"
    }
   ],
   "source": [
    "linear.iloc[np.where(linear.Click == linear.Click.max())[0]]"
   ]
  },
  {
   "cell_type": "markdown",
   "metadata": {},
   "source": [
    "## 4.3 GBC + Linear"
   ]
  },
  {
   "cell_type": "code",
   "execution_count": 53,
   "metadata": {},
   "outputs": [],
   "source": [
    "linear1 = pd.DataFrame(columns = ['Base_Bid','Imps','Click','Spend','CTR','CPM','eCPC'])\n",
    "iteration = 0\n",
    "for i in np.arange(3,300,3):\n",
    "    iteration += 1\n",
    "    base_bid = i\n",
    "    #linear strategy inputs to get bid price \n",
    "    bid = base_bid * pCTR_valid_gbc/avgCTR\n",
    "    #bidding mechanism\n",
    "    click, imps, spend, CTR, CPM, eCPC = bidding(bid)\n",
    "    #feeding data into a dataframe\n",
    "    linear1.loc[iteration,'Base_Bid'] = base_bid\n",
    "    linear1.loc[iteration,'Imps'] = imps\n",
    "    linear1.loc[iteration,'Click'] = click\n",
    "    linear1.loc[iteration,'Spend'] = round(spend,2)\n",
    "    linear1.loc[iteration,'CTR'] = round(CTR,5)\n",
    "    linear1.loc[iteration,'CPM'] = round(CPM*1000,2)\n",
    "    linear1.loc[iteration,'eCPC'] = round(eCPC,2)"
   ]
  },
  {
   "cell_type": "code",
   "execution_count": 54,
   "metadata": {},
   "outputs": [
    {
     "data": {
      "text/html": [
       "<div>\n",
       "<style scoped>\n",
       "    .dataframe tbody tr th:only-of-type {\n",
       "        vertical-align: middle;\n",
       "    }\n",
       "\n",
       "    .dataframe tbody tr th {\n",
       "        vertical-align: top;\n",
       "    }\n",
       "\n",
       "    .dataframe thead th {\n",
       "        text-align: right;\n",
       "    }\n",
       "</style>\n",
       "<table border=\"1\" class=\"dataframe\">\n",
       "  <thead>\n",
       "    <tr style=\"text-align: right;\">\n",
       "      <th></th>\n",
       "      <th>Base_Bid</th>\n",
       "      <th>Imps</th>\n",
       "      <th>Click</th>\n",
       "      <th>Spend</th>\n",
       "      <th>CTR</th>\n",
       "      <th>CPM</th>\n",
       "      <th>eCPC</th>\n",
       "    </tr>\n",
       "  </thead>\n",
       "  <tbody>\n",
       "    <tr>\n",
       "      <th>1</th>\n",
       "      <td>3</td>\n",
       "      <td>2699</td>\n",
       "      <td>74</td>\n",
       "      <td>72.87</td>\n",
       "      <td>0.02742</td>\n",
       "      <td>27</td>\n",
       "      <td>0.98</td>\n",
       "    </tr>\n",
       "    <tr>\n",
       "      <th>2</th>\n",
       "      <td>6</td>\n",
       "      <td>4965</td>\n",
       "      <td>83</td>\n",
       "      <td>135.23</td>\n",
       "      <td>0.01672</td>\n",
       "      <td>27.24</td>\n",
       "      <td>1.63</td>\n",
       "    </tr>\n",
       "    <tr>\n",
       "      <th>3</th>\n",
       "      <td>9</td>\n",
       "      <td>7880</td>\n",
       "      <td>83</td>\n",
       "      <td>206.23</td>\n",
       "      <td>0.01053</td>\n",
       "      <td>26.17</td>\n",
       "      <td>2.48</td>\n",
       "    </tr>\n",
       "    <tr>\n",
       "      <th>4</th>\n",
       "      <td>12</td>\n",
       "      <td>10665</td>\n",
       "      <td>87</td>\n",
       "      <td>279.17</td>\n",
       "      <td>0.00816</td>\n",
       "      <td>26.18</td>\n",
       "      <td>3.21</td>\n",
       "    </tr>\n",
       "    <tr>\n",
       "      <th>5</th>\n",
       "      <td>15</td>\n",
       "      <td>13656</td>\n",
       "      <td>93</td>\n",
       "      <td>363.26</td>\n",
       "      <td>0.00681</td>\n",
       "      <td>26.6</td>\n",
       "      <td>3.91</td>\n",
       "    </tr>\n",
       "  </tbody>\n",
       "</table>\n",
       "</div>"
      ],
      "text/plain": [
       "  Base_Bid   Imps Click   Spend      CTR    CPM  eCPC\n",
       "1        3   2699    74   72.87  0.02742     27  0.98\n",
       "2        6   4965    83  135.23  0.01672  27.24  1.63\n",
       "3        9   7880    83  206.23  0.01053  26.17  2.48\n",
       "4       12  10665    87  279.17  0.00816  26.18  3.21\n",
       "5       15  13656    93  363.26  0.00681   26.6  3.91"
      ]
     },
     "execution_count": 54,
     "metadata": {},
     "output_type": "execute_result"
    }
   ],
   "source": [
    "linear1.head()"
   ]
  },
  {
   "cell_type": "code",
   "execution_count": 55,
   "metadata": {},
   "outputs": [
    {
     "data": {
      "text/html": [
       "<div>\n",
       "<style scoped>\n",
       "    .dataframe tbody tr th:only-of-type {\n",
       "        vertical-align: middle;\n",
       "    }\n",
       "\n",
       "    .dataframe tbody tr th {\n",
       "        vertical-align: top;\n",
       "    }\n",
       "\n",
       "    .dataframe thead th {\n",
       "        text-align: right;\n",
       "    }\n",
       "</style>\n",
       "<table border=\"1\" class=\"dataframe\">\n",
       "  <thead>\n",
       "    <tr style=\"text-align: right;\">\n",
       "      <th></th>\n",
       "      <th>Base_Bid</th>\n",
       "      <th>Imps</th>\n",
       "      <th>Click</th>\n",
       "      <th>Spend</th>\n",
       "      <th>CTR</th>\n",
       "      <th>CPM</th>\n",
       "      <th>eCPC</th>\n",
       "    </tr>\n",
       "  </thead>\n",
       "  <tbody>\n",
       "    <tr>\n",
       "      <th>45</th>\n",
       "      <td>135</td>\n",
       "      <td>138249</td>\n",
       "      <td>162</td>\n",
       "      <td>6179.74</td>\n",
       "      <td>0.00117</td>\n",
       "      <td>44.7</td>\n",
       "      <td>38.15</td>\n",
       "    </tr>\n",
       "  </tbody>\n",
       "</table>\n",
       "</div>"
      ],
      "text/plain": [
       "   Base_Bid    Imps Click    Spend      CTR   CPM   eCPC\n",
       "45      135  138249   162  6179.74  0.00117  44.7  38.15"
      ]
     },
     "execution_count": 55,
     "metadata": {},
     "output_type": "execute_result"
    }
   ],
   "source": [
    "linear1.iloc[np.where(linear1.Click == linear1.Click.max())[0]]"
   ]
  },
  {
   "cell_type": "markdown",
   "metadata": {},
   "source": [
    "## ------------------ Comparison Between LR and GBC ----------------------"
   ]
  },
  {
   "cell_type": "code",
   "execution_count": 62,
   "metadata": {},
   "outputs": [
    {
     "data": {
      "image/png": "[encoded data removed]",
      "text/plain": [
       "<Figure size 1224x288 with 2 Axes>"
      ]
     },
     "metadata": {
      "needs_background": "light"
     },
     "output_type": "display_data"
    }
   ],
   "source": [
    "fig, (ax1, ax2)=plt.subplots(1,2, figsize = (17,4))\n",
    "ax1.plot(linear.Base_Bid,linear.Click,color='y',label='LR')\n",
    "ax1.set_ylabel('Clicks')\n",
    "ax1.set_xlabel('Base Bid')\n",
    "ax1.plot(linear1.Base_Bid, linear1.Click, color='c',label='GBC')\n",
    "ax1.legend()\n",
    "ax1.set_title(\"A1.Number of Clicks of Linear Strategy Using LR and GBC\")\n",
    "\n",
    "ax2.plot(linear.Base_Bid,linear.CTR,color='y',label='LR')\n",
    "ax2.set_ylabel('CTR')\n",
    "ax2.set_xlabel('Base Bid')\n",
    "ax2.plot(linear1.Base_Bid, linear1.CTR, color='c',label='GBC')\n",
    "ax2.legend()\n",
    "ax2.set_title(\"A2.CTR of Linear Strategy Using LR and GBC\")\n",
    "\n",
    "plt.tight_layout()\n",
    "plt.savefig('LRGBCLS.png',dpi=300)"
   ]
  }
 ],
 "metadata": {
  "kernelspec": {
   "display_name": "Python 3",
   "language": "python",
   "name": "python3"
  },
  "language_info": {
   "codemirror_mode": {
    "name": "ipython",
    "version": 3
   },
   "file_extension": ".py",
   "mimetype": "text/x-python",
   "name": "python",
   "nbconvert_exporter": "python",
   "pygments_lexer": "ipython3",
   "version": "3.6.6"
  }
 },
 "nbformat": 4,
 "nbformat_minor": 2
}
